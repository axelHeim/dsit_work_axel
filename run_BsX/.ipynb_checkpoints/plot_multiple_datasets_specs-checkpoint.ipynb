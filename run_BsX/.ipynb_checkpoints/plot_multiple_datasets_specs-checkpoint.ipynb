{
 "cells": [
  {
   "cell_type": "code",
   "execution_count": null,
   "metadata": {},
   "outputs": [],
   "source": [
    "import pandas as pd\n",
    "from pathlib import Path\n",
    "\n",
    "import math\n",
    "\n",
    "import sys\n",
    "# insert at 1, 0 is the script path (or '' in REPL)\n",
    "sys.path.insert(1, '/afs/desy.de/user/a/axelheim/private/run_BaumBauenNotebooks')\n",
    "\n",
    "\n",
    "\n",
    "from tb_to_csv import tabulate_metrics\n",
    "from plot_fcts import curve_plot, multi_metric_bar_plot"
   ]
  },
  {
   "cell_type": "code",
   "execution_count": null,
   "metadata": {},
   "outputs": [],
   "source": [
    "data_names = [\"TSD_BsX_15k_each_6trees_IDs\" ,\n",
    "\"TSD_BsX_15k_each_6trees_charge\" ,\n",
    "\"TSD_BsX_15k_each_6trees_IDs_charge\" ,\n",
    "\"TSD_BsX_15k_each_6trees_only4mom\" ]\n",
    "\n",
    "specs = [\"1024_0.001_128_0.3_8\"]"
   ]
  },
  {
   "cell_type": "code",
   "execution_count": null,
   "metadata": {},
   "outputs": [],
   "source": [
    "names = []\n",
    "perfSA = []\n",
    "SA_1F = []\n",
    "SA_2F = []\n",
    "SA_3F = []\n",
    "SA_bad = []\n",
    "max_acc = []\n",
    "\n",
    "for data_name in data_names:\n",
    "    for spec in specs:\n",
    "        plotname_extension = data_name + '_' + spec\n",
    "        \n",
    "        nfs_path = \"/nfs/dust/belle2/user/axelheim/BranchSeparator/run_BsX/\"\n",
    "\n",
    "        plot_path = \"/afs/desy.de/user/a/axelheim/private/run_BsX/\"\n",
    "        \n",
    "        \n",
    "        data_dir = Path((nfs_path + 'tb_logs/' + data_name + '/' + spec))\n",
    "        \n",
    "        csv_dir = Path((nfs_path + 'tb_csv/' + data_name + '/' + spec))\n",
    "        csv_dir.mkdir(parents=True, exist_ok=True)\n",
    "\n",
    "        plot_path = Path((plot_path + 'plots/' + data_name + '/' + spec))\n",
    "        plot_path.mkdir(parents=True, exist_ok=True)\n",
    "\n",
    "        tb_metrics = tabulate_metrics(data_dir, csv_dir)\n",
    "\n",
    "        \n",
    "        # choosing the tb_log with the most epochs recorded\n",
    "        epochs = []\n",
    "        for i in range(len(tb_metrics)):\n",
    "            epochs.append(len(tb_metrics[i]))\n",
    "            print(epochs[i])\n",
    "            \n",
    "        most_epochs_idx = 0\n",
    "        if len(tb_metrics) > 1:\n",
    "            most_epochs_idx = epochs.index(max(epochs))\n",
    "        \n",
    "        print(most_epochs_idx)\n",
    "        print(len(tb_metrics))\n",
    "        longest_run = tb_metrics[most_epochs_idx]\n",
    "        \n",
    "        \n",
    "        # the actual plots\n",
    "        # bar plot\n",
    "        steps = math.ceil(len(longest_run)/10)\n",
    "        steps = int(math.ceil(steps / 5.0)) * 5\n",
    "        multi_metric_bar_plot(longest_run, plot_path, ('barplot_metrics_' + plotname_extension), data_type=\"Validation\", step=steps, metric_type=\"SA\", title=plotname_extension)\n",
    "        \n",
    "        \n",
    "        # loss plot\n",
    "        loss_tr = longest_run['Cross Entropy/Training']\n",
    "        loss_val = longest_run['Cross Entropy/Validation']\n",
    "        curve_plot(loss_tr, loss_val, plot_path, ('loss_comparison_' + plotname_extension), 'Cross_Entropy', ('Loss / ' + plotname_extension))\n",
    "\n",
    "        # perfect SA plot\n",
    "        pLCA_tr = longest_run['PerfectSA/Training']\n",
    "        pLCA_val = longest_run['PerfectSA/Validation']\n",
    "        curve_plot(pLCA_tr, pLCA_val, plot_path, ('perfectSA_comparison_' + plotname_extension), 'PerfectSA', ('PerfectSA / ' + plotname_extension))\n",
    "        \n",
    "        \n",
    "        \n",
    "        names.append(plotname_extension)\n",
    "        \n",
    "        acc_all = longest_run[\"Accuracy/Validation\"]\n",
    "        idxmax = acc_all.idxmax()\n",
    "        max_acc.append(acc_all[idxmax])\n",
    "        perfSA.append(pLCA_val[idxmax])\n",
    "        SA_1F.append(longest_run[\"SA1F/Validation\"][idxmax])\n",
    "        SA_2F.append(longest_run[\"SA2F/Validation\"][idxmax])\n",
    "        SA_3F.append(longest_run[\"SA3F/Validation\"][idxmax])\n",
    "        SA_bad.append(longest_run[\"SAbad/Validation\"][idxmax])"
   ]
  },
  {
   "cell_type": "code",
   "execution_count": null,
   "metadata": {},
   "outputs": [],
   "source": [
    "names2 = [a[0:] for a in names]\n",
    "names2"
   ]
  },
  {
   "cell_type": "code",
   "execution_count": null,
   "metadata": {},
   "outputs": [],
   "source": [
    "max_acc2 = [round(a*100,2) for a in max_acc]\n",
    "\n",
    "bg_acc2 = [round(a*100,2) for a in bg_acc]\n",
    "Bsig_acc2 = [round(a*100,2) for a in Bsig_acc]\n",
    "Btag_acc2 = [round(a*100,2) for a in Btag_acc]\n",
    "\n",
    "perfSA2 = [round(a*100,2) for a in perfSA]\n",
    "SA_1F2 = [round(a*100,2) for a in SA_1F]\n",
    "SA_2F2 = [round(a*100,2) for a in SA_2F]\n",
    "SA_3F2 = [round(a*100,2) for a in SA_3F]\n",
    "SA_bad2 = [round(a*100,2) for a in SA_bad]"
   ]
  },
  {
   "cell_type": "code",
   "execution_count": null,
   "metadata": {},
   "outputs": [],
   "source": [
    "df = pd.DataFrame({\"vars\":names2, \"perfSA\":perfSA2,\"SA_1F\":SA_1F2,\"SA_2F\":SA_2F2,\"SA_3F\":SA_3F2,\n",
    "                   \"SA_bad\":SA_bad2,\"max_acc\":max_acc2, \n",
    "                   #\"bg_acc\":bg_acc2, \"Bsig_acc\": Bsig_acc2, \"Btag_acc\":Btag_acc2,\"epochs\":epochs_trained\n",
    "                  })"
   ]
  },
  {
   "cell_type": "code",
   "execution_count": null,
   "metadata": {},
   "outputs": [],
   "source": [
    "##  only Btag - bg\n",
    "df.sort_values(\"max_acc\", ascending=False)"
   ]
  }
 ],
 "metadata": {
  "kernelspec": {
   "display_name": "Python 3",
   "language": "python",
   "name": "python3"
  },
  "language_info": {
   "codemirror_mode": {
    "name": "ipython",
    "version": 3
   },
   "file_extension": ".py",
   "mimetype": "text/x-python",
   "name": "python",
   "nbconvert_exporter": "python",
   "pygments_lexer": "ipython3",
   "version": "3.6.8"
  }
 },
 "nbformat": 4,
 "nbformat_minor": 4
}
