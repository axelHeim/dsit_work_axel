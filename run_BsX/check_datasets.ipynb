{
 "cells": [
  {
   "cell_type": "code",
   "execution_count": 2,
   "metadata": {},
   "outputs": [],
   "source": [
    "import numpy as np\n",
    "from pathlib import Path"
   ]
  },
  {
   "cell_type": "code",
   "execution_count": 17,
   "metadata": {},
   "outputs": [],
   "source": [
    "run_folder = \"run_BsX/\"\n",
    "\n",
    "nfs_path = \"/nfs/dust/belle2/user/axelheim/BranchSeparator/\" + run_folder\n",
    "\n",
    "\n",
    "\n",
    "data_folder =  \"TSD_BsX_15k_each_6trees_IDs_charge\"\n",
    "top_dir = Path(nfs_path)\n",
    "dataset_dir = Path(nfs_path + 'data/' + data_folder)\n",
    "\n",
    "\n",
    "leaves = np.load(dataset_dir / 'leaves.npy')    \n",
    "is_left = np.load(dataset_dir / 'is_left_arr.npy')\n",
    "glob_tag = np.load(dataset_dir / 'global_tag.npy')"
   ]
  },
  {
   "cell_type": "code",
   "execution_count": 18,
   "metadata": {},
   "outputs": [
    {
     "name": "stdout",
     "output_type": "stream",
     "text": [
      "(90000, 12, 7)\n",
      "(90000, 12)\n",
      "(90000, 13)\n"
     ]
    }
   ],
   "source": [
    "print(leaves.shape)\n",
    "print(is_left.shape)\n",
    "print(glob_tag.shape)\n"
   ]
  },
  {
   "cell_type": "code",
   "execution_count": 19,
   "metadata": {},
   "outputs": [
    {
     "name": "stdout",
     "output_type": "stream",
     "text": [
      "leaves: \n",
      " [[  -56.27  -115.16   -97.77   161.2      0.       0.       0.05]\n",
      " [  426.43    62.01  1167.79  1252.61     1.       0.93     0.12]\n",
      " [  854.01  -567.81  1383.97  1722.53     0.       0.04     0.11]\n",
      " [ -516.16   206.47  -852.37  1027.22    -1.       0.98     0.05]\n",
      " [  -20.92  -542.17  -330.37   804.71     1.       0.08     1.  ]\n",
      " [   -1.      -1.      -1.      -1.      -1.      -1.      -1.  ]\n",
      " [  -15.16  -115.44    44.14   124.52     0.       0.       0.03]\n",
      " [   -1.      -1.      -1.      -1.      -1.      -1.      -1.  ]\n",
      " [   47.45   -15.53    19.1     53.45     0.       0.14     0.  ]\n",
      " [  -21.01   551.57   325.62   655.97    -1.       0.99     0.05]\n",
      " [ 1373.51 -1337.71  -429.09  2025.87    -1.       0.01     0.98]\n",
      " [   -1.      -1.      -1.      -1.      -1.      -1.      -1.  ]]\n",
      "is_left array: \n",
      " [ 1.  1.  1.  1.  2. -1.  1. -1.  2.  2.  0. -1.]\n",
      "glob_tag array: \n",
      " [b'gamma_s3' b'pi+_s1' b'gamma_s1' b'pi-_s2' b'BG_K+'\n",
      " b'pi-_s1_DELETED_theta' b'gamma_s4' b'K+_s1_DELETED_rand' b'BG_gamma'\n",
      " b'BG_pi-' b'K-_1' b'gamma_s2_DELETED_momCut' b'1']\n"
     ]
    }
   ],
   "source": [
    "np.set_printoptions(precision=2)\n",
    "np.set_printoptions(suppress=True)\n",
    "\n",
    "i = 2\n",
    "print(f\"leaves: \\n {leaves[i]}\")\n",
    "print(f\"is_left array: \\n {is_left[i]}\")\n",
    "print(f\"glob_tag array: \\n {glob_tag[i]}\")"
   ]
  },
  {
   "cell_type": "code",
   "execution_count": 20,
   "metadata": {},
   "outputs": [
    {
     "name": "stdout",
     "output_type": "stream",
     "text": [
      "4 4 4 4 4 4 4 4 4 4 4 4\n",
      "leaves: \n",
      " [[   -1.      -1.      -1.      -1.      -1.      -1.      -1.  ]\n",
      " [  259.81    21.67   215.2    365.9     -1.       0.95     0.01]\n",
      " [ 1306.01  1326.01   912.92  2077.74     1.       0.97     0.04]\n",
      " [ -634.92   -91.54  -145.95   657.88     0.       0.02     0.06]\n",
      " [   -1.      -1.      -1.      -1.      -1.      -1.      -1.  ]\n",
      " [   -1.      -1.      -1.      -1.      -1.      -1.      -1.  ]\n",
      " [ -991.5   -406.62  -205.34  1197.76     1.       0.07     0.97]\n",
      " [   -1.      -1.      -1.      -1.      -1.      -1.      -1.  ]\n",
      " [   82.35 -1018.44   981.61  1423.78    -1.       0.94     0.1 ]\n",
      " [ -483.15   268.09  -238.02   778.46    -1.       0.02     0.88]\n",
      " [  -33.86    15.91   -39.57    54.46     0.       0.02     0.01]\n",
      " [ 1255.37  -940.05   599.57  1684.86    -1.       0.91     0.07]]\n",
      "is_left array: \n",
      " [-1.  2.  1.  1. -1. -1.  1. -1.  1.  2.  1.  0.]\n",
      "glob_tag array: \n",
      " [b'-1' b'BG_pi-' b'pi+_s1' b'gamma_s1' b'-1' b'-1' b'K+_s1'\n",
      " b'pi-_1_DELETED_theta' b'pi-_s1' b'BG_K-' b'gamma_s2' b'pi-_2' b'4']\n",
      "\n",
      "\n",
      "\n",
      "\n",
      "\n",
      "3 3 3 3 3 3 3 3 3 3 3 3\n",
      "leaves: \n",
      " [[  29.55  -58.32  -36.93   75.09    0.      0.02    0.15]\n",
      " [-142.32 -605.73  234.45  664.93    0.      0.01    0.15]\n",
      " [  -1.     -1.     -1.     -1.     -1.     -1.     -1.  ]\n",
      " [  -1.     -1.     -1.     -1.     -1.     -1.     -1.  ]\n",
      " [ 671.63  340.61  997.47 1257.64   -1.      0.88    0.06]\n",
      " [  -1.     -1.     -1.     -1.     -1.     -1.     -1.  ]\n",
      " [-826.76  942.99 1154.14 1710.09   -1.      1.      0.03]\n",
      " [  -1.     -1.     -1.     -1.     -1.     -1.     -1.  ]\n",
      " [  -1.     -1.     -1.     -1.     -1.     -1.     -1.  ]\n",
      " [  -1.     -1.     -1.     -1.     -1.     -1.     -1.  ]\n",
      " [   5.48 -421.99  139.36  444.44    0.      0.08    0.07]\n",
      " [  -1.     -1.     -1.     -1.     -1.     -1.     -1.  ]]\n",
      "is_left array: \n",
      " [ 0.  1. -1. -1.  1. -1.  1. -1. -1. -1.  1. -1.]\n",
      "glob_tag array: \n",
      " [b'gamma_1' b'gamma_s1' b'-1' b'pi+_1_DELETED_theta' b'pi-_s2' b'-1'\n",
      " b'pi-_s1' b'gamma_2_DELETED_rand' b'-1' b'pi+_s1_DELETED_theta'\n",
      " b'gamma_s2' b'-1' b'3']\n",
      "\n",
      "\n",
      "\n",
      "\n",
      "\n",
      "1 1 1 1 1 1 1 1 1 1 1 1\n",
      "leaves: \n",
      " [[  -56.27  -115.16   -97.77   161.2      0.       0.       0.05]\n",
      " [  426.43    62.01  1167.79  1252.61     1.       0.93     0.12]\n",
      " [  854.01  -567.81  1383.97  1722.53     0.       0.04     0.11]\n",
      " [ -516.16   206.47  -852.37  1027.22    -1.       0.98     0.05]\n",
      " [  -20.92  -542.17  -330.37   804.71     1.       0.08     1.  ]\n",
      " [   -1.      -1.      -1.      -1.      -1.      -1.      -1.  ]\n",
      " [  -15.16  -115.44    44.14   124.52     0.       0.       0.03]\n",
      " [   -1.      -1.      -1.      -1.      -1.      -1.      -1.  ]\n",
      " [   47.45   -15.53    19.1     53.45     0.       0.14     0.  ]\n",
      " [  -21.01   551.57   325.62   655.97    -1.       0.99     0.05]\n",
      " [ 1373.51 -1337.71  -429.09  2025.87    -1.       0.01     0.98]\n",
      " [   -1.      -1.      -1.      -1.      -1.      -1.      -1.  ]]\n",
      "is_left array: \n",
      " [ 1.  1.  1.  1.  2. -1.  1. -1.  2.  2.  0. -1.]\n",
      "glob_tag array: \n",
      " [b'gamma_s3' b'pi+_s1' b'gamma_s1' b'pi-_s2' b'BG_K+'\n",
      " b'pi-_s1_DELETED_theta' b'gamma_s4' b'K+_s1_DELETED_rand' b'BG_gamma'\n",
      " b'BG_pi-' b'K-_1' b'gamma_s2_DELETED_momCut' b'1']\n",
      "\n",
      "\n",
      "\n",
      "\n",
      "\n",
      "0 0 0 0 0 0 0 0 0 0 0 0\n",
      "leaves: \n",
      " [[-167.01 -278.11 1327.17 1373.4     1.      0.99    0.01]\n",
      " [  -1.     -1.     -1.     -1.     -1.     -1.     -1.  ]\n",
      " [  -1.     -1.     -1.     -1.     -1.     -1.     -1.  ]\n",
      " [  84.31  -97.62   49.64  138.21    0.      0.03    0.  ]\n",
      " [  -1.     -1.     -1.     -1.     -1.     -1.     -1.  ]\n",
      " [  -1.     -1.     -1.     -1.     -1.     -1.     -1.  ]\n",
      " [-693.91  416.53  675.83 1063.65    1.      0.97    0.03]\n",
      " [  -1.     -1.     -1.     -1.     -1.     -1.     -1.  ]\n",
      " [  34.16 -324.73 1346.43 1385.46    0.      0.02    0.02]\n",
      " [  -1.     -1.     -1.     -1.     -1.     -1.     -1.  ]\n",
      " [ -86.38  108.8   372.73  421.69    1.      0.98    0.04]\n",
      " [ 664.67  263.4  1840.73 2035.55   -1.      0.09    0.7 ]]\n",
      "is_left array: \n",
      " [ 0. -1. -1.  2. -1. -1.  1. -1.  0. -1.  1.  1.]\n",
      "glob_tag array: \n",
      " [b'pi+_1' b'-1' b'gamma_1_DELETED_theta' b'BG_gamma' b'K-_s1_DELETED_rand'\n",
      " b'-1' b'pi+_s2' b'-1' b'gamma_2' b'-1_DELETED_rand' b'pi+_s1' b'K-_s2'\n",
      " b'0']\n",
      "\n",
      "\n",
      "\n",
      "\n",
      "\n",
      "5 5 5 5 5 5 5 5 5 5 5 5\n",
      "leaves: \n",
      " [[   -1.      -1.      -1.      -1.      -1.      -1.      -1.  ]\n",
      " [ 1495.07  -914.3    436.37  1811.4      1.       0.98     0.01]\n",
      " [ -343.38   132.87  -399.02   734.04     1.       0.       0.95]\n",
      " [  468.76  -200.97   344.65   631.28     1.       0.96     0.01]\n",
      " [ -288.59   327.7     83.97   664.65     1.       0.01     0.94]\n",
      " [  547.91   571.81 -1545.6   1742.31    -1.       0.96     0.12]\n",
      " [   -1.      -1.      -1.      -1.      -1.      -1.      -1.  ]\n",
      " [ -325.54   -88.13  -667.96   761.26    -1.       0.87     0.  ]\n",
      " [ -129.24    61.99    33.52   147.21     0.       0.07     0.02]\n",
      " [  134.71  -458.94   243.68   554.75    -1.       0.91     0.24]\n",
      " [ -793.07   857.99  1285.82  1742.99     1.       0.89     0.03]\n",
      " [   -1.      -1.      -1.      -1.      -1.      -1.      -1.  ]]\n",
      "is_left array: \n",
      " [-1.  1.  2.  2.  1.  0. -1.  1.  2.  1.  1. -1.]\n",
      "glob_tag array: \n",
      " [b'-1' b'pi+_s1' b'BG_K+' b'BG_pi+' b'K+_s1' b'pi-_1' b'-1' b'pi-_s1'\n",
      " b'BG_gamma' b'pi-_s2' b'pi+_s2' b'-1' b'5']\n",
      "\n",
      "\n",
      "\n",
      "\n",
      "\n",
      "2 2 2 2 2 2 2 2 2 2 2 2\n",
      "leaves: \n",
      " [[   -1.      -1.      -1.      -1.      -1.      -1.      -1.  ]\n",
      " [   -1.      -1.      -1.      -1.      -1.      -1.      -1.  ]\n",
      " [-2294.71  -440.57   481.96  2389.91    -1.       1.       0.08]\n",
      " [   -1.      -1.      -1.      -1.      -1.      -1.      -1.  ]\n",
      " [  193.6    -48.93   -60.39   208.62     0.       0.02     0.  ]\n",
      " [ 1971.89  -427.55  1012.98  2311.13    -1.       0.02     0.95]\n",
      " [   -1.      -1.      -1.      -1.      -1.      -1.      -1.  ]\n",
      " [ -184.11 -1534.55   706.95  1705.32     1.       0.93     0.03]\n",
      " [   -1.      -1.      -1.      -1.      -1.      -1.      -1.  ]\n",
      " [  185.31   677.94    -2.74   716.62     1.       0.96     0.12]\n",
      " [   -1.      -1.      -1.      -1.      -1.      -1.      -1.  ]\n",
      " [   -1.      -1.      -1.      -1.      -1.      -1.      -1.  ]]\n",
      "is_left array: \n",
      " [-1. -1.  1. -1.  1.  1. -1.  0. -1.  1. -1. -1.]\n",
      "glob_tag array: \n",
      " [b'-1' b'pi+_2_DELETED_rand' b'pi-_s1' b'-1' b'gamma_s1' b'K-_s1' b'-1'\n",
      " b'pi+_1' b'-1' b'pi+_s1' b'-1' b'-1' b'2']\n",
      "\n",
      "\n",
      "\n",
      "\n",
      "\n"
     ]
    }
   ],
   "source": [
    "print_arr = [0,0,0,0,0,0]\n",
    "i = 0\n",
    "while sum(print_arr) < 6:\n",
    "    mode = int(str(glob_tag[i,-1])[2])\n",
    "    \n",
    "    if print_arr[mode] == 0:\n",
    "        print_arr[mode] = 1\n",
    "        \n",
    "        print(mode,mode,mode,mode,mode,mode,mode,mode,mode,mode,mode,mode)\n",
    "        print(f\"leaves: \\n {leaves[i]}\")\n",
    "        print(f\"is_left array: \\n {is_left[i]}\")\n",
    "        print(f\"glob_tag array: \\n {glob_tag[i]}\")\n",
    "        print(\"\\n\\n\\n\\n\")\n",
    "        \n",
    "    i += 1\n",
    "        \n"
   ]
  },
  {
   "cell_type": "code",
   "execution_count": 7,
   "metadata": {},
   "outputs": [
    {
     "data": {
      "text/plain": [
       "0"
      ]
     },
     "execution_count": 7,
     "metadata": {},
     "output_type": "execute_result"
    }
   ],
   "source": [
    "print_arr = [0,0,0,0,0,0]\n",
    "\n",
    "sum(print_arr)"
   ]
  },
  {
   "cell_type": "code",
   "execution_count": 14,
   "metadata": {},
   "outputs": [
    {
     "data": {
      "text/plain": [
       "1"
      ]
     },
     "execution_count": 14,
     "metadata": {},
     "output_type": "execute_result"
    }
   ],
   "source": []
  }
 ],
 "metadata": {
  "kernelspec": {
   "display_name": "Python 3",
   "language": "python",
   "name": "python3"
  },
  "language_info": {
   "codemirror_mode": {
    "name": "ipython",
    "version": 3
   },
   "file_extension": ".py",
   "mimetype": "text/x-python",
   "name": "python",
   "nbconvert_exporter": "python",
   "pygments_lexer": "ipython3",
   "version": "3.6.8"
  }
 },
 "nbformat": 4,
 "nbformat_minor": 4
}
