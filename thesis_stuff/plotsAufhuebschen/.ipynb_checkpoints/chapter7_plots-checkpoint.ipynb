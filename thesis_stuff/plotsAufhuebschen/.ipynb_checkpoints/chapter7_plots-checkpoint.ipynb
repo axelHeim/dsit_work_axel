{
 "cells": [
  {
   "cell_type": "code",
   "execution_count": 2,
   "id": "25216d2e",
   "metadata": {},
   "outputs": [],
   "source": [
    "import numpy as np\n",
    "import pandas as pd\n",
    "from pathlib import Path\n",
    "import matplotlib as mpl\n",
    "import matplotlib.pyplot as plt\n",
    "import math\n"
   ]
  },
  {
   "cell_type": "code",
   "execution_count": null,
   "id": "45424853",
   "metadata": {},
   "outputs": [],
   "source": []
  },
  {
   "cell_type": "code",
   "execution_count": null,
   "id": "c58c0861",
   "metadata": {},
   "outputs": [],
   "source": []
  },
  {
   "cell_type": "code",
   "execution_count": null,
   "id": "11bcdda9",
   "metadata": {},
   "outputs": [],
   "source": []
  },
  {
   "cell_type": "code",
   "execution_count": null,
   "id": "994cadd1",
   "metadata": {},
   "outputs": [],
   "source": []
  },
  {
   "cell_type": "code",
   "execution_count": 3,
   "id": "407258f8",
   "metadata": {},
   "outputs": [],
   "source": [
    "# original notebook\n",
    "# https://naf-jhub.desy.de/user/axelheim/notebooks/private/baumbauen/notebooks/40.7_ah_svenjasCuts_bg_analysis.ipynb"
   ]
  },
  {
   "cell_type": "code",
   "execution_count": null,
   "id": "93062a1b",
   "metadata": {},
   "outputs": [],
   "source": []
  },
  {
   "cell_type": "code",
   "execution_count": 4,
   "id": "7670916b",
   "metadata": {},
   "outputs": [],
   "source": [
    "nfs_path = \"/nfs/dust/belle2/user/axelheim/thesisPlots_data/\"\n",
    "#corrects_perEvent.to_csv(nfs_path +  \"corrects_perEvent.csv\")\n",
    "corrects_perEvent = pd.read_csv(nfs_path +  \"corrects_perEvent.csv\")"
   ]
  },
  {
   "cell_type": "code",
   "execution_count": null,
   "id": "9311a607",
   "metadata": {},
   "outputs": [],
   "source": []
  },
  {
   "cell_type": "code",
   "execution_count": 7,
   "id": "645f8406",
   "metadata": {},
   "outputs": [
    {
     "data": {
      "image/png": "[encoded data removed]",
      "text/plain": [
       "<Figure size 576x360 with 1 Axes>"
      ]
     },
     "metadata": {
      "needs_background": "light"
     },
     "output_type": "display_data"
    }
   ],
   "source": [
    "fig, ax = plt.subplots()\n",
    "\n",
    "#bins = np.linspace(0, 1.25, 40)\n",
    "bins = np.linspace(0, 2.5, 40)\n",
    "\n",
    "#fig.suptitle(r'{}'.format(\"summed_wrongPred_p\"))\n",
    "fig.set_size_inches(8, 5)\n",
    "\n",
    "ax.set_xlabel(r'summed wrongly assigned momentum / GeV')\n",
    "ax.set_ylabel(\"number of events\")\n",
    "\n",
    "for i in range(1,5):\n",
    "    tmp = corrects_perEvent[corrects_perEvent['num errors']==i]\n",
    "    N = tmp.shape[0]\n",
    "    ax.hist(tmp[\"summed_wrongPred_p\"],\n",
    "            bins=bins,\n",
    "            density=False, alpha=0.8, label=('{} prediction error per event'.format(i)),histtype='step')\n",
    "\n",
    "ax.legend()\n",
    "\n",
    "plt.grid()\n",
    "plt.savefig('plots/summed_wrongPred_p_svenjasCutsRUN2_oneBG_Btag_histogram.pdf')\n",
    "#plt.show()\n"
   ]
  },
  {
   "cell_type": "code",
   "execution_count": null,
   "id": "d30af243",
   "metadata": {},
   "outputs": [],
   "source": []
  }
 ],
 "metadata": {
  "kernelspec": {
   "display_name": "Python 3",
   "language": "python",
   "name": "python3"
  },
  "language_info": {
   "codemirror_mode": {
    "name": "ipython",
    "version": 3
   },
   "file_extension": ".py",
   "mimetype": "text/x-python",
   "name": "python",
   "nbconvert_exporter": "python",
   "pygments_lexer": "ipython3",
   "version": "3.6.8"
  }
 },
 "nbformat": 4,
 "nbformat_minor": 5
}
