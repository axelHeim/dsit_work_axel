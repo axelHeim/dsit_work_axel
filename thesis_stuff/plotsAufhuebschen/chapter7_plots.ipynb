{
 "cells": [
  {
   "cell_type": "code",
   "execution_count": 1,
   "id": "cbc36f81",
   "metadata": {},
   "outputs": [],
   "source": [
    "import numpy as np\n",
    "import pandas as pd\n",
    "from pathlib import Path\n",
    "import matplotlib as mpl\n",
    "import matplotlib.pyplot as plt\n",
    "import math\n",
    "\n",
    "\n",
    "import sys\n",
    "sys.path.insert(1, '/afs/desy.de/user/a/axelheim/private/MC_studies/Dstlnu_Bt_generic/util_funcs/')\n",
    "from pandas_colFuncs_physicsVars_caupi import Mbc_Btag, MM2recoilSignalSide, deltaE\n",
    "\n",
    "from pandas_plotfuncs import plot_histos_pandas_df, df_call "
   ]
  },
  {
   "cell_type": "code",
   "execution_count": null,
   "id": "74d6f769",
   "metadata": {},
   "outputs": [],
   "source": []
  },
  {
   "cell_type": "code",
   "execution_count": null,
   "id": "1cf7fdb8",
   "metadata": {},
   "outputs": [],
   "source": []
  },
  {
   "cell_type": "code",
   "execution_count": null,
   "id": "e0f7f593",
   "metadata": {},
   "outputs": [],
   "source": []
  },
  {
   "cell_type": "code",
   "execution_count": null,
   "id": "2773d3e6",
   "metadata": {},
   "outputs": [],
   "source": []
  },
  {
   "cell_type": "code",
   "execution_count": 2,
   "id": "f59284ee",
   "metadata": {},
   "outputs": [],
   "source": [
    "# original notebook\n",
    "# https://naf-jhub.desy.de/user/axelheim/notebooks/private/baumbauen/notebooks/40.7_ah_svenjasCuts_bg_analysis.ipynb"
   ]
  },
  {
   "cell_type": "code",
   "execution_count": null,
   "id": "35c05021",
   "metadata": {},
   "outputs": [],
   "source": []
  },
  {
   "cell_type": "code",
   "execution_count": 3,
   "id": "8c9e1fd1",
   "metadata": {},
   "outputs": [],
   "source": [
    "nfs_path = \"/nfs/dust/belle2/user/axelheim/thesisPlots_data/\"\n",
    "#corrects_perEvent.to_csv(nfs_path +  \"corrects_perEvent.csv\")\n",
    "corrects_perEvent = pd.read_csv(nfs_path +  \"corrects_perEvent.csv\")"
   ]
  },
  {
   "cell_type": "code",
   "execution_count": null,
   "id": "b9beefbe",
   "metadata": {},
   "outputs": [],
   "source": []
  },
  {
   "cell_type": "code",
   "execution_count": 4,
   "id": "53504420",
   "metadata": {},
   "outputs": [],
   "source": [
    "fig, ax = plt.subplots()\n",
    "\n",
    "#bins = np.linspace(0, 1.25, 40)\n",
    "bins = np.linspace(0, 2.5, 40)\n",
    "\n",
    "#fig.suptitle(r'{}'.format(\"summed_wrongPred_p\"))\n",
    "fig.set_size_inches(8, 5)\n",
    "\n",
    "ax.set_xlabel(r'summed wrongly assigned momentum / GeV')\n",
    "ax.set_ylabel(\"number of events\")\n",
    "\n",
    "for i in range(1,5):\n",
    "    tmp = corrects_perEvent[corrects_perEvent['num errors']==i]\n",
    "    N = tmp.shape[0]\n",
    "    ax.hist(tmp[\"summed_wrongPred_p\"],\n",
    "            bins=bins,\n",
    "            density=False, alpha=0.8, label=('{} prediction error per event'.format(i)),histtype='step')\n",
    "\n",
    "ax.legend()\n",
    "\n",
    "plt.grid()\n",
    "plt.savefig('plots/summed_wrongPred_p_svenjasCutsRUN2_oneBG_Btag_histogram.pdf')\n",
    "#plt.show()\n"
   ]
  },
  {
   "cell_type": "code",
   "execution_count": null,
   "id": "42f4bfb5",
   "metadata": {},
   "outputs": [],
   "source": []
  },
  {
   "cell_type": "code",
   "execution_count": null,
   "id": "394c2c78",
   "metadata": {},
   "outputs": [],
   "source": []
  },
  {
   "cell_type": "code",
   "execution_count": 5,
   "id": "da62de65",
   "metadata": {},
   "outputs": [],
   "source": [
    "fourMom_summed_preds = pd.read_csv(nfs_path +  \"fourMom_summed_preds_chapter7.csv\")"
   ]
  },
  {
   "cell_type": "code",
   "execution_count": 6,
   "id": "0c046290",
   "metadata": {},
   "outputs": [
    {
     "data": {
      "text/plain": [
       "Index(['Unnamed: 0', 'Unnamed: 0.1', 'event', 'frac. correct FSPs',\n",
       "       'num corr preds', 'numFSPs', 'px_summed_bg', 'py_summed_bg',\n",
       "       'pz_summed_bg', 'E_summed_bg', 'CMSpx_summed_bg', 'CMSpy_summed_bg',\n",
       "       'CMSpz_summed_bg', 'CMSE_summed_bg', 'px_summed_X', 'py_summed_X',\n",
       "       'pz_summed_X', 'E_summed_X', 'CMSpx_summed_X', 'CMSpy_summed_X',\n",
       "       'CMSpz_summed_X', 'CMSE_summed_X', 'Bsig_px', 'Bsig_py', 'Bsig_pz',\n",
       "       'Bsig_E', 'CMSpx_summed_Bs', 'CMSpy_summed_Bs', 'CMSpz_summed_Bs',\n",
       "       'CMSE_summed_Bs', 'num errors', 'Mbc_Btag', 'MM2recoilSignalSide',\n",
       "       'deltaE'],\n",
       "      dtype='object')"
      ]
     },
     "execution_count": 6,
     "metadata": {},
     "output_type": "execute_result"
    }
   ],
   "source": [
    "fourMom_summed_preds.keys()"
   ]
  },
  {
   "cell_type": "code",
   "execution_count": 7,
   "id": "0763557f",
   "metadata": {},
   "outputs": [],
   "source": [
    "bins = np.linspace(-9,9, 50)\n",
    "plot_histos_pandas_df(fourMom_summed_preds,\"MM2recoilSignalSide\",bins,True,'',\n",
    "                      r'$m_{miss}^2$ / GeV$^2$',\n",
    "                      \"fraction of events\",'plots/svenjasCutsRUN2_oneBG_Btag_MM2recoilSignalSide_MbcCut_5.00GeV.pdf',\n",
    "                      filter_col='Mbc_Btag',greater_than=5.00)"
   ]
  },
  {
   "cell_type": "code",
   "execution_count": null,
   "id": "1d94ba67",
   "metadata": {},
   "outputs": [],
   "source": []
  },
  {
   "cell_type": "code",
   "execution_count": 8,
   "id": "19d8d914",
   "metadata": {},
   "outputs": [],
   "source": [
    "import pylab\n",
    "\n",
    "tick_factor = 100.0\n",
    "\n",
    "def numfmt(x, pos): # your custom formatter function: divide by 100.0\n",
    "    s = '{}'.format(x / tick_factor)\n",
    "    return s\n",
    "\n",
    "import matplotlib.ticker as tkr     # has classes for tick-locating and -formatting\n",
    "\n",
    "\n",
    "fontsize = 16\n",
    "def plot_histos_pandas_df2(df,col_name,bins,density,title,xlabel,ylabel,save_path,legendpos=\"right\",filter_col='',greater_than=0):\n",
    "    figsize=(16,10)\n",
    "    plt.rcParams.update({'font.size': 13})\n",
    "\n",
    "    fig, ax = plt.subplots()\n",
    "\n",
    "    fig.set_size_inches(figsize)\n",
    "    colors = ['b', 'g', 'r', 'y', 'm', 'c', 'k']\n",
    "\n",
    "    fig.suptitle(title)\n",
    "    ax.set_xlabel(xlabel, fontsize=fontsize)\n",
    "    ax.set_ylabel(ylabel, fontsize=fontsize)\n",
    "    \n",
    "    \n",
    "    ax.tick_params(axis='both', which='major', labelsize=fontsize)\n",
    "    ax.tick_params(axis='both', which='minor', labelsize=fontsize)\n",
    "\n",
    "    yfmt = tkr.FuncFormatter(numfmt)    # create your custom formatter function\n",
    "\n",
    "    # your existing code can be inserted here\n",
    "\n",
    "    pylab.gca().yaxis.set_major_formatter(yfmt)\n",
    "    \n",
    "    df_tmp = df_call(df,col_name,filter_col,greater_than)\n",
    "    mean_all = round(df_tmp.mean(),2)\n",
    "    std_all = round(df_tmp.std(),2)\n",
    "    num_all = df_tmp.shape[0]\n",
    "\n",
    "    n, bins, patches = ax.hist(df[col_name],\n",
    "            bins=bins,\n",
    "            density=density, alpha=0.0,histtype='step')\n",
    "\n",
    "    elem = np.argmax(n)\n",
    "    peak = round((bins[elem] + bins[elem+1])/2.,2)\n",
    "\n",
    "    \n",
    "    ax.hist(df_tmp,\n",
    "            bins=bins,  \n",
    "            density=density, alpha=0.5, label=(r'all, $\\overline{x}$='+ str(mean_all) + ' GeV' + ', std='+ str(std_all) + ' GeV'  + \n",
    "                                               ', peak='+str(peak) + ' GeV' ),color=colors[0],histtype='step')\n",
    "            #density=density, alpha=0.5, label=(r'all, $\\overline{x}$='+ str(mean_all) + ', std='+ str(std_all) + \n",
    "                                               #', peak='+str(peak)+', N='+str(num_all)),color=colors[0],histtype='step')\n",
    "\n",
    "\n",
    "    for i in range(3):\n",
    "        df_tmp = df_call(df,col_name,filter_col,greater_than,filter_errors=True,error=i)\n",
    "        mean_filter = round(df_tmp.mean(),2)\n",
    "        std_filter = round(df_tmp.std(),2)\n",
    "        num_filter = df_tmp.shape[0]\n",
    "        \n",
    "        n, bins, patches = ax.hist(df_tmp,\n",
    "            bins=bins,\n",
    "            density=density, alpha=0.0,histtype='step')\n",
    "\n",
    "        elem = np.argmax(n)\n",
    "        peak_filter = round((bins[elem] + bins[elem+1])/2.,2)\n",
    "\n",
    "\n",
    "        ax.hist(df_tmp,\n",
    "                bins=bins,\n",
    "                density=density, alpha=0.5, label=(str(i) + r' errors, $\\overline{x}$='+ str(mean_filter) + ' GeV'  + \n",
    "                        ', std='+ str(std_filter) + ' GeV'  + ', peak='+str(peak_filter) + ' GeV')\n",
    "                ,color=colors[i+1],histtype='step')\n",
    "\n",
    "                #', std='+ str(std_filter) + ' GeV'  + ', peak='+str(peak_filter) + ' GeV' +', N='+str(num_filter) )\n",
    "                #,color=colors[i+1],histtype='step')\n",
    "\n",
    "\n",
    "    \n",
    "    #from matplotlib.ticker import FormatStrFormatter\n",
    "    #ax.yaxis.set_major_formatter(FormatStrFormatter('%.2f'))\n",
    "\n",
    "\n",
    "    ax.legend(loc=f'upper {legendpos}')\n",
    "\n",
    "    plt.savefig(save_path)"
   ]
  },
  {
   "cell_type": "code",
   "execution_count": 9,
   "id": "76eb81ee",
   "metadata": {},
   "outputs": [],
   "source": [
    "bins = np.linspace(4.7,5.3, 50)\n",
    "plot_histos_pandas_df2(fourMom_summed_preds,\"Mbc_Btag\",bins,True,'',r'$M_{bc}$ / GeV',\n",
    "                      \"fraction of events\",'plots/svenjasCutsRUN2_oneBG_Btag_Mbc_Btag.pdf',legendpos=\"left\")"
   ]
  },
  {
   "cell_type": "code",
   "execution_count": null,
   "id": "a12a4e7d",
   "metadata": {},
   "outputs": [],
   "source": []
  },
  {
   "cell_type": "code",
   "execution_count": null,
   "id": "4a49c7b8",
   "metadata": {},
   "outputs": [],
   "source": []
  }
 ],
 "metadata": {
  "kernelspec": {
   "display_name": "Python 3",
   "language": "python",
   "name": "python3"
  },
  "language_info": {
   "codemirror_mode": {
    "name": "ipython",
    "version": 3
   },
   "file_extension": ".py",
   "mimetype": "text/x-python",
   "name": "python",
   "nbconvert_exporter": "python",
   "pygments_lexer": "ipython3",
   "version": "3.6.8"
  }
 },
 "nbformat": 4,
 "nbformat_minor": 5
}
