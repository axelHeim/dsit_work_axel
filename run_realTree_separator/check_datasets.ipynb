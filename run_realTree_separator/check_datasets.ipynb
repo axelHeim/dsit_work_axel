{
 "cells": [
  {
   "cell_type": "code",
   "execution_count": 1,
   "metadata": {},
   "outputs": [],
   "source": [
    "import numpy as np\n",
    "from pathlib import Path"
   ]
  },
  {
   "cell_type": "code",
   "execution_count": 2,
   "metadata": {},
   "outputs": [],
   "source": [
    "run_folder = \"run_realTree_separator/\"\n",
    "\n",
    "nfs_path = \"/nfs/dust/belle2/user/axelheim/BranchSeparator/\" + run_folder\n",
    "\n",
    "\n",
    "#data_folder = \"50k_realTree_clean\"\n",
    "#data_folder =  \"50k_realTree_charge\" \n",
    "#data_folder =  \"50k_realTree_IDs\" \n",
    "#data_folder =  \"50k_realTree_IDs_charge\" \n",
    "data_folder =  \"multiModes_firstRun_10k_each_5trees_charge_noSmear\"\n",
    "top_dir = Path(nfs_path)\n",
    "dataset_dir = Path(nfs_path + 'data/' + data_folder)\n",
    "\n",
    "\n",
    "leaves = np.load(dataset_dir / 'leaves.npy')    \n",
    "is_left = np.load(dataset_dir / 'is_left_arr.npy')   "
   ]
  },
  {
   "cell_type": "code",
   "execution_count": 3,
   "metadata": {},
   "outputs": [
    {
     "name": "stdout",
     "output_type": "stream",
     "text": [
      "(50000, 8, 5)\n",
      "(50000, 8)\n"
     ]
    }
   ],
   "source": [
    "print(leaves.shape)\n",
    "print(is_left.shape)\n"
   ]
  },
  {
   "cell_type": "code",
   "execution_count": 7,
   "metadata": {},
   "outputs": [
    {
     "name": "stdout",
     "output_type": "stream",
     "text": [
      "leaves: \n",
      " [[ -565.68  1126.63 -1125.86  1696.01     1.  ]\n",
      " [   -1.      -1.      -1.      -1.      -1.  ]\n",
      " [  356.49   135.62  -210.8    658.75     1.  ]\n",
      " [   -1.      -1.      -1.      -1.      -1.  ]\n",
      " [  140.5   -302.23  -362.2    511.74    -1.  ]\n",
      " [  533.49  -965.8    562.58  1246.39    -1.  ]\n",
      " [   -1.      -1.      -1.      -1.      -1.  ]\n",
      " [ -677.39  -144.37   941.44  1177.12     1.  ]]\n",
      "is_left array: \n",
      " [ 0. -1.  1. -1.  1.  1. -1.  0.]\n"
     ]
    }
   ],
   "source": [
    "np.set_printoptions(precision=2)\n",
    "np.set_printoptions(suppress=True)\n",
    "\n",
    "i = 2\n",
    "print(f\"leaves: \\n {leaves[i]}\")\n",
    "print(f\"is_left array: \\n {is_left[i]}\")\n"
   ]
  },
  {
   "cell_type": "code",
   "execution_count": 8,
   "metadata": {},
   "outputs": [],
   "source": [
    "### Mass Test ###"
   ]
  },
  {
   "cell_type": "code",
   "execution_count": null,
   "metadata": {},
   "outputs": [],
   "source": []
  }
 ],
 "metadata": {
  "kernelspec": {
   "display_name": "Python 3",
   "language": "python",
   "name": "python3"
  },
  "language_info": {
   "codemirror_mode": {
    "name": "ipython",
    "version": 3
   },
   "file_extension": ".py",
   "mimetype": "text/x-python",
   "name": "python",
   "nbconvert_exporter": "python",
   "pygments_lexer": "ipython3",
   "version": "3.8.6"
  }
 },
 "nbformat": 4,
 "nbformat_minor": 4
}
