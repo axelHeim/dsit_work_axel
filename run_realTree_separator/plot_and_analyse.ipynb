{
 "cells": [
  {
   "cell_type": "code",
   "execution_count": 28,
   "metadata": {},
   "outputs": [],
   "source": [
    "import pandas as pd\n",
    "from pathlib import Path\n",
    "\n",
    "import sys\n",
    "# insert at 1, 0 is the script path (or '' in REPL)\n",
    "sys.path.insert(1, '/afs/desy.de/user/a/axelheim/private/run_BaumBauenNotebooks')\n",
    "\n",
    "\n",
    "\n",
    "from tb_to_csv import tabulate_metrics\n",
    "from plot_fcts import curve_plot, multi_metric_bar_plot"
   ]
  },
  {
   "cell_type": "code",
   "execution_count": 41,
   "metadata": {},
   "outputs": [],
   "source": [
    "plot_path = \"/afs/desy.de/user/a/axelheim/private/run_realTree_separator/\"\n",
    "\n",
    "nfs_path = \"/nfs/dust/belle2/user/axelheim/BranchSeparator/run_realTree_separator/\"\n",
    "\n",
    "\n",
    "data_name = \"50k_realTree_IDs\"\n",
    "#\"50k_realTree_clean\"\n",
    "\n",
    "\n",
    "# '50k_realTree_IDs_charge'\n",
    "# \"50k_realTree_charge\""
   ]
  },
  {
   "cell_type": "code",
   "execution_count": 42,
   "metadata": {},
   "outputs": [
    {
     "name": "stdout",
     "output_type": "stream",
     "text": [
      "Converting run events.out.tfevents.1620415589.batchg004.desy.de.247322.0\n",
      "\n",
      "- Done\n"
     ]
    }
   ],
   "source": [
    "writer_dir = Path((nfs_path + 'tb_logs/' + data_name))\n",
    "writer_dir.mkdir(parents=True, exist_ok=True)\n",
    "\n",
    "csv_dir = Path((nfs_path + 'tb_csv/' + data_name))\n",
    "csv_dir.mkdir(parents=True, exist_ok=True)\n",
    "\n",
    "plot_path = Path((plot_path + 'plots/' + data_name))\n",
    "plot_path.mkdir(parents=True, exist_ok=True)\n",
    "\n",
    "tb_metrics = tabulate_metrics(writer_dir, csv_dir)"
   ]
  },
  {
   "cell_type": "code",
   "execution_count": 43,
   "metadata": {},
   "outputs": [
    {
     "data": {
      "text/plain": [
       "1"
      ]
     },
     "execution_count": 43,
     "metadata": {},
     "output_type": "execute_result"
    }
   ],
   "source": [
    "len(tb_metrics)"
   ]
  },
  {
   "cell_type": "code",
   "execution_count": 44,
   "metadata": {},
   "outputs": [
    {
     "name": "stdout",
     "output_type": "stream",
     "text": [
      "Number of rows/epochs:  120\n"
     ]
    },
    {
     "data": {
      "text/html": [
       "<div>\n",
       "<style scoped>\n",
       "    .dataframe tbody tr th:only-of-type {\n",
       "        vertical-align: middle;\n",
       "    }\n",
       "\n",
       "    .dataframe tbody tr th {\n",
       "        vertical-align: top;\n",
       "    }\n",
       "\n",
       "    .dataframe thead th {\n",
       "        text-align: right;\n",
       "    }\n",
       "</style>\n",
       "<table border=\"1\" class=\"dataframe\">\n",
       "  <thead>\n",
       "    <tr style=\"text-align: right;\">\n",
       "      <th></th>\n",
       "      <th>time_stamp</th>\n",
       "      <th>Epoch</th>\n",
       "      <th>Cross Entropy/Training</th>\n",
       "      <th>Accuracy/Training</th>\n",
       "      <th>PerfectSA/Training</th>\n",
       "      <th>SA1F/Training</th>\n",
       "      <th>SA2F/Training</th>\n",
       "      <th>SA3F/Training</th>\n",
       "      <th>SAbad/Training</th>\n",
       "      <th>Cross Entropy/Validation</th>\n",
       "      <th>Accuracy/Validation</th>\n",
       "      <th>PerfectSA/Validation</th>\n",
       "      <th>SA1F/Validation</th>\n",
       "      <th>SA2F/Validation</th>\n",
       "      <th>SA3F/Validation</th>\n",
       "      <th>SAbad/Validation</th>\n",
       "    </tr>\n",
       "  </thead>\n",
       "  <tbody>\n",
       "    <tr>\n",
       "      <th>0</th>\n",
       "      <td>1.620416e+09</td>\n",
       "      <td>1</td>\n",
       "      <td>0.438077</td>\n",
       "      <td>0.787197</td>\n",
       "      <td>0.056646</td>\n",
       "      <td>0.196425</td>\n",
       "      <td>0.265937</td>\n",
       "      <td>0.229322</td>\n",
       "      <td>0.251669</td>\n",
       "      <td>0.440478</td>\n",
       "      <td>0.786609</td>\n",
       "      <td>0.051883</td>\n",
       "      <td>0.204327</td>\n",
       "      <td>0.253606</td>\n",
       "      <td>0.242788</td>\n",
       "      <td>0.247396</td>\n",
       "    </tr>\n",
       "    <tr>\n",
       "      <th>1</th>\n",
       "      <td>1.620416e+09</td>\n",
       "      <td>2</td>\n",
       "      <td>0.455924</td>\n",
       "      <td>0.792455</td>\n",
       "      <td>0.079527</td>\n",
       "      <td>0.215144</td>\n",
       "      <td>0.242054</td>\n",
       "      <td>0.203459</td>\n",
       "      <td>0.259816</td>\n",
       "      <td>0.457323</td>\n",
       "      <td>0.791400</td>\n",
       "      <td>0.076923</td>\n",
       "      <td>0.213341</td>\n",
       "      <td>0.243990</td>\n",
       "      <td>0.202524</td>\n",
       "      <td>0.263221</td>\n",
       "    </tr>\n",
       "    <tr>\n",
       "      <th>2</th>\n",
       "      <td>1.620416e+09</td>\n",
       "      <td>3</td>\n",
       "      <td>0.502590</td>\n",
       "      <td>0.786720</td>\n",
       "      <td>0.030271</td>\n",
       "      <td>0.191640</td>\n",
       "      <td>0.288016</td>\n",
       "      <td>0.252983</td>\n",
       "      <td>0.237090</td>\n",
       "      <td>0.505005</td>\n",
       "      <td>0.785390</td>\n",
       "      <td>0.032051</td>\n",
       "      <td>0.184896</td>\n",
       "      <td>0.284856</td>\n",
       "      <td>0.256210</td>\n",
       "      <td>0.241987</td>\n",
       "    </tr>\n",
       "    <tr>\n",
       "      <th>3</th>\n",
       "      <td>1.620416e+09</td>\n",
       "      <td>4</td>\n",
       "      <td>0.418409</td>\n",
       "      <td>0.811139</td>\n",
       "      <td>0.050859</td>\n",
       "      <td>0.261240</td>\n",
       "      <td>0.284144</td>\n",
       "      <td>0.228098</td>\n",
       "      <td>0.175659</td>\n",
       "      <td>0.423242</td>\n",
       "      <td>0.809228</td>\n",
       "      <td>0.048077</td>\n",
       "      <td>0.264423</td>\n",
       "      <td>0.275040</td>\n",
       "      <td>0.225160</td>\n",
       "      <td>0.187300</td>\n",
       "    </tr>\n",
       "    <tr>\n",
       "      <th>4</th>\n",
       "      <td>1.620416e+09</td>\n",
       "      <td>5</td>\n",
       "      <td>0.326347</td>\n",
       "      <td>0.839029</td>\n",
       "      <td>0.144854</td>\n",
       "      <td>0.279536</td>\n",
       "      <td>0.255297</td>\n",
       "      <td>0.185786</td>\n",
       "      <td>0.134526</td>\n",
       "      <td>0.329695</td>\n",
       "      <td>0.837991</td>\n",
       "      <td>0.144030</td>\n",
       "      <td>0.283454</td>\n",
       "      <td>0.243990</td>\n",
       "      <td>0.190505</td>\n",
       "      <td>0.138021</td>\n",
       "    </tr>\n",
       "    <tr>\n",
       "      <th>...</th>\n",
       "      <td>...</td>\n",
       "      <td>...</td>\n",
       "      <td>...</td>\n",
       "      <td>...</td>\n",
       "      <td>...</td>\n",
       "      <td>...</td>\n",
       "      <td>...</td>\n",
       "      <td>...</td>\n",
       "      <td>...</td>\n",
       "      <td>...</td>\n",
       "      <td>...</td>\n",
       "      <td>...</td>\n",
       "      <td>...</td>\n",
       "      <td>...</td>\n",
       "      <td>...</td>\n",
       "      <td>...</td>\n",
       "    </tr>\n",
       "    <tr>\n",
       "      <th>115</th>\n",
       "      <td>1.620422e+09</td>\n",
       "      <td>116</td>\n",
       "      <td>0.943320</td>\n",
       "      <td>0.657415</td>\n",
       "      <td>0.012309</td>\n",
       "      <td>0.056290</td>\n",
       "      <td>0.116631</td>\n",
       "      <td>0.170873</td>\n",
       "      <td>0.643897</td>\n",
       "      <td>0.951837</td>\n",
       "      <td>0.654531</td>\n",
       "      <td>0.011018</td>\n",
       "      <td>0.055088</td>\n",
       "      <td>0.114183</td>\n",
       "      <td>0.160657</td>\n",
       "      <td>0.659054</td>\n",
       "    </tr>\n",
       "    <tr>\n",
       "      <th>116</th>\n",
       "      <td>1.620422e+09</td>\n",
       "      <td>117</td>\n",
       "      <td>0.876610</td>\n",
       "      <td>0.678092</td>\n",
       "      <td>0.014801</td>\n",
       "      <td>0.075588</td>\n",
       "      <td>0.144565</td>\n",
       "      <td>0.184339</td>\n",
       "      <td>0.580707</td>\n",
       "      <td>0.886099</td>\n",
       "      <td>0.675831</td>\n",
       "      <td>0.013021</td>\n",
       "      <td>0.074720</td>\n",
       "      <td>0.144832</td>\n",
       "      <td>0.185096</td>\n",
       "      <td>0.582332</td>\n",
       "    </tr>\n",
       "    <tr>\n",
       "      <th>117</th>\n",
       "      <td>1.620422e+09</td>\n",
       "      <td>118</td>\n",
       "      <td>0.830428</td>\n",
       "      <td>0.691471</td>\n",
       "      <td>0.023705</td>\n",
       "      <td>0.092726</td>\n",
       "      <td>0.151086</td>\n",
       "      <td>0.184785</td>\n",
       "      <td>0.547699</td>\n",
       "      <td>0.838974</td>\n",
       "      <td>0.689019</td>\n",
       "      <td>0.021034</td>\n",
       "      <td>0.090345</td>\n",
       "      <td>0.149639</td>\n",
       "      <td>0.179688</td>\n",
       "      <td>0.559295</td>\n",
       "    </tr>\n",
       "    <tr>\n",
       "      <th>118</th>\n",
       "      <td>1.620422e+09</td>\n",
       "      <td>119</td>\n",
       "      <td>0.890102</td>\n",
       "      <td>0.666637</td>\n",
       "      <td>0.011374</td>\n",
       "      <td>0.058249</td>\n",
       "      <td>0.124844</td>\n",
       "      <td>0.183204</td>\n",
       "      <td>0.622329</td>\n",
       "      <td>0.901622</td>\n",
       "      <td>0.663111</td>\n",
       "      <td>0.009415</td>\n",
       "      <td>0.056490</td>\n",
       "      <td>0.118790</td>\n",
       "      <td>0.184896</td>\n",
       "      <td>0.630409</td>\n",
       "    </tr>\n",
       "    <tr>\n",
       "      <th>119</th>\n",
       "      <td>1.620422e+09</td>\n",
       "      <td>120</td>\n",
       "      <td>0.825044</td>\n",
       "      <td>0.685988</td>\n",
       "      <td>0.017918</td>\n",
       "      <td>0.087095</td>\n",
       "      <td>0.147703</td>\n",
       "      <td>0.187589</td>\n",
       "      <td>0.559696</td>\n",
       "      <td>0.831131</td>\n",
       "      <td>0.684312</td>\n",
       "      <td>0.016226</td>\n",
       "      <td>0.088341</td>\n",
       "      <td>0.146434</td>\n",
       "      <td>0.181891</td>\n",
       "      <td>0.567107</td>\n",
       "    </tr>\n",
       "  </tbody>\n",
       "</table>\n",
       "<p>120 rows × 16 columns</p>\n",
       "</div>"
      ],
      "text/plain": [
       "       time_stamp  Epoch  Cross Entropy/Training  Accuracy/Training  \\\n",
       "0    1.620416e+09      1                0.438077           0.787197   \n",
       "1    1.620416e+09      2                0.455924           0.792455   \n",
       "2    1.620416e+09      3                0.502590           0.786720   \n",
       "3    1.620416e+09      4                0.418409           0.811139   \n",
       "4    1.620416e+09      5                0.326347           0.839029   \n",
       "..            ...    ...                     ...                ...   \n",
       "115  1.620422e+09    116                0.943320           0.657415   \n",
       "116  1.620422e+09    117                0.876610           0.678092   \n",
       "117  1.620422e+09    118                0.830428           0.691471   \n",
       "118  1.620422e+09    119                0.890102           0.666637   \n",
       "119  1.620422e+09    120                0.825044           0.685988   \n",
       "\n",
       "     PerfectSA/Training  SA1F/Training  SA2F/Training  SA3F/Training  \\\n",
       "0              0.056646       0.196425       0.265937       0.229322   \n",
       "1              0.079527       0.215144       0.242054       0.203459   \n",
       "2              0.030271       0.191640       0.288016       0.252983   \n",
       "3              0.050859       0.261240       0.284144       0.228098   \n",
       "4              0.144854       0.279536       0.255297       0.185786   \n",
       "..                  ...            ...            ...            ...   \n",
       "115            0.012309       0.056290       0.116631       0.170873   \n",
       "116            0.014801       0.075588       0.144565       0.184339   \n",
       "117            0.023705       0.092726       0.151086       0.184785   \n",
       "118            0.011374       0.058249       0.124844       0.183204   \n",
       "119            0.017918       0.087095       0.147703       0.187589   \n",
       "\n",
       "     SAbad/Training  Cross Entropy/Validation  Accuracy/Validation  \\\n",
       "0          0.251669                  0.440478             0.786609   \n",
       "1          0.259816                  0.457323             0.791400   \n",
       "2          0.237090                  0.505005             0.785390   \n",
       "3          0.175659                  0.423242             0.809228   \n",
       "4          0.134526                  0.329695             0.837991   \n",
       "..              ...                       ...                  ...   \n",
       "115        0.643897                  0.951837             0.654531   \n",
       "116        0.580707                  0.886099             0.675831   \n",
       "117        0.547699                  0.838974             0.689019   \n",
       "118        0.622329                  0.901622             0.663111   \n",
       "119        0.559696                  0.831131             0.684312   \n",
       "\n",
       "     PerfectSA/Validation  SA1F/Validation  SA2F/Validation  SA3F/Validation  \\\n",
       "0                0.051883         0.204327         0.253606         0.242788   \n",
       "1                0.076923         0.213341         0.243990         0.202524   \n",
       "2                0.032051         0.184896         0.284856         0.256210   \n",
       "3                0.048077         0.264423         0.275040         0.225160   \n",
       "4                0.144030         0.283454         0.243990         0.190505   \n",
       "..                    ...              ...              ...              ...   \n",
       "115              0.011018         0.055088         0.114183         0.160657   \n",
       "116              0.013021         0.074720         0.144832         0.185096   \n",
       "117              0.021034         0.090345         0.149639         0.179688   \n",
       "118              0.009415         0.056490         0.118790         0.184896   \n",
       "119              0.016226         0.088341         0.146434         0.181891   \n",
       "\n",
       "     SAbad/Validation  \n",
       "0            0.247396  \n",
       "1            0.263221  \n",
       "2            0.241987  \n",
       "3            0.187300  \n",
       "4            0.138021  \n",
       "..                ...  \n",
       "115          0.659054  \n",
       "116          0.582332  \n",
       "117          0.559295  \n",
       "118          0.630409  \n",
       "119          0.567107  \n",
       "\n",
       "[120 rows x 16 columns]"
      ]
     },
     "execution_count": 44,
     "metadata": {},
     "output_type": "execute_result"
    }
   ],
   "source": [
    "one_run = tb_metrics[0]\n",
    "\n",
    "print(\"Number of rows/epochs: \", len(one_run))\n",
    "one_run"
   ]
  },
  {
   "cell_type": "code",
   "execution_count": 45,
   "metadata": {},
   "outputs": [
    {
     "data": {
      "text/plain": [
       "0      1.0\n",
       "1      1.0\n",
       "2      1.0\n",
       "3      1.0\n",
       "4      1.0\n",
       "      ... \n",
       "115    1.0\n",
       "116    1.0\n",
       "117    1.0\n",
       "118    1.0\n",
       "119    1.0\n",
       "Length: 120, dtype: float64"
      ]
     },
     "execution_count": 45,
     "metadata": {},
     "output_type": "execute_result"
    }
   ],
   "source": [
    "one_run['PerfectSA/Validation'] + one_run['SA1F/Validation'] + one_run['SA2F/Validation'] + one_run['SA3F/Validation'] + one_run['SAbad/Validation'] "
   ]
  },
  {
   "cell_type": "code",
   "execution_count": 46,
   "metadata": {},
   "outputs": [],
   "source": [
    "epochs = one_run['Epoch']\n",
    "loss_tr = one_run['Cross Entropy/Training']\n",
    "loss_val = one_run['Cross Entropy/Validation']\n",
    "\n"
   ]
  },
  {
   "cell_type": "code",
   "execution_count": 47,
   "metadata": {},
   "outputs": [
    {
     "data": {
      "image/png": "[encoded data removed]",
      "text/plain": [
       "<Figure size 1004.26x310.339 with 1 Axes>"
      ]
     },
     "metadata": {},
     "output_type": "display_data"
    }
   ],
   "source": [
    "multi_metric_bar_plot(one_run, plot_path, ('barplot_metrics_' + data_name), data_type=\"Validation\", step=10, metric_type=\"SA\")"
   ]
  },
  {
   "cell_type": "code",
   "execution_count": 48,
   "metadata": {},
   "outputs": [
    {
     "data": {
      "image/png": "[encoded data removed]",
      "text/plain": [
       "<Figure size 432x288 with 1 Axes>"
      ]
     },
     "metadata": {},
     "output_type": "display_data"
    }
   ],
   "source": [
    "curve_plot(loss_tr, loss_val, plot_path, ('loss_comparison_' + data_name), 'Cross_Entropy', 'Cross Entropy Loss/ Overtraining Check')"
   ]
  },
  {
   "cell_type": "code",
   "execution_count": 49,
   "metadata": {},
   "outputs": [
    {
     "data": {
      "image/png": "[encoded data removed]",
      "text/plain": [
       "<Figure size 432x288 with 1 Axes>"
      ]
     },
     "metadata": {},
     "output_type": "display_data"
    }
   ],
   "source": [
    "pLCA_tr = one_run['PerfectSA/Training']\n",
    "pLCA_val = one_run['PerfectSA/Validation']\n",
    "\n",
    "\n",
    "curve_plot(pLCA_tr, pLCA_val, plot_path, ('perfectSA_comparison_' + data_name), 'PerfectSA', 'PerfectSA / Overtraining Check')"
   ]
  },
  {
   "cell_type": "code",
   "execution_count": null,
   "metadata": {},
   "outputs": [],
   "source": []
  },
  {
   "cell_type": "code",
   "execution_count": null,
   "metadata": {},
   "outputs": [],
   "source": []
  }
 ],
 "metadata": {
  "kernelspec": {
   "display_name": "Python 3",
   "language": "python",
   "name": "python3"
  },
  "language_info": {
   "codemirror_mode": {
    "name": "ipython",
    "version": 3
   },
   "file_extension": ".py",
   "mimetype": "text/x-python",
   "name": "python",
   "nbconvert_exporter": "python",
   "pygments_lexer": "ipython3",
   "version": "3.8.6"
  }
 },
 "nbformat": 4,
 "nbformat_minor": 4
}
