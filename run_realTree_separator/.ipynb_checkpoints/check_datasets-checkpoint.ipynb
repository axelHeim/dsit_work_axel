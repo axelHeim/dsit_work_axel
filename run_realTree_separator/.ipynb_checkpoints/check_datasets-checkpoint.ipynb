{
 "cells": [
  {
   "cell_type": "code",
   "execution_count": 1,
   "metadata": {},
   "outputs": [],
   "source": [
    "import numpy as np\n",
    "from pathlib import Path"
   ]
  },
  {
   "cell_type": "code",
   "execution_count": 14,
   "metadata": {},
   "outputs": [],
   "source": [
    "run_folder = \"run_realTree_separator/\"\n",
    "\n",
    "nfs_path = \"/nfs/dust/belle2/user/axelheim/BranchSeparator/\" + run_folder\n",
    "\n",
    "\n",
    "data_folder = \"50k_realTree_clean\"\n",
    "data_folder =  \"50k_realTree_charge\" \n",
    "data_folder =  \"50k_realTree_IDs\" \n",
    "data_folder =  \"50k_realTree_IDs_charge\" \n",
    "\n",
    "top_dir = Path(nfs_path)\n",
    "dataset_dir = Path(nfs_path + 'data/' + data_folder)\n",
    "\n",
    "\n",
    "leaves = np.load(dataset_dir / 'leaves.npy')    \n",
    "is_left = np.load(dataset_dir / 'is_left_arr.npy')   "
   ]
  },
  {
   "cell_type": "code",
   "execution_count": 15,
   "metadata": {},
   "outputs": [
    {
     "name": "stdout",
     "output_type": "stream",
     "text": [
      "(50000, 12, 7)\n",
      "(50000, 12)\n"
     ]
    }
   ],
   "source": [
    "print(leaves.shape)\n",
    "print(is_left.shape)\n"
   ]
  },
  {
   "cell_type": "code",
   "execution_count": 16,
   "metadata": {},
   "outputs": [
    {
     "name": "stdout",
     "output_type": "stream",
     "text": [
      "leaves: \n",
      " [[  465.9    838.16  -681.97  1185.01     0.94     0.2      1.  ]\n",
      " [ 1690.19    53.06    11.14  1691.06     0.11     0.07     0.  ]\n",
      " [  752.87  -170.55   126.2    794.62     0.95     0.27     1.  ]\n",
      " [ -748.61   426.94   263.09   901.06     0.11     0.09     0.  ]\n",
      " [ -323.3   -444.93  -204.1    603.11     0.71     0.12    -1.  ]\n",
      " [  423.    -198.68  -262.67   554.08     0.95     0.12     1.  ]\n",
      " [  640.33   -22.08  -358.74   885.       0.34     0.72    -1.  ]\n",
      " [ -458.59   110.22    99.52   501.96     0.76     0.      -1.  ]\n",
      " [-2085.71  -873.51   865.8   2425.36     0.81     0.16    -1.  ]\n",
      " [ -425.03   190.45   138.18   692.86     0.17     0.81     1.  ]\n",
      " [ -132.35    37.6     -1.01   137.59     0.12     0.01     0.  ]\n",
      " [  201.3     53.3      4.56   208.29     0.15     0.01     0.  ]]\n",
      "is_left array: \n",
      " [1. 0. 1. 0. 0. 0. 1. 0. 1. 0. 0. 0.]\n"
     ]
    }
   ],
   "source": [
    "np.set_printoptions(precision=2)\n",
    "np.set_printoptions(suppress=True)\n",
    "\n",
    "print(f\"leaves: \\n {leaves[5]}\")\n",
    "print(f\"is_left array: \\n {is_left[5]}\")\n"
   ]
  },
  {
   "cell_type": "code",
   "execution_count": null,
   "metadata": {},
   "outputs": [],
   "source": []
  },
  {
   "cell_type": "code",
   "execution_count": null,
   "metadata": {},
   "outputs": [],
   "source": []
  }
 ],
 "metadata": {
  "kernelspec": {
   "display_name": "Python 3",
   "language": "python",
   "name": "python3"
  },
  "language_info": {
   "codemirror_mode": {
    "name": "ipython",
    "version": 3
   },
   "file_extension": ".py",
   "mimetype": "text/x-python",
   "name": "python",
   "nbconvert_exporter": "python",
   "pygments_lexer": "ipython3",
   "version": "3.8.6"
  }
 },
 "nbformat": 4,
 "nbformat_minor": 4
}
