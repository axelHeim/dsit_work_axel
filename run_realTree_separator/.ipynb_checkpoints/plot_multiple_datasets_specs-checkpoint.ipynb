{
 "cells": [
  {
   "cell_type": "code",
   "execution_count": 14,
   "metadata": {},
   "outputs": [],
   "source": [
    "import pandas as pd\n",
    "from pathlib import Path\n",
    "\n",
    "import math\n",
    "\n",
    "import sys\n",
    "# insert at 1, 0 is the script path (or '' in REPL)\n",
    "sys.path.insert(1, '/afs/desy.de/user/a/axelheim/private/run_BaumBauenNotebooks')\n",
    "\n",
    "\n",
    "\n",
    "from tb_to_csv import tabulate_metrics\n",
    "from plot_fcts import curve_plot, multi_metric_bar_plot"
   ]
  },
  {
   "cell_type": "code",
   "execution_count": 15,
   "metadata": {},
   "outputs": [],
   "source": [
    "data_names = [\"multiModes_firstRun_10k_each_5trees_charge_noSmear\" ,\n",
    "\"multiModes_firstRun_10k_each_5trees_IDs_charge_noSmear\" ,\n",
    "\"multiModes_firstRun_10k_each_5trees_IDs_noSmear\" ,\n",
    "\"multiModes_firstRun_10k_each_5trees_noSmear\" ]\n",
    "\n",
    "#[\"50k_realTree_IDs\",\"50k_realTree_clean\",'50k_realTree_IDs_charge',\"50k_realTree_charge\"]\n",
    "specs = [\"512_0.0001_128_0.3_4\"]"
   ]
  },
  {
   "cell_type": "code",
   "execution_count": 19,
   "metadata": {},
   "outputs": [
    {
     "name": "stdout",
     "output_type": "stream",
     "text": [
      "Converting run events.out.tfevents.1621095336.naf-belle-gpu01.desy.de.140836.0\n",
      "\n",
      "- Done\n",
      "Converting run events.out.tfevents.1621096025.batchg003.desy.de.57502.0\n",
      "\n",
      "- Done\n",
      "2\n",
      "300\n",
      "1\n",
      "2\n"
     ]
    },
    {
     "ename": "TypeError",
     "evalue": "object of type 'int' has no len()",
     "output_type": "error",
     "traceback": [
      "\u001b[0;31m---------------------------------------------------------------------------\u001b[0m",
      "\u001b[0;31mTypeError\u001b[0m                                 Traceback (most recent call last)",
      "\u001b[0;32m<ipython-input-19-569b8f115692>\u001b[0m in \u001b[0;36m<module>\u001b[0;34m\u001b[0m\n\u001b[1;32m     36\u001b[0m         \u001b[0;31m# the actual plots\u001b[0m\u001b[0;34m\u001b[0m\u001b[0;34m\u001b[0m\u001b[0;34m\u001b[0m\u001b[0m\n\u001b[1;32m     37\u001b[0m         \u001b[0;31m# bar plot\u001b[0m\u001b[0;34m\u001b[0m\u001b[0;34m\u001b[0m\u001b[0;34m\u001b[0m\u001b[0m\n\u001b[0;32m---> 38\u001b[0;31m         \u001b[0msteps\u001b[0m \u001b[0;34m=\u001b[0m \u001b[0mmath\u001b[0m\u001b[0;34m.\u001b[0m\u001b[0mceil\u001b[0m\u001b[0;34m(\u001b[0m\u001b[0mlen\u001b[0m\u001b[0;34m(\u001b[0m\u001b[0mmost_epochs_idx\u001b[0m\u001b[0;34m)\u001b[0m\u001b[0;34m/\u001b[0m\u001b[0;36m10\u001b[0m\u001b[0;34m)\u001b[0m\u001b[0;34m\u001b[0m\u001b[0;34m\u001b[0m\u001b[0m\n\u001b[0m\u001b[1;32m     39\u001b[0m         \u001b[0msteps\u001b[0m \u001b[0;34m=\u001b[0m \u001b[0mint\u001b[0m\u001b[0;34m(\u001b[0m\u001b[0mmath\u001b[0m\u001b[0;34m.\u001b[0m\u001b[0mceil\u001b[0m\u001b[0;34m(\u001b[0m\u001b[0msteps\u001b[0m \u001b[0;34m/\u001b[0m \u001b[0;36m5.0\u001b[0m\u001b[0;34m)\u001b[0m\u001b[0;34m)\u001b[0m \u001b[0;34m*\u001b[0m \u001b[0;36m5\u001b[0m\u001b[0;34m\u001b[0m\u001b[0;34m\u001b[0m\u001b[0m\n\u001b[1;32m     40\u001b[0m         \u001b[0mmulti_metric_bar_plot\u001b[0m\u001b[0;34m(\u001b[0m\u001b[0mlongest_run\u001b[0m\u001b[0;34m,\u001b[0m \u001b[0mplot_path\u001b[0m\u001b[0;34m,\u001b[0m \u001b[0;34m(\u001b[0m\u001b[0;34m'barplot_metrics_'\u001b[0m \u001b[0;34m+\u001b[0m \u001b[0mplotname_extension\u001b[0m\u001b[0;34m)\u001b[0m\u001b[0;34m,\u001b[0m \u001b[0mdata_type\u001b[0m\u001b[0;34m=\u001b[0m\u001b[0;34m\"Validation\"\u001b[0m\u001b[0;34m,\u001b[0m \u001b[0mstep\u001b[0m\u001b[0;34m=\u001b[0m\u001b[0msteps\u001b[0m\u001b[0;34m,\u001b[0m \u001b[0mmetric_type\u001b[0m\u001b[0;34m=\u001b[0m\u001b[0;34m\"SA\"\u001b[0m\u001b[0;34m,\u001b[0m \u001b[0mtitle\u001b[0m\u001b[0;34m=\u001b[0m\u001b[0mplotname_extension\u001b[0m\u001b[0;34m)\u001b[0m\u001b[0;34m\u001b[0m\u001b[0;34m\u001b[0m\u001b[0m\n",
      "\u001b[0;31mTypeError\u001b[0m: object of type 'int' has no len()"
     ]
    }
   ],
   "source": [
    "for data_name in data_names:\n",
    "    for spec in specs:\n",
    "        plotname_extension = data_name + '_' + spec\n",
    "        \n",
    "        nfs_path = \"/nfs/dust/belle2/user/axelheim/BranchSeparator/run_realTree_separator/\"\n",
    "\n",
    "        plot_path = \"/afs/desy.de/user/a/axelheim/private/run_realTree_separator/\"\n",
    "        \n",
    "        \n",
    "        data_dir = Path((nfs_path + 'tb_logs/' + data_name + '/' + spec))\n",
    "        \n",
    "        csv_dir = Path((nfs_path + 'tb_csv/' + data_name + '/' + spec))\n",
    "        csv_dir.mkdir(parents=True, exist_ok=True)\n",
    "\n",
    "        plot_path = Path((plot_path + 'plots/' + data_name + '/' + spec))\n",
    "        plot_path.mkdir(parents=True, exist_ok=True)\n",
    "\n",
    "        tb_metrics = tabulate_metrics(data_dir, csv_dir)\n",
    "\n",
    "        \n",
    "        # choosing the tb_log with the most epochs recorded\n",
    "        epochs = []\n",
    "        for i in range(len(tb_metrics)):\n",
    "            epochs.append(len(tb_metrics[i]))\n",
    "            print(epochs[i])\n",
    "            \n",
    "        most_epochs_idx = 0\n",
    "        if len(tb_metrics) > 1:\n",
    "            most_epochs_idx = epochs.index(max(epochs))\n",
    "        \n",
    "        print(most_epochs_idx)\n",
    "        print(len(tb_metrics))\n",
    "        longest_run = tb_metrics[most_epochs_idx]\n",
    "        \n",
    "        \n",
    "        # the actual plots\n",
    "        # bar plot\n",
    "        steps = math.ceil(len(most_epochs_idx)/10)\n",
    "        steps = int(math.ceil(steps / 5.0)) * 5\n",
    "        multi_metric_bar_plot(longest_run, plot_path, ('barplot_metrics_' + plotname_extension), data_type=\"Validation\", step=steps, metric_type=\"SA\", title=plotname_extension)\n",
    "        \n",
    "        \n",
    "        # loss plot\n",
    "        loss_tr = longest_run['Cross Entropy/Training']\n",
    "        loss_val = longest_run['Cross Entropy/Validation']\n",
    "        curve_plot(loss_tr, loss_val, plot_path, ('loss_comparison_' + plotname_extension), 'Cross_Entropy', ('Loss / ' + plotname_extension))\n",
    "\n",
    "        # perfect SA plot\n",
    "        pLCA_tr = longest_run['PerfectSA/Training']\n",
    "        pLCA_val = longest_run['PerfectSA/Validation']\n",
    "        curve_plot(pLCA_tr, pLCA_val, plot_path, ('perfectSA_comparison_' + plotname_extension), 'PerfectSA', ('PerfectSA / ' + plotname_extension))"
   ]
  },
  {
   "cell_type": "code",
   "execution_count": null,
   "metadata": {},
   "outputs": [],
   "source": []
  },
  {
   "cell_type": "code",
   "execution_count": null,
   "metadata": {},
   "outputs": [],
   "source": []
  },
  {
   "cell_type": "code",
   "execution_count": null,
   "metadata": {},
   "outputs": [],
   "source": []
  },
  {
   "cell_type": "code",
   "execution_count": null,
   "metadata": {},
   "outputs": [],
   "source": []
  }
 ],
 "metadata": {
  "kernelspec": {
   "display_name": "Python 3",
   "language": "python",
   "name": "python3"
  },
  "language_info": {
   "codemirror_mode": {
    "name": "ipython",
    "version": 3
   },
   "file_extension": ".py",
   "mimetype": "text/x-python",
   "name": "python",
   "nbconvert_exporter": "python",
   "pygments_lexer": "ipython3",
   "version": "3.8.6"
  }
 },
 "nbformat": 4,
 "nbformat_minor": 4
}
