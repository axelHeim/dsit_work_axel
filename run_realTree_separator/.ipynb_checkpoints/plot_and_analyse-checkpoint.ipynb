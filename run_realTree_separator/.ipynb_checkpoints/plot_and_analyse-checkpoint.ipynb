{
 "cells": [
  {
   "cell_type": "code",
   "execution_count": 12,
   "metadata": {},
   "outputs": [],
   "source": [
    "import pandas as pd\n",
    "from pathlib import Path\n",
    "\n",
    "import sys\n",
    "# insert at 1, 0 is the script path (or '' in REPL)\n",
    "sys.path.insert(1, '/afs/desy.de/user/a/axelheim/private/run_BaumBauenNotebooks')\n",
    "\n",
    "\n",
    "\n",
    "from tb_to_csv import tabulate_metrics\n",
    "from plot_fcts import curve_plot, multi_metric_bar_plot"
   ]
  },
  {
   "cell_type": "code",
   "execution_count": 13,
   "metadata": {},
   "outputs": [],
   "source": [
    "run_path = \"/afs/desy.de/user/a/axelheim/private/run_realTree_separator/\"\n",
    "run_dir = Path(run_path)\n",
    "run_dir.mkdir(parents=True, exist_ok=True)\n",
    "\n",
    "data_name =  '50k_realTree_IDs_charge'  #50k_realTree_charge\n",
    "#50k_realTree_clean\n",
    "#50k_realTree_IDs\n"
   ]
  },
  {
   "cell_type": "code",
   "execution_count": 14,
   "metadata": {},
   "outputs": [
    {
     "name": "stdout",
     "output_type": "stream",
     "text": [
      "Converting run .ipynb_checkpoints\n",
      "\n",
      "Run .ipynb_checkpoints is empty, didn't process it \n",
      "\n",
      "Converting run events.out.tfevents.1620368922.batchg001.desy.de.124648.0\n",
      "\n",
      "- Done\n",
      "Converting run events.out.tfevents.1620369124.naf-belle-gpu01.desy.de.183625.0\n",
      "\n",
      "- Done\n",
      "Converting run events.out.tfevents.1620370146.batchg001.desy.de.131223.0\n",
      "\n",
      "- Done\n"
     ]
    }
   ],
   "source": [
    "writer_dir = Path((run_path + 'tb_logs/' + data_name))\n",
    "writer_dir.mkdir(parents=True, exist_ok=True)\n",
    "\n",
    "csv_dir = Path((run_path + 'tb_csv/' + data_name))\n",
    "csv_dir.mkdir(parents=True, exist_ok=True)\n",
    "\n",
    "plot_path = Path((run_path + 'plots/' + data_name))\n",
    "plot_path.mkdir(parents=True, exist_ok=True)\n",
    "\n",
    "tb_metrics = tabulate_metrics(writer_dir, csv_dir)"
   ]
  },
  {
   "cell_type": "code",
   "execution_count": 15,
   "metadata": {},
   "outputs": [
    {
     "data": {
      "text/plain": [
       "3"
      ]
     },
     "execution_count": 15,
     "metadata": {},
     "output_type": "execute_result"
    }
   ],
   "source": [
    "len(tb_metrics)"
   ]
  },
  {
   "cell_type": "code",
   "execution_count": 16,
   "metadata": {},
   "outputs": [
    {
     "name": "stdout",
     "output_type": "stream",
     "text": [
      "Number of rows/epochs:  102\n"
     ]
    },
    {
     "data": {
      "text/html": [
       "<div>\n",
       "<style scoped>\n",
       "    .dataframe tbody tr th:only-of-type {\n",
       "        vertical-align: middle;\n",
       "    }\n",
       "\n",
       "    .dataframe tbody tr th {\n",
       "        vertical-align: top;\n",
       "    }\n",
       "\n",
       "    .dataframe thead th {\n",
       "        text-align: right;\n",
       "    }\n",
       "</style>\n",
       "<table border=\"1\" class=\"dataframe\">\n",
       "  <thead>\n",
       "    <tr style=\"text-align: right;\">\n",
       "      <th></th>\n",
       "      <th>time_stamp</th>\n",
       "      <th>Epoch</th>\n",
       "      <th>Cross Entropy/Training</th>\n",
       "      <th>Accuracy/Training</th>\n",
       "      <th>PerfectSA/Training</th>\n",
       "      <th>SA1F/Training</th>\n",
       "      <th>SA2F/Training</th>\n",
       "      <th>SA3F/Training</th>\n",
       "      <th>SAbad/Training</th>\n",
       "      <th>Cross Entropy/Validation</th>\n",
       "      <th>Accuracy/Validation</th>\n",
       "      <th>PerfectSA/Validation</th>\n",
       "      <th>SA1F/Validation</th>\n",
       "      <th>SA2F/Validation</th>\n",
       "      <th>SA3F/Validation</th>\n",
       "      <th>SAbad/Validation</th>\n",
       "    </tr>\n",
       "  </thead>\n",
       "  <tbody>\n",
       "    <tr>\n",
       "      <th>0</th>\n",
       "      <td>1.620370e+09</td>\n",
       "      <td>1</td>\n",
       "      <td>0.384926</td>\n",
       "      <td>0.816403</td>\n",
       "      <td>0.065483</td>\n",
       "      <td>0.259882</td>\n",
       "      <td>0.311788</td>\n",
       "      <td>0.200988</td>\n",
       "      <td>0.161859</td>\n",
       "      <td>0.388260</td>\n",
       "      <td>0.814286</td>\n",
       "      <td>0.065104</td>\n",
       "      <td>0.255609</td>\n",
       "      <td>0.306090</td>\n",
       "      <td>0.209535</td>\n",
       "      <td>0.163662</td>\n",
       "    </tr>\n",
       "    <tr>\n",
       "      <th>1</th>\n",
       "      <td>1.620370e+09</td>\n",
       "      <td>2</td>\n",
       "      <td>0.530017</td>\n",
       "      <td>0.769863</td>\n",
       "      <td>0.047654</td>\n",
       "      <td>0.162972</td>\n",
       "      <td>0.239784</td>\n",
       "      <td>0.242076</td>\n",
       "      <td>0.307514</td>\n",
       "      <td>0.530361</td>\n",
       "      <td>0.770716</td>\n",
       "      <td>0.049880</td>\n",
       "      <td>0.163462</td>\n",
       "      <td>0.240986</td>\n",
       "      <td>0.243990</td>\n",
       "      <td>0.301683</td>\n",
       "    </tr>\n",
       "    <tr>\n",
       "      <th>2</th>\n",
       "      <td>1.620370e+09</td>\n",
       "      <td>3</td>\n",
       "      <td>0.479465</td>\n",
       "      <td>0.794788</td>\n",
       "      <td>0.043759</td>\n",
       "      <td>0.226607</td>\n",
       "      <td>0.274395</td>\n",
       "      <td>0.228521</td>\n",
       "      <td>0.226718</td>\n",
       "      <td>0.478987</td>\n",
       "      <td>0.795256</td>\n",
       "      <td>0.044271</td>\n",
       "      <td>0.229567</td>\n",
       "      <td>0.275441</td>\n",
       "      <td>0.220954</td>\n",
       "      <td>0.229768</td>\n",
       "    </tr>\n",
       "    <tr>\n",
       "      <th>3</th>\n",
       "      <td>1.620370e+09</td>\n",
       "      <td>4</td>\n",
       "      <td>0.342789</td>\n",
       "      <td>0.836622</td>\n",
       "      <td>0.078014</td>\n",
       "      <td>0.329371</td>\n",
       "      <td>0.293269</td>\n",
       "      <td>0.186142</td>\n",
       "      <td>0.113203</td>\n",
       "      <td>0.343847</td>\n",
       "      <td>0.836288</td>\n",
       "      <td>0.078125</td>\n",
       "      <td>0.320713</td>\n",
       "      <td>0.304087</td>\n",
       "      <td>0.184696</td>\n",
       "      <td>0.112380</td>\n",
       "    </tr>\n",
       "    <tr>\n",
       "      <th>4</th>\n",
       "      <td>1.620370e+09</td>\n",
       "      <td>5</td>\n",
       "      <td>0.277758</td>\n",
       "      <td>0.867260</td>\n",
       "      <td>0.208556</td>\n",
       "      <td>0.316440</td>\n",
       "      <td>0.253294</td>\n",
       "      <td>0.143162</td>\n",
       "      <td>0.078548</td>\n",
       "      <td>0.280943</td>\n",
       "      <td>0.865952</td>\n",
       "      <td>0.211538</td>\n",
       "      <td>0.304287</td>\n",
       "      <td>0.263021</td>\n",
       "      <td>0.136018</td>\n",
       "      <td>0.085136</td>\n",
       "    </tr>\n",
       "    <tr>\n",
       "      <th>...</th>\n",
       "      <td>...</td>\n",
       "      <td>...</td>\n",
       "      <td>...</td>\n",
       "      <td>...</td>\n",
       "      <td>...</td>\n",
       "      <td>...</td>\n",
       "      <td>...</td>\n",
       "      <td>...</td>\n",
       "      <td>...</td>\n",
       "      <td>...</td>\n",
       "      <td>...</td>\n",
       "      <td>...</td>\n",
       "      <td>...</td>\n",
       "      <td>...</td>\n",
       "      <td>...</td>\n",
       "      <td>...</td>\n",
       "    </tr>\n",
       "    <tr>\n",
       "      <th>97</th>\n",
       "      <td>1.620376e+09</td>\n",
       "      <td>98</td>\n",
       "      <td>0.177730</td>\n",
       "      <td>0.941115</td>\n",
       "      <td>0.528312</td>\n",
       "      <td>0.281205</td>\n",
       "      <td>0.150663</td>\n",
       "      <td>0.035479</td>\n",
       "      <td>0.004340</td>\n",
       "      <td>0.182584</td>\n",
       "      <td>0.940421</td>\n",
       "      <td>0.523037</td>\n",
       "      <td>0.278646</td>\n",
       "      <td>0.163862</td>\n",
       "      <td>0.029647</td>\n",
       "      <td>0.004808</td>\n",
       "    </tr>\n",
       "    <tr>\n",
       "      <th>98</th>\n",
       "      <td>1.620376e+09</td>\n",
       "      <td>99</td>\n",
       "      <td>0.195515</td>\n",
       "      <td>0.939130</td>\n",
       "      <td>0.518496</td>\n",
       "      <td>0.279826</td>\n",
       "      <td>0.161570</td>\n",
       "      <td>0.033743</td>\n",
       "      <td>0.006366</td>\n",
       "      <td>0.203262</td>\n",
       "      <td>0.937884</td>\n",
       "      <td>0.509215</td>\n",
       "      <td>0.283053</td>\n",
       "      <td>0.169671</td>\n",
       "      <td>0.030248</td>\n",
       "      <td>0.007812</td>\n",
       "    </tr>\n",
       "    <tr>\n",
       "      <th>99</th>\n",
       "      <td>1.620376e+09</td>\n",
       "      <td>100</td>\n",
       "      <td>0.157659</td>\n",
       "      <td>0.948996</td>\n",
       "      <td>0.584558</td>\n",
       "      <td>0.253695</td>\n",
       "      <td>0.132456</td>\n",
       "      <td>0.024150</td>\n",
       "      <td>0.005142</td>\n",
       "      <td>0.164076</td>\n",
       "      <td>0.947983</td>\n",
       "      <td>0.578526</td>\n",
       "      <td>0.250000</td>\n",
       "      <td>0.144030</td>\n",
       "      <td>0.024038</td>\n",
       "      <td>0.003405</td>\n",
       "    </tr>\n",
       "    <tr>\n",
       "      <th>100</th>\n",
       "      <td>1.620376e+09</td>\n",
       "      <td>101</td>\n",
       "      <td>0.190568</td>\n",
       "      <td>0.939156</td>\n",
       "      <td>0.522391</td>\n",
       "      <td>0.277756</td>\n",
       "      <td>0.155827</td>\n",
       "      <td>0.036147</td>\n",
       "      <td>0.007879</td>\n",
       "      <td>0.204312</td>\n",
       "      <td>0.935313</td>\n",
       "      <td>0.500601</td>\n",
       "      <td>0.285056</td>\n",
       "      <td>0.162059</td>\n",
       "      <td>0.042869</td>\n",
       "      <td>0.009415</td>\n",
       "    </tr>\n",
       "    <tr>\n",
       "      <th>101</th>\n",
       "      <td>1.620376e+09</td>\n",
       "      <td>102</td>\n",
       "      <td>0.158039</td>\n",
       "      <td>0.949349</td>\n",
       "      <td>0.593950</td>\n",
       "      <td>0.243234</td>\n",
       "      <td>0.130520</td>\n",
       "      <td>0.026264</td>\n",
       "      <td>0.006032</td>\n",
       "      <td>0.166059</td>\n",
       "      <td>0.948668</td>\n",
       "      <td>0.596955</td>\n",
       "      <td>0.232372</td>\n",
       "      <td>0.137019</td>\n",
       "      <td>0.026843</td>\n",
       "      <td>0.006811</td>\n",
       "    </tr>\n",
       "  </tbody>\n",
       "</table>\n",
       "<p>102 rows × 16 columns</p>\n",
       "</div>"
      ],
      "text/plain": [
       "       time_stamp  Epoch  Cross Entropy/Training  Accuracy/Training  \\\n",
       "0    1.620370e+09      1                0.384926           0.816403   \n",
       "1    1.620370e+09      2                0.530017           0.769863   \n",
       "2    1.620370e+09      3                0.479465           0.794788   \n",
       "3    1.620370e+09      4                0.342789           0.836622   \n",
       "4    1.620370e+09      5                0.277758           0.867260   \n",
       "..            ...    ...                     ...                ...   \n",
       "97   1.620376e+09     98                0.177730           0.941115   \n",
       "98   1.620376e+09     99                0.195515           0.939130   \n",
       "99   1.620376e+09    100                0.157659           0.948996   \n",
       "100  1.620376e+09    101                0.190568           0.939156   \n",
       "101  1.620376e+09    102                0.158039           0.949349   \n",
       "\n",
       "     PerfectSA/Training  SA1F/Training  SA2F/Training  SA3F/Training  \\\n",
       "0              0.065483       0.259882       0.311788       0.200988   \n",
       "1              0.047654       0.162972       0.239784       0.242076   \n",
       "2              0.043759       0.226607       0.274395       0.228521   \n",
       "3              0.078014       0.329371       0.293269       0.186142   \n",
       "4              0.208556       0.316440       0.253294       0.143162   \n",
       "..                  ...            ...            ...            ...   \n",
       "97             0.528312       0.281205       0.150663       0.035479   \n",
       "98             0.518496       0.279826       0.161570       0.033743   \n",
       "99             0.584558       0.253695       0.132456       0.024150   \n",
       "100            0.522391       0.277756       0.155827       0.036147   \n",
       "101            0.593950       0.243234       0.130520       0.026264   \n",
       "\n",
       "     SAbad/Training  Cross Entropy/Validation  Accuracy/Validation  \\\n",
       "0          0.161859                  0.388260             0.814286   \n",
       "1          0.307514                  0.530361             0.770716   \n",
       "2          0.226718                  0.478987             0.795256   \n",
       "3          0.113203                  0.343847             0.836288   \n",
       "4          0.078548                  0.280943             0.865952   \n",
       "..              ...                       ...                  ...   \n",
       "97         0.004340                  0.182584             0.940421   \n",
       "98         0.006366                  0.203262             0.937884   \n",
       "99         0.005142                  0.164076             0.947983   \n",
       "100        0.007879                  0.204312             0.935313   \n",
       "101        0.006032                  0.166059             0.948668   \n",
       "\n",
       "     PerfectSA/Validation  SA1F/Validation  SA2F/Validation  SA3F/Validation  \\\n",
       "0                0.065104         0.255609         0.306090         0.209535   \n",
       "1                0.049880         0.163462         0.240986         0.243990   \n",
       "2                0.044271         0.229567         0.275441         0.220954   \n",
       "3                0.078125         0.320713         0.304087         0.184696   \n",
       "4                0.211538         0.304287         0.263021         0.136018   \n",
       "..                    ...              ...              ...              ...   \n",
       "97               0.523037         0.278646         0.163862         0.029647   \n",
       "98               0.509215         0.283053         0.169671         0.030248   \n",
       "99               0.578526         0.250000         0.144030         0.024038   \n",
       "100              0.500601         0.285056         0.162059         0.042869   \n",
       "101              0.596955         0.232372         0.137019         0.026843   \n",
       "\n",
       "     SAbad/Validation  \n",
       "0            0.163662  \n",
       "1            0.301683  \n",
       "2            0.229768  \n",
       "3            0.112380  \n",
       "4            0.085136  \n",
       "..                ...  \n",
       "97           0.004808  \n",
       "98           0.007812  \n",
       "99           0.003405  \n",
       "100          0.009415  \n",
       "101          0.006811  \n",
       "\n",
       "[102 rows x 16 columns]"
      ]
     },
     "execution_count": 16,
     "metadata": {},
     "output_type": "execute_result"
    }
   ],
   "source": [
    "one_run = tb_metrics[2]\n",
    "\n",
    "print(\"Number of rows/epochs: \", len(one_run))\n",
    "one_run"
   ]
  },
  {
   "cell_type": "code",
   "execution_count": 17,
   "metadata": {},
   "outputs": [
    {
     "data": {
      "text/plain": [
       "0      1.0\n",
       "1      1.0\n",
       "2      1.0\n",
       "3      1.0\n",
       "4      1.0\n",
       "      ... \n",
       "97     1.0\n",
       "98     1.0\n",
       "99     1.0\n",
       "100    1.0\n",
       "101    1.0\n",
       "Length: 102, dtype: float64"
      ]
     },
     "execution_count": 17,
     "metadata": {},
     "output_type": "execute_result"
    }
   ],
   "source": [
    "one_run['PerfectSA/Validation'] + one_run['SA1F/Validation'] + one_run['SA2F/Validation'] + one_run['SA3F/Validation'] + one_run['SAbad/Validation'] "
   ]
  },
  {
   "cell_type": "code",
   "execution_count": 18,
   "metadata": {},
   "outputs": [],
   "source": [
    "epochs = one_run['Epoch']\n",
    "loss_tr = one_run['Cross Entropy/Training']\n",
    "loss_val = one_run['Cross Entropy/Validation']\n",
    "\n"
   ]
  },
  {
   "cell_type": "code",
   "execution_count": 19,
   "metadata": {},
   "outputs": [
    {
     "data": {
      "image/png": "[encoded data removed]",
      "text/plain": [
       "<Figure size 1004.26x310.339 with 1 Axes>"
      ]
     },
     "metadata": {},
     "output_type": "display_data"
    }
   ],
   "source": [
    "multi_metric_bar_plot(one_run, plot_path, ('barplot_metrics_' + data_name), data_type=\"Validation\", step=10, metric_type=\"SA\")"
   ]
  },
  {
   "cell_type": "code",
   "execution_count": 20,
   "metadata": {},
   "outputs": [
    {
     "data": {
      "image/png": "[encoded data removed]",
      "text/plain": [
       "<Figure size 432x288 with 1 Axes>"
      ]
     },
     "metadata": {},
     "output_type": "display_data"
    }
   ],
   "source": [
    "curve_plot(loss_tr, loss_val, plot_path, ('loss_comparison_' + data_name), 'Cross_Entropy', 'Cross Entropy Loss/ Overtraining Check')"
   ]
  },
  {
   "cell_type": "code",
   "execution_count": 21,
   "metadata": {},
   "outputs": [
    {
     "data": {
      "image/png": "[encoded data removed]",
      "text/plain": [
       "<Figure size 432x288 with 1 Axes>"
      ]
     },
     "metadata": {},
     "output_type": "display_data"
    }
   ],
   "source": [
    "pLCA_tr = one_run['PerfectSA/Training']\n",
    "pLCA_val = one_run['PerfectSA/Validation']\n",
    "\n",
    "\n",
    "curve_plot(pLCA_tr, pLCA_val, plot_path, ('perfectSA_comparison_' + data_name), 'PerfectSA', 'PerfectSA / Overtraining Check')"
   ]
  },
  {
   "cell_type": "code",
   "execution_count": null,
   "metadata": {},
   "outputs": [],
   "source": []
  },
  {
   "cell_type": "code",
   "execution_count": null,
   "metadata": {},
   "outputs": [],
   "source": []
  }
 ],
 "metadata": {
  "kernelspec": {
   "display_name": "Python 3",
   "language": "python",
   "name": "python3"
  },
  "language_info": {
   "codemirror_mode": {
    "name": "ipython",
    "version": 3
   },
   "file_extension": ".py",
   "mimetype": "text/x-python",
   "name": "python",
   "nbconvert_exporter": "python",
   "pygments_lexer": "ipython3",
   "version": "3.8.6"
  }
 },
 "nbformat": 4,
 "nbformat_minor": 4
}
