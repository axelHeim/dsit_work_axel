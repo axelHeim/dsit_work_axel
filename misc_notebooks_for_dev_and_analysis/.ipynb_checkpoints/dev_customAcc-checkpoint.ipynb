{
 "cells": [
  {
   "cell_type": "code",
   "execution_count": 3,
   "metadata": {},
   "outputs": [],
   "source": [
    "import numpy as np\n",
    "import torch"
   ]
  },
  {
   "cell_type": "code",
   "execution_count": 7,
   "metadata": {},
   "outputs": [],
   "source": [
    "y = torch.tensor([[1, 2, 0, 1, 2, 0,1, 2, 0,1, 2, 0,0,0,0,-1,-1,-1],\n",
    "                 [1, 2, 0, 1, 2, 0,1, 2, 0,1, 2, 0,0,0,0,-1,-1,-1],\n",
    "                 [1, 2, 0, 1, 2, 0,1, 2, 0,1, 2, 0,0,0,0,-1,-1,-1],\n",
    "                 [1, 2, 0, 1, 2, 0,1, 2, 0,1, 2, 0,0,0,0,-1,-1,-1],\n",
    "                 [1, 2, 0, 1, 2, 0,1, 2, 0,1, 2, 0,0,0,0,-1,-1,-1],\n",
    "                 [1, 2, 0, 1, 2, 0,1, 2, 0,1, 2, 0,0,0,0,-1,-1,-1],\n",
    "                 [1, 2, 0, 1, 2, 0,1, 2, 0,1, 2, 0,0,0,0,-1,-1,-1],\n",
    "                 [1, 2, 0, 1, 2, 0,1, 2, 0,1, 2, 0,0,0,0,-1,-1,-1]])\n",
    "\n",
    "y_pred = torch.tensor([[0,0,0, 2,2,2,1, 2, 0,1, 2, 0,0,0,0,1,1,1],\n",
    "                      [0,0,0, 2,2,2,1, 2, 0,1, 2, 0,0,0,0,1,1,1],\n",
    "                      [0,0,0, 2,2,2,1, 2, 0,1, 2, 0,0,0,0,1,1,1],\n",
    "                      [0,0,0, 2,2,2,1, 2, 0,1, 2, 0,0,0,0,1,1,1],\n",
    "                      [0,0,0, 2,2,2,1, 2, 0,1, 2, 0,0,0,0,1,1,1],\n",
    "                      [0,0,0, 2,2,2,1, 2, 0,1, 2, 0,0,0,0,1,1,1],\n",
    "                      [0,0,0, 2,2,2,1, 2, 0,1, 2, 0,0,0,0,1,1,1],\n",
    "                      [0,0,0, 2,2,2,1, 2, 0,1, 2, 0,0,0,0,1,1,1]])"
   ]
  },
  {
   "cell_type": "code",
   "execution_count": 6,
   "metadata": {},
   "outputs": [
    {
     "data": {
      "text/plain": [
       "torch.Size([6, 18])"
      ]
     },
     "execution_count": 6,
     "metadata": {},
     "output_type": "execute_result"
    }
   ],
   "source": [
    "y.shape"
   ]
  },
  {
   "cell_type": "code",
   "execution_count": null,
   "metadata": {},
   "outputs": [],
   "source": []
  },
  {
   "cell_type": "code",
   "execution_count": null,
   "metadata": {},
   "outputs": [],
   "source": []
  },
  {
   "cell_type": "code",
   "execution_count": null,
   "metadata": {},
   "outputs": [],
   "source": []
  },
  {
   "cell_type": "code",
   "execution_count": null,
   "metadata": {},
   "outputs": [],
   "source": [
    "indices = torch.argmax(y_pred, dim=1)\n",
    "\n",
    "        mask = (y != self.ignored_class)\n",
    "        mask &= (indices != self.ignored_class)\n",
    "        y = y[mask]\n",
    "        indices = indices[mask]\n",
    "        correct = torch.eq(indices, y).view(-1)\n",
    "\n",
    "        self._num_correct += torch.sum(correct).to(self._device)\n",
    "        self._num_examples += correct.shape[0]"
   ]
  }
 ],
 "metadata": {
  "kernelspec": {
   "display_name": "Python 3",
   "language": "python",
   "name": "python3"
  },
  "language_info": {
   "codemirror_mode": {
    "name": "ipython",
    "version": 3
   },
   "file_extension": ".py",
   "mimetype": "text/x-python",
   "name": "python",
   "nbconvert_exporter": "python",
   "pygments_lexer": "ipython3",
   "version": "3.8.6"
  }
 },
 "nbformat": 4,
 "nbformat_minor": 4
}
