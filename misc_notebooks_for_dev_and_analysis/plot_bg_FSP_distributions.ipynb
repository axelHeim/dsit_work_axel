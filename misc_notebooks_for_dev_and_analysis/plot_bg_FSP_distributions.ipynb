{
 "cells": [
  {
   "cell_type": "code",
   "execution_count": 5,
   "metadata": {},
   "outputs": [],
   "source": [
    "import numpy as np\n",
    "import pandas as pd\n",
    "from random import choice\n",
    "#from pathlib import Path\n",
    "#import math\n",
    "#import baumbauen as bb\n",
    "from phasespace import GenParticle\n",
    "import tensorflow as tf\n",
    "\n",
    "import matplotlib.pyplot as plt\n",
    "\n",
    "import tensorflow_probability as tfp"
   ]
  },
  {
   "cell_type": "code",
   "execution_count": 6,
   "metadata": {},
   "outputs": [],
   "source": [
    "def bg_mother_mass(min_mass, max_mass, n_events):\n",
    "    min_mass = tf.cast(min_mass, tf.float64)\n",
    "    max_mass = tf.cast(max_mass, tf.float64)\n",
    "    \n",
    "    kstar_width = 50.0\n",
    "    kstar_mass = 1500.0\n",
    "    \n",
    "    kstar_width_cast = tf.cast(kstar_width, tf.float64)\n",
    "    kstar_mass_cast = tf.cast(kstar_mass, dtype=tf.float64)\n",
    "\n",
    "    kstar_mass = tf.broadcast_to(kstar_mass_cast, shape=(n_events,))\n",
    "    if kstar_width > 0:\n",
    "        kstar_mass = tfp.distributions.TruncatedNormal(loc=kstar_mass,scale=kstar_width_cast,low=min_mass,high=max_mass).sample()\n",
    "        #kstar_mass = tfp.distributions.Uniform(low=min_mass, high=max_mass).sample()\n",
    "   \n",
    "    return kstar_mass\n"
   ]
  },
  {
   "cell_type": "code",
   "execution_count": 7,
   "metadata": {},
   "outputs": [],
   "source": [
    "num_max_bg = 3\n",
    "prob = 0.5\n",
    "n_events = 10000\n",
    "\n",
    "# create background tensors with -1s, as it is planned to randomize how many bg particles are used\n",
    "bg_leaves = np.full((n_events, num_max_bg, 4), -1.0)\n",
    "bg_SA = np.full((n_events, num_max_bg), -1)\n",
    "bg_global_tag = np.chararray((n_events, num_max_bg), itemsize=30)\n",
    "bg_global_tag[:,:] = \"-1\"\n",
    "\n",
    "\n",
    "\n",
    "# phase space part to create the bg particles\n",
    "bg_parti_names = ['BG_K','BG_pi','BG_gamma']\n",
    "pi_mass = 140\n",
    "K_mass = 494\n",
    "gamma_mass = 0\n",
    "K_1 = GenParticle(bg_parti_names[0], K_mass)\n",
    "pi_1 = GenParticle(bg_parti_names[1], pi_mass)\n",
    "gamma1 = GenParticle(bg_parti_names[2], gamma_mass)\n",
    "\n",
    "Y = GenParticle('Y', 1500).set_children(K_1, pi_1, gamma1)\n",
    "weights, particles = Y.generate(n_events=n_events)\n",
    "\n",
    "\n",
    "\n",
    "\n",
    "# read out the bg particle 4 momenta\n",
    "leaves_all = np.zeros((num_max_bg, n_events, 4))      \n",
    "for i in range(num_max_bg):\n",
    "    leaves_all[i] = particles[bg_parti_names[i]]\n",
    "leaves_all = leaves_all.swapaxes(0, 1)\n"
   ]
  },
  {
   "cell_type": "code",
   "execution_count": 8,
   "metadata": {},
   "outputs": [
    {
     "data": {
      "text/plain": [
       "(10000, 3, 4)"
      ]
     },
     "execution_count": 8,
     "metadata": {},
     "output_type": "execute_result"
    }
   ],
   "source": [
    "leaves_all.shape"
   ]
  },
  {
   "cell_type": "code",
   "execution_count": 9,
   "metadata": {},
   "outputs": [],
   "source": [
    "kaon = leaves_all[:,0]\n",
    "kaon_p = np.sqrt((kaon[:,0:3]**2).sum(axis=1))"
   ]
  },
  {
   "cell_type": "code",
   "execution_count": 10,
   "metadata": {},
   "outputs": [
    {
     "name": "stdout",
     "output_type": "stream",
     "text": [
      "[-155.18035659  484.80864473 -309.31978897  773.84436221]\n",
      "595.6501464180983 \n",
      "\n",
      "[628.4635806  184.02730407   8.63425831 820.33107414]\n",
      "654.9099718315238 \n",
      "\n",
      "[-509.44635928  267.90898754  170.37170481  777.41452031]\n",
      "600.28104783885 \n",
      "\n",
      "[162.59263756 326.81697329 238.90969639 659.05958976]\n",
      "436.2608655931363 \n",
      "\n",
      "[-274.38397282  232.21012216    2.54259627  610.94236239]\n",
      "359.4642821873877 \n",
      "\n"
     ]
    }
   ],
   "source": [
    "for i in range(5):\n",
    "    print(kaon[i])\n",
    "    print(kaon_p[i],'\\n')\n"
   ]
  },
  {
   "cell_type": "code",
   "execution_count": 11,
   "metadata": {},
   "outputs": [],
   "source": [
    "pion = leaves_all[:,1]\n",
    "pion_p = np.sqrt((pion[:,0:3]**2).sum(axis=1))"
   ]
  },
  {
   "cell_type": "code",
   "execution_count": 12,
   "metadata": {},
   "outputs": [],
   "source": [
    "gamma = leaves_all[:,2]\n",
    "gamma_p = np.sqrt((gamma[:,0:3]**2).sum(axis=1))"
   ]
  },
  {
   "cell_type": "code",
   "execution_count": 13,
   "metadata": {},
   "outputs": [
    {
     "data": {
      "image/png": "[encoded data removed]",
      "text/plain": [
       "<Figure size 432x288 with 1 Axes>"
      ]
     },
     "metadata": {
      "needs_background": "light"
     },
     "output_type": "display_data"
    }
   ],
   "source": [
    "_ = plt.hist(pion_p, bins=100)  # arguments are passed to np.histogram\n",
    "plt.title(\"pion_p distribution\")\n",
    "plt.show()"
   ]
  },
  {
   "cell_type": "code",
   "execution_count": 14,
   "metadata": {},
   "outputs": [
    {
     "data": {
      "image/png": "[encoded data removed]",
      "text/plain": [
       "<Figure size 432x288 with 1 Axes>"
      ]
     },
     "metadata": {
      "needs_background": "light"
     },
     "output_type": "display_data"
    }
   ],
   "source": [
    "_ = plt.hist(gamma_p, bins=100)  # arguments are passed to np.histogram\n",
    "plt.title(\"gamma_p distribution\")\n",
    "plt.show()"
   ]
  },
  {
   "cell_type": "code",
   "execution_count": 15,
   "metadata": {},
   "outputs": [
    {
     "data": {
      "image/png": "[encoded data removed]",
      "text/plain": [
       "<Figure size 432x288 with 1 Axes>"
      ]
     },
     "metadata": {
      "needs_background": "light"
     },
     "output_type": "display_data"
    }
   ],
   "source": [
    "_ = plt.hist(kaon_p, bins=100)  # arguments are passed to np.histogram\n",
    "plt.title(\"kaon_p distribution\")\n",
    "plt.show()"
   ]
  },
  {
   "cell_type": "code",
   "execution_count": 33,
   "metadata": {},
   "outputs": [
    {
     "data": {
      "text/plain": [
       "array([<AxesSubplot:title={'center':'pion_p'}, xlabel='$p$  / MeV', ylabel='count'>],\n",
       "      dtype=object)"
      ]
     },
     "execution_count": 33,
     "metadata": {},
     "output_type": "execute_result"
    },
    {
     "data": {
      "image/png": "[encoded data removed]",
      "text/plain": [
       "<Figure size 936x360 with 3 Axes>"
      ]
     },
     "metadata": {
      "needs_background": "light"
     },
     "output_type": "display_data"
    }
   ],
   "source": [
    "kaon = pd.DataFrame({\"kaon_p\" : kaon_p})\n",
    "gamma = pd.DataFrame({\"gamma_p\" : gamma_p})\n",
    "pion = pd.DataFrame({\"pion_p\" : pion_p})\n",
    "\n",
    "fig, axes = plt.subplots(1, 3,figsize=(13,5))\n",
    "\n",
    "plt.ylabel('count')\n",
    "plt.xlabel(r'$p$  / MeV')\n",
    "\n",
    "kaon.hist('kaon_p', bins=100, ax=axes[0])\n",
    "gamma.hist('gamma_p', bins=100, ax=axes[1])\n",
    "pion.hist('pion_p', bins=100, ax=axes[2])\n"
   ]
  },
  {
   "cell_type": "markdown",
   "metadata": {},
   "source": [
    "# repeat for bg mother with mass distribution"
   ]
  },
  {
   "cell_type": "code",
   "execution_count": null,
   "metadata": {},
   "outputs": [],
   "source": [
    "# create another mother and events with mass distribution\n",
    "Y2 = GenParticle('Y2', mass=bg_mother_mass).set_children(K_1, pi_1, gamma1)\n",
    "pi_2 = GenParticle(\"pi_2\", pi_mass)\n",
    "\n",
    "mother = GenParticle('mother', 2500).set_children(Y2, pi_2)\n",
    "weights2, particles2 = mother.generate(n_events=n_events)\n",
    "\n",
    "# read out the bg particle 4 momenta\n",
    "leaves_all = np.zeros((num_max_bg, n_events, 4))      \n",
    "for i in range(num_max_bg):\n",
    "    leaves_all[i] = particles2[bg_parti_names[i]]\n",
    "leaves_all = leaves_all.swapaxes(0, 1)"
   ]
  },
  {
   "cell_type": "code",
   "execution_count": null,
   "metadata": {},
   "outputs": [],
   "source": [
    "kaon = leaves_all[:,0]\n",
    "kaon_p = np.sqrt((kaon[:,0:3]**2).sum(axis=1))"
   ]
  },
  {
   "cell_type": "code",
   "execution_count": null,
   "metadata": {},
   "outputs": [],
   "source": [
    "gamma = leaves_all[:,2]\n",
    "gamma_p = np.sqrt((gamma[:,0:3]**2).sum(axis=1))"
   ]
  },
  {
   "cell_type": "code",
   "execution_count": null,
   "metadata": {},
   "outputs": [],
   "source": [
    "pion = leaves_all[:,1]\n",
    "pion_p = np.sqrt((pion[:,0:3]**2).sum(axis=1))"
   ]
  },
  {
   "cell_type": "code",
   "execution_count": null,
   "metadata": {},
   "outputs": [],
   "source": [
    "_ = plt.hist(pion_p, bins=100)  # arguments are passed to np.histogram\n",
    "plt.title(\"pion_p distribution\")\n",
    "plt.show()"
   ]
  },
  {
   "cell_type": "code",
   "execution_count": null,
   "metadata": {},
   "outputs": [],
   "source": [
    "_ = plt.hist(gamma_p, bins=100)  # arguments are passed to np.histogram\n",
    "plt.title(\"gamma_p distribution\")\n",
    "plt.show()"
   ]
  },
  {
   "cell_type": "code",
   "execution_count": null,
   "metadata": {},
   "outputs": [],
   "source": [
    "_ = plt.hist(pion_p, bins=100)  # arguments are passed to np.histogram\n",
    "plt.title(\"kaon_p distribution\")\n",
    "plt.show()"
   ]
  },
  {
   "cell_type": "code",
   "execution_count": null,
   "metadata": {},
   "outputs": [],
   "source": []
  },
  {
   "cell_type": "code",
   "execution_count": null,
   "metadata": {},
   "outputs": [],
   "source": []
  }
 ],
 "metadata": {
  "kernelspec": {
   "display_name": "Python 3",
   "language": "python",
   "name": "python3"
  },
  "language_info": {
   "codemirror_mode": {
    "name": "ipython",
    "version": 3
   },
   "file_extension": ".py",
   "mimetype": "text/x-python",
   "name": "python",
   "nbconvert_exporter": "python",
   "pygments_lexer": "ipython3",
   "version": "3.8.6"
  }
 },
 "nbformat": 4,
 "nbformat_minor": 4
}
