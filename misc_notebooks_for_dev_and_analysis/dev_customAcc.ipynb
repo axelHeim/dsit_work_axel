{
 "cells": [
  {
   "cell_type": "code",
   "execution_count": 3,
   "metadata": {},
   "outputs": [],
   "source": [
    "import numpy as np\n",
    "import torch"
   ]
  },
  {
   "cell_type": "code",
   "execution_count": 78,
   "metadata": {},
   "outputs": [],
   "source": [
    "y = torch.tensor([[[1, 2, 0, 1, 2, 0,1, 2, 0,1, 2, 0,0,0,0,-1,-1,-1],\n",
    "                 [1, 2, 0, 1, 2, 0,1, 2, 0,1, 2, 0,0,0,0,-1,-1,-1],\n",
    "                 [1, 2, 0, 1, 2, 0,1, 2, 0,1, 2, 0,0,0,0,-1,-1,-1],\n",
    "                 [1, 2, 0, 1, 2, 0,1, 2, 0,1, 2, 0,0,0,0,-1,-1,-1],\n",
    "                 [1, 2, 0, 1, 2, 0,1, 2, 0,1, 2, 0,0,0,0,-1,-1,-1],\n",
    "                 [2,2,2, 1, 2, 0,1, 2, 0,1, 2, 0,0,0,0,-1,-1,-1],\n",
    "                 [1, 2, 0, 1, 2, 0,1, 2, 0,1, 2, 0,0,0,0,-1,-1,-1],\n",
    "                 [1, 2, 0, 1, 2, 0,1, 2, 0,1, 2, 0,0,0,0,-1,-1,-1]]])\n",
    "\n",
    "y_pred = torch.tensor([[[0,0,0, 2,2,2,1, 2, 0,1, 2, 0,0,0,0,1,1,1],\n",
    "                      [0,0,0, 2,2,2,1, 2, 0,1, 2, 0,0,0,0,1,1,1],\n",
    "                      [0,0,0, 2,2,2,1, 2, 0,1, 2, 0,0,0,0,1,1,1],\n",
    "                      [0,0,0, 2,2,2,1, 2, 0,1, 2, 0,0,0,0,1,1,1],\n",
    "                      [0,0,0, 2,2,2,1, 2, 0,1, 2, 0,0,0,0,1,1,1],\n",
    "                      [2,2,2, 2,2,2,1, 2, 0,1, 2, 0,0,0,0,1,1,1],\n",
    "                      [0,0,0, 2,2,2,1, 2, 0,1, 2, 0,0,0,0,1,1,1],\n",
    "                      [0,0,0, 2,2,2,1, 2, 0,1, 2, 0,0,0,0,1,1,1]]])"
   ]
  },
  {
   "cell_type": "code",
   "execution_count": 79,
   "metadata": {},
   "outputs": [
    {
     "name": "stdout",
     "output_type": "stream",
     "text": [
      "torch.Size([1, 8, 18])\n",
      "torch.Size([1, 8, 18])\n"
     ]
    }
   ],
   "source": [
    "print(y_pred.shape)\n",
    "print(y.shape)"
   ]
  },
  {
   "cell_type": "code",
   "execution_count": 80,
   "metadata": {},
   "outputs": [
    {
     "name": "stdout",
     "output_type": "stream",
     "text": [
      "torch.Size([34])\n",
      "torch.Size([34])\n",
      "tensor([2, 2, 2, 2, 2, 2, 2, 2, 2, 2, 2, 2, 2, 2, 2, 2, 2, 2, 2, 2, 2, 2, 2, 2,\n",
      "        2, 2, 2, 2, 2, 2, 2, 2, 2, 2])\n",
      "tensor([0, 2, 2, 2, 0, 2, 2, 2, 0, 2, 2, 2, 0, 2, 2, 2, 0, 2, 2, 2, 2, 2, 2, 2,\n",
      "        2, 2, 0, 2, 2, 2, 0, 2, 2, 2])\n",
      "tensor([False,  True, False, False,  True, False, False,  True, False, False,\n",
      "         True, False, False, False, False, False,  True, False, False,  True,\n",
      "        False, False,  True, False, False,  True, False, False, False, False,\n",
      "        False,  True, False, False,  True, False, False,  True, False, False,\n",
      "         True, False, False, False, False, False,  True, False, False,  True,\n",
      "        False, False,  True, False, False,  True, False, False, False, False,\n",
      "        False,  True, False, False,  True, False, False,  True, False, False,\n",
      "         True, False, False, False, False,  True,  True,  True, False,  True,\n",
      "        False, False,  True, False, False,  True, False, False, False, False,\n",
      "        False,  True, False, False,  True, False, False,  True, False, False,\n",
      "         True, False, False, False, False, False,  True, False, False,  True,\n",
      "        False, False,  True, False, False,  True, False, False, False, False])\n",
      "27\n",
      "34\n"
     ]
    }
   ],
   "source": [
    "ignored_class = -1\n",
    "custom_class = 2\n",
    "\n",
    "indices = y_pred #torch.argmax(y_pred, dim=1)\n",
    "\n",
    "mask = (y != ignored_class)\n",
    "mask &= (indices != ignored_class)\n",
    "y = y[mask]\n",
    "indices = indices[mask]\n",
    "\n",
    "mask2 = (y == custom_class)\n",
    "y = y[mask2]\n",
    "indices = indices[mask2]\n",
    "#indices[indices != custom_class] = -10\n",
    "\n",
    "print(y.shape)\n",
    "print(indices.shape)\n",
    "print(y)\n",
    "print(indices)\n",
    "print(mask2)\n",
    "correct = torch.eq(indices, y).view(-1)\n",
    "\n",
    "print(torch.sum(correct).item())\n",
    "print(correct.shape[0])"
   ]
  },
  {
   "cell_type": "code",
   "execution_count": 82,
   "metadata": {},
   "outputs": [
    {
     "name": "stdout",
     "output_type": "stream",
     "text": [
      "hi\n"
     ]
    }
   ],
   "source": [
    "x = None\n",
    "if x == None:\n",
    "    print(\"hi\")"
   ]
  },
  {
   "cell_type": "code",
   "execution_count": 49,
   "metadata": {},
   "outputs": [
    {
     "name": "stdout",
     "output_type": "stream",
     "text": [
      "tensor([0, 1, 2])\n",
      "tensor([61, 40, 43])\n",
      "tensor([-1,  0,  1,  2])\n",
      "tensor([24, 55, 31, 34])\n",
      "\n",
      "xxx 0: 1.1090909090909091\n",
      "61 55\n"
     ]
    }
   ],
   "source": [
    "output_y_pred, counts_y_pred = torch.unique(y_pred, return_counts=True)\n",
    "print(output_y_pred)\n",
    "print(counts_y_pred)\n",
    "\n",
    "\n",
    "output_y, counts_y = torch.unique(y, return_counts=True)\n",
    "print(output_y)\n",
    "print(counts_y)\n",
    "\n",
    "print(\"\")\n",
    "print(\"xxx 0:\", counts_y_pred[0].item()/counts_y[1].item())\n",
    "print(counts_y_pred[0].item(),counts_y[1].item())"
   ]
  },
  {
   "cell_type": "code",
   "execution_count": null,
   "metadata": {},
   "outputs": [],
   "source": []
  },
  {
   "cell_type": "code",
   "execution_count": null,
   "metadata": {},
   "outputs": [],
   "source": []
  },
  {
   "cell_type": "code",
   "execution_count": 67,
   "metadata": {},
   "outputs": [
    {
     "name": "stdout",
     "output_type": "stream",
     "text": [
      "torch.Size([1, 8, 15])\n",
      "torch.Size([1, 8, 15])\n"
     ]
    },
    {
     "data": {
      "text/plain": [
       "tensor(90)"
      ]
     },
     "execution_count": 67,
     "metadata": {},
     "output_type": "execute_result"
    }
   ],
   "source": [
    "x1 = torch.tensor([[[1, 2, 0, 1, 2, 0,1, 2, 0,1, 2, 0,0,0,0],\n",
    "                 [1, 2, 0, 1, 2, 0,1, 2, 0,1, 2, 0,0,0,0],\n",
    "                 [1, 2, 0, 1, 2, 0,1, 2, 0,1, 2, 0,0,0,0],\n",
    "                 [1, 2, 0, 1, 2, 0,1, 2, 0,1, 2, 0,0,0,0],\n",
    "                 [1, 2, 0, 1, 2, 0,1, 2, 0,1, 2, 0,0,0,0],\n",
    "                 [2,2,2, 1, 2, 0,1, 2, 0,1, 2, 0,0,0,0],\n",
    "                 [1, 2, 0, 1, 2, 0,1, 2, 0,1, 2, 0,0,0,0],\n",
    "                 [1, 2, 0, 1, 2, 0,1, 2, 0,1, 2, 0,0,0,0]]])\n",
    "\n",
    "x2 = torch.tensor([[[0,0,0, 2,2,2,1, 2, 0,1, 2, 0,0,0,0],\n",
    "                      [0,0,0, 2,2,2,1, 2, 0,1, 2, 0,0,0,0],\n",
    "                      [0,0,0, 2,2,2,1, 2, 0,1, 2, 0,0,0,0],\n",
    "                      [0,0,0, 2,2,2,1, 2, 0,1, 2, 0,0,0,0],\n",
    "                      [0,0,0, 2,2,2,1, 2, 0,1, 2, 0,0,0,0],\n",
    "                      [2,2,2, 2,2,2,1, 2, 0,1, 2, 0,0,0,0],\n",
    "                      [0,0,0, 2,2,2,1, 2, 0,1, 2, 0,0,0,0],\n",
    "                      [0,0,0, 2,2,2,1, 2, 0,1, 2, 0,0,0,0]]])\n",
    "print(x1.shape)\n",
    "print(x2.shape)\n",
    "\n",
    "torch.sum(torch.eq(x1, x2))"
   ]
  },
  {
   "cell_type": "code",
   "execution_count": null,
   "metadata": {},
   "outputs": [],
   "source": []
  }
 ],
 "metadata": {
  "kernelspec": {
   "display_name": "Python 3",
   "language": "python",
   "name": "python3"
  },
  "language_info": {
   "codemirror_mode": {
    "name": "ipython",
    "version": 3
   },
   "file_extension": ".py",
   "mimetype": "text/x-python",
   "name": "python",
   "nbconvert_exporter": "python",
   "pygments_lexer": "ipython3",
   "version": "3.8.6"
  }
 },
 "nbformat": 4,
 "nbformat_minor": 4
}
