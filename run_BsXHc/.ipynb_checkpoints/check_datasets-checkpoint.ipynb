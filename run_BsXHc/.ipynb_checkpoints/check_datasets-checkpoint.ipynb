{
 "cells": [
  {
   "cell_type": "code",
   "execution_count": 2,
   "metadata": {},
   "outputs": [],
   "source": [
    "import numpy as np\n",
    "from pathlib import Path"
   ]
  },
  {
   "cell_type": "code",
   "execution_count": 3,
   "metadata": {},
   "outputs": [],
   "source": [
    "run_folder = \"run_BsX/\"\n",
    "\n",
    "nfs_path = \"/nfs/dust/belle2/user/axelheim/BranchSeparator/\" + run_folder\n",
    "\n",
    "\n",
    "\n",
    "data_folder =  \"TSD_BsX_15k_each_6trees_IDs_charge \"\n",
    "top_dir = Path(nfs_path)\n",
    "dataset_dir = Path(nfs_path + 'data/' + data_folder)\n",
    "\n",
    "\n",
    "leaves = np.load(dataset_dir / 'leaves.npy')    \n",
    "is_left = np.load(dataset_dir / 'is_left_arr.npy')\n",
    "glob_tag = np.load(dataset_dir / 'global_tag.npy')"
   ]
  },
  {
   "cell_type": "code",
   "execution_count": 4,
   "metadata": {},
   "outputs": [
    {
     "name": "stdout",
     "output_type": "stream",
     "text": [
      "(90000, 12, 4)\n",
      "(90000, 12)\n",
      "(90000, 13)\n"
     ]
    }
   ],
   "source": [
    "print(leaves.shape)\n",
    "print(is_left.shape)\n",
    "print(glob_tag.shape)\n"
   ]
  },
  {
   "cell_type": "code",
   "execution_count": 5,
   "metadata": {},
   "outputs": [
    {
     "name": "stdout",
     "output_type": "stream",
     "text": [
      "leaves: \n",
      " [[  110.91    97.84   -37.03   516.99]\n",
      " [  192.66  -564.38   142.46   613.14]\n",
      " [  194.   -1100.23   206.65  1136.16]\n",
      " [   -1.      -1.      -1.      -1.  ]\n",
      " [ -110.79   645.96     0.83   670.18]\n",
      " [   -1.      -1.      -1.      -1.  ]\n",
      " [-1011.6   2148.17   521.57  2480.73]\n",
      " [ -348.75   573.98  1150.13  1420.53]\n",
      " [   -1.      -1.      -1.      -1.  ]\n",
      " [   -1.      -1.      -1.      -1.  ]\n",
      " [  -29.65  -310.74  -494.79   601.54]\n",
      " [  318.28   368.75   196.18   543.47]]\n",
      "is_left array: \n",
      " [ 2.  1.  1. -1.  1. -1.  0.  1. -1. -1.  1.  1.]\n",
      "glob_tag array: \n",
      " [b'BG_K-' b'gamma_s1' b'gamma_s2' b'-1' b'pi-_s1' b'gamma_s4_DELETED_rand'\n",
      " b'K-_1' b'K+_s1' b'-1' b'gamma_s3_DELETED_momCut' b'pi+_s1' b'pi-_s2'\n",
      " b'1']\n"
     ]
    }
   ],
   "source": [
    "np.set_printoptions(precision=2)\n",
    "np.set_printoptions(suppress=True)\n",
    "\n",
    "i = 2\n",
    "print(f\"leaves: \\n {leaves[i]}\")\n",
    "print(f\"is_left array: \\n {is_left[i]}\")\n",
    "print(f\"glob_tag array: \\n {glob_tag[i]}\")"
   ]
  },
  {
   "cell_type": "code",
   "execution_count": 16,
   "metadata": {},
   "outputs": [
    {
     "name": "stdout",
     "output_type": "stream",
     "text": [
      "1 1 1 1 1 1 1 1 1 1 1 1\n",
      "leaves: \n",
      " [[-1168.1    965.13   352.27  1555.64]\n",
      " [ -120.49  -393.98  -371.82   742.98]\n",
      " [ -780.01   377.68   177.18   895.57]\n",
      " [ -813.21   847.36  2656.41  2946.17]\n",
      " [  160.75    20.82    26.41   164.23]\n",
      " [  618.77 -1415.15   594.61  1727.17]\n",
      " [   53.46    94.96    53.32   185.25]\n",
      " [  608.51   -70.55   227.13   668.16]\n",
      " [   -1.      -1.      -1.      -1.  ]\n",
      " [   -1.      -1.      -1.      -1.  ]\n",
      " [  273.77   -53.48  -105.7    298.3 ]\n",
      " [  -10.06   -87.26   145.87   220.44]]\n",
      "is_left array: \n",
      " [ 1.  2.  1.  0.  1.  1.  1.  1. -1. -1.  1.  2.]\n",
      "glob_tag array: \n",
      " [b'gamma_s1' b'BG_K-' b'pi+_s1' b'K-_1' b'gamma_s4' b'K+_s1' b'pi-_s1'\n",
      " b'pi-_s2' b'gamma_s2_DELETED_momCut' b'-1' b'gamma_s3' b'BG_pi-' b'1']\n",
      "\n",
      "\n",
      "\n",
      "\n",
      "\n",
      "2 2 2 2 2 2 2 2 2 2 2 2\n",
      "leaves: \n",
      " [[   34.79   504.35  -231.93   573.56]\n",
      " [   -1.      -1.      -1.      -1.  ]\n",
      " [   -1.      -1.      -1.      -1.  ]\n",
      " [ 1817.95 -1439.37   531.68  2383.07]\n",
      " [   -1.      -1.      -1.      -1.  ]\n",
      " [-1608.91   977.99  1389.19  2391.43]\n",
      " [   52.69    44.94   -31.61    76.12]\n",
      " [   42.92   528.52  -338.55   644.5 ]\n",
      " [ -101.61 -1575.81   551.88  1678.59]\n",
      " [ -139.3   -628.23  -197.97   687.65]\n",
      " [   -1.      -1.      -1.      -1.  ]\n",
      " [   -1.      -1.      -1.      -1.  ]]\n",
      "is_left array: \n",
      " [ 2. -1. -1.  1. -1.  1.  1.  1.  0.  0. -1. -1.]\n",
      "glob_tag array: \n",
      " [b'BG_pi-' b'-1' b'-1' b'pi-_s1' b'-1' b'K-_s1' b'gamma_s1' b'pi+_s1'\n",
      " b'pi+_2' b'pi+_1' b'-1' b'-1' b'2']\n",
      "\n",
      "\n",
      "\n",
      "\n",
      "\n",
      "4 4 4 4 4 4 4 4 4 4 4 4\n",
      "leaves: \n",
      " [[   -1.      -1.      -1.      -1.  ]\n",
      " [  693.51 -1028.1   1617.71  2038.37]\n",
      " [  928.83 -1390.8   1957.28  2578.3 ]\n",
      " [   -1.      -1.      -1.      -1.  ]\n",
      " [ -812.17  1749.47   -15.33  1991.11]\n",
      " [  -10.38   533.31  -293.32   783.96]\n",
      " [ -679.03   607.03   -90.64   925.95]\n",
      " [   -1.      -1.      -1.      -1.  ]\n",
      " [  222.93  -250.82   343.39   480.13]\n",
      " [   -1.      -1.      -1.      -1.  ]\n",
      " [  143.7   -336.6    258.22   447.91]\n",
      " [   -1.      -1.      -1.      -1.  ]]\n",
      "is_left array: \n",
      " [-1.  1.  0. -1.  1.  2.  0. -1.  1. -1.  2. -1.]\n",
      "glob_tag array: \n",
      " [b'pi-_s1_DELETED_theta' b'gamma_s2' b'pi-_2' b'-1' b'K+_s1' b'BG_K+'\n",
      " b'pi-_1' b'-1' b'gamma_s1' b'pi+_s1_DELETED_theta' b'BG_gamma' b'-1' b'4']\n",
      "\n",
      "\n",
      "\n",
      "\n",
      "\n",
      "5 5 5 5 5 5 5 5 5 5 5 5\n",
      "leaves: \n",
      " [[ -747.19 -1212.27  1062.45  1782.22]\n",
      " [   -1.      -1.      -1.      -1.  ]\n",
      " [   61.26   228.09  -119.75   299.53]\n",
      " [  461.17  -254.15  -218.35   586.98]\n",
      " [   -1.      -1.      -1.      -1.  ]\n",
      " [   -1.      -1.      -1.      -1.  ]\n",
      " [   -1.      -1.      -1.      -1.  ]\n",
      " [ -853.63   409.41   191.35  1084.87]\n",
      " [ 1289.67  1017.99   406.52  1698.36]\n",
      " [   -1.      -1.      -1.      -1.  ]\n",
      " [   -1.      -1.      -1.      -1.  ]\n",
      " [  895.58  -825.76  2723.62  2986.91]]\n",
      "is_left array: \n",
      " [ 1. -1.  1.  1. -1. -1. -1.  1.  1. -1. -1.  0.]\n",
      "glob_tag array: \n",
      " [b'pi+_s2' b'-1' b'pi-_s2' b'pi-_s1' b'BG_pi+_DELETED_momCut'\n",
      " b'BG_K+_DELETED_theta' b'-1' b'K+_s1' b'pi+_s1' b'-1' b'-1' b'pi-_1' b'5']\n",
      "\n",
      "\n",
      "\n",
      "\n",
      "\n",
      "3 3 3 3 3 3 3 3 3 3 3 3\n",
      "leaves: \n",
      " [[   38.79    99.96  -173.67   247.51]\n",
      " [ -172.88  -465.37   363.59   615.35]\n",
      " [ -185.68  -692.99  1420.83  1597.83]\n",
      " [ -286.88  -201.56  -303.68   484.51]\n",
      " [   95.35 -1559.06  1119.96  1927.09]\n",
      " [   20.72    56.25   164.41   175.  ]\n",
      " [   -1.      -1.      -1.      -1.  ]\n",
      " [   -1.      -1.      -1.      -1.  ]\n",
      " [    6.31  -142.54   393.67   418.73]\n",
      " [   28.8    820.45 -1323.95  1564.1 ]\n",
      " [  125.39  -147.16   389.28   434.65]\n",
      " [  134.73   354.63  -190.47   651.33]]\n",
      "is_left array: \n",
      " [ 2.  2.  1.  1.  0.  1. -1. -1.  0.  1.  0.  2.]\n",
      "glob_tag array: \n",
      " [b'BG_pi+' b'BG_gamma' b'pi-_s1' b'pi+_s1' b'pi+_1' b'gamma_s1' b'-1'\n",
      " b'gamma_s2_DELETED_theta' b'gamma_1' b'pi-_s2' b'gamma_2' b'BG_K-' b'3']\n",
      "\n",
      "\n",
      "\n",
      "\n",
      "\n",
      "0 0 0 0 0 0 0 0 0 0 0 0\n",
      "leaves: \n",
      " [[ -212.77  -318.21  -554.06   835.19]\n",
      " [ -410.7    280.16  -240.76   552.38]\n",
      " [   -1.      -1.      -1.      -1.  ]\n",
      " [   26.63    68.16  -136.97   209.08]\n",
      " [   -1.      -1.      -1.      -1.  ]\n",
      " [ 1347.11  -873.87  -315.57  1642.42]\n",
      " [-1265.13   347.73   386.71  1375.  ]\n",
      " [ -633.04     9.73   -22.81   633.52]\n",
      " [   -1.      -1.      -1.      -1.  ]\n",
      " [-1107.55  1209.28  2183.83  2775.28]\n",
      " [   -1.      -1.      -1.      -1.  ]\n",
      " [ -278.72   -73.31    27.79   289.54]]\n",
      "is_left array: \n",
      " [ 1.  2. -1.  1. -1.  1.  0.  0. -1.  1. -1.  0.]\n",
      "glob_tag array: \n",
      " [b'K-_s2' b'BG_gamma' b'-1' b'pi+_s1' b'-1' b'pi+_s2' b'pi+_1' b'gamma_2'\n",
      " b'-1' b'K-_s1' b'-1' b'gamma_1' b'0']\n",
      "\n",
      "\n",
      "\n",
      "\n",
      "\n"
     ]
    }
   ],
   "source": [
    "print_arr = [0,0,0,0,0,0]\n",
    "i = 0\n",
    "while sum(print_arr) < 6:\n",
    "    mode = int(str(glob_tag[i,-1])[2])\n",
    "    \n",
    "    if print_arr[mode] == 0:\n",
    "        print_arr[mode] = 1\n",
    "        \n",
    "        print(mode,mode,mode,mode,mode,mode,mode,mode,mode,mode,mode,mode)\n",
    "        print(f\"leaves: \\n {leaves[i]}\")\n",
    "        print(f\"is_left array: \\n {is_left[i]}\")\n",
    "        print(f\"glob_tag array: \\n {glob_tag[i]}\")\n",
    "        print(\"\\n\\n\\n\\n\")\n",
    "        \n",
    "    i += 1\n",
    "        \n"
   ]
  },
  {
   "cell_type": "code",
   "execution_count": 7,
   "metadata": {},
   "outputs": [
    {
     "data": {
      "text/plain": [
       "0"
      ]
     },
     "execution_count": 7,
     "metadata": {},
     "output_type": "execute_result"
    }
   ],
   "source": [
    "print_arr = [0,0,0,0,0,0]\n",
    "\n",
    "sum(print_arr)"
   ]
  },
  {
   "cell_type": "code",
   "execution_count": 14,
   "metadata": {},
   "outputs": [
    {
     "data": {
      "text/plain": [
       "1"
      ]
     },
     "execution_count": 14,
     "metadata": {},
     "output_type": "execute_result"
    }
   ],
   "source": []
  }
 ],
 "metadata": {
  "kernelspec": {
   "display_name": "Python 3",
   "language": "python",
   "name": "python3"
  },
  "language_info": {
   "codemirror_mode": {
    "name": "ipython",
    "version": 3
   },
   "file_extension": ".py",
   "mimetype": "text/x-python",
   "name": "python",
   "nbconvert_exporter": "python",
   "pygments_lexer": "ipython3",
   "version": "3.6.8"
  }
 },
 "nbformat": 4,
 "nbformat_minor": 4
}
