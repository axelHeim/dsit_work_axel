{
 "cells": [
  {
   "cell_type": "code",
   "execution_count": 1,
   "metadata": {},
   "outputs": [],
   "source": [
    "import numpy as np\n",
    "from pathlib import Path"
   ]
  },
  {
   "cell_type": "code",
   "execution_count": 6,
   "metadata": {},
   "outputs": [],
   "source": [
    "run_folder = \"run_HcX_globTag/\"\n",
    "\n",
    "nfs_path = \"/nfs/dust/belle2/user/axelheim/BranchSeparator/\" + run_folder\n",
    "\n",
    "\n",
    "#data_folder = \"50k_realTree_clean\"\n",
    "#data_folder =  \"50k_realTree_charge\" \n",
    "#data_folder =  \"50k_realTree_IDs\" \n",
    "#data_folder =  \"50k_realTree_IDs_charge\" \n",
    "data_folder =  \"TSD_15k_each_6trees_IDs_charge\"\n",
    "top_dir = Path(nfs_path)\n",
    "dataset_dir = Path(nfs_path + 'data/' + data_folder)\n",
    "\n",
    "\n",
    "leaves = np.load(dataset_dir / 'leaves.npy')    \n",
    "is_left = np.load(dataset_dir / 'is_left_arr.npy')\n",
    "glob_tag = np.load(dataset_dir / 'global_tag.npy')"
   ]
  },
  {
   "cell_type": "code",
   "execution_count": 7,
   "metadata": {},
   "outputs": [
    {
     "name": "stdout",
     "output_type": "stream",
     "text": [
      "(90000, 11, 7)\n",
      "(90000, 11)\n",
      "(90000, 12)\n"
     ]
    }
   ],
   "source": [
    "print(leaves.shape)\n",
    "print(is_left.shape)\n",
    "print(glob_tag.shape)\n"
   ]
  },
  {
   "cell_type": "code",
   "execution_count": 8,
   "metadata": {},
   "outputs": [
    {
     "name": "stdout",
     "output_type": "stream",
     "text": [
      "leaves: \n",
      " [[-1336.8    130.33  2574.6   2945.61    -1.       0.15     0.96]\n",
      " [   -1.      -1.      -1.      -1.      -1.      -1.      -1.  ]\n",
      " [   -1.      -1.      -1.      -1.      -1.      -1.      -1.  ]\n",
      " [   23.75  -337.97  -253.02   650.26    -1.       0.12     0.9 ]\n",
      " [   -1.      -1.      -1.      -1.      -1.      -1.      -1.  ]\n",
      " [   -1.      -1.      -1.      -1.      -1.      -1.      -1.  ]\n",
      " [   -1.      -1.      -1.      -1.      -1.      -1.      -1.  ]\n",
      " [ 1246.82  -177.73  -430.38  1338.27     1.       0.94     0.  ]\n",
      " [   30.06     1.53   -45.04    54.18     0.       0.06     0.02]\n",
      " [   -1.      -1.      -1.      -1.      -1.      -1.      -1.  ]\n",
      " [  384.29   483.02  -208.78   666.46     1.       0.82     0.09]]\n",
      "is_left array: \n",
      " [ 0. -1. -1.  1. -1. -1. -1.  1.  2. -1.  1.]\n",
      "glob_tag array: \n",
      " [b'K-_1' b'-1' b'-1' b'K-_2' b'-1' b'-1' b'-1' b'pi+_2' b'BG_gamma' b'-1'\n",
      " b'pi+_1' b'1']\n"
     ]
    }
   ],
   "source": [
    "np.set_printoptions(precision=2)\n",
    "np.set_printoptions(suppress=True)\n",
    "\n",
    "i = 2\n",
    "print(f\"leaves: \\n {leaves[i]}\")\n",
    "print(f\"is_left array: \\n {is_left[i]}\")\n",
    "print(f\"glob_tag array: \\n {glob_tag[i]}\")\n"
   ]
  },
  {
   "cell_type": "code",
   "execution_count": 8,
   "metadata": {},
   "outputs": [],
   "source": [
    "### Mass Test ###"
   ]
  },
  {
   "cell_type": "code",
   "execution_count": null,
   "metadata": {},
   "outputs": [],
   "source": []
  }
 ],
 "metadata": {
  "kernelspec": {
   "display_name": "Python 3",
   "language": "python",
   "name": "python3"
  },
  "language_info": {
   "codemirror_mode": {
    "name": "ipython",
    "version": 3
   },
   "file_extension": ".py",
   "mimetype": "text/x-python",
   "name": "python",
   "nbconvert_exporter": "python",
   "pygments_lexer": "ipython3",
   "version": "3.8.6"
  }
 },
 "nbformat": 4,
 "nbformat_minor": 4
}
