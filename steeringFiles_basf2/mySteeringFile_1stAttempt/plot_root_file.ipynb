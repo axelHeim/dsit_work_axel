{
 "cells": [
  {
   "cell_type": "code",
   "execution_count": 37,
   "metadata": {},
   "outputs": [
    {
     "data": {
      "text/plain": [
       "[b'tree;1']"
      ]
     },
     "execution_count": 37,
     "metadata": {},
     "output_type": "execute_result"
    }
   ],
   "source": [
    "import matplotlib.pyplot as plt\n",
    "import uproot\n",
    "import numpy as np\n",
    "import pandas as pd\n",
    "\n",
    "path = \"/nfs/dust/belle2/user/axelheim/steeringFiles_basf2/mySteeringFile_1stAttempt/\"\n",
    "file = uproot.open(path + \"merged_B+2_D-_2pi+.root\")\n",
    "file.keys()"
   ]
  },
  {
   "cell_type": "code",
   "execution_count": 38,
   "metadata": {},
   "outputs": [
    {
     "data": {
      "text/plain": [
       "[(b'tree;1', 'TTree')]"
      ]
     },
     "execution_count": 38,
     "metadata": {},
     "output_type": "execute_result"
    }
   ],
   "source": [
    "file.classnames()"
   ]
  },
  {
   "cell_type": "code",
   "execution_count": 39,
   "metadata": {},
   "outputs": [
    {
     "data": {
      "text/plain": [
       "<TTree b'tree' at 0x2b1721108f60>"
      ]
     },
     "execution_count": 39,
     "metadata": {},
     "output_type": "execute_result"
    }
   ],
   "source": [
    "file[\"tree;1\"]"
   ]
  },
  {
   "cell_type": "code",
   "execution_count": 40,
   "metadata": {},
   "outputs": [
    {
     "name": "stdout",
     "output_type": "stream",
     "text": [
      "__experiment__             (no streamer)              asdtype('>i4')\n",
      "__run__                    (no streamer)              asdtype('>i4')\n",
      "__event__                  (no streamer)              asdtype('>i4')\n",
      "__candidate__              (no streamer)              asdtype('>i4')\n",
      "__ncandidates__            (no streamer)              asdtype('>i4')\n",
      "__weight__                 (no streamer)              asdtype('>f8')\n",
      "Mbc                        (no streamer)              asdtype('>f8')\n",
      "deltaE                     (no streamer)              asdtype('>f8')\n",
      "px                         (no streamer)              asdtype('>f8')\n",
      "py                         (no streamer)              asdtype('>f8')\n",
      "pz                         (no streamer)              asdtype('>f8')\n",
      "pt                         (no streamer)              asdtype('>f8')\n",
      "p                          (no streamer)              asdtype('>f8')\n",
      "E                          (no streamer)              asdtype('>f8')\n",
      "mcE                        (no streamer)              asdtype('>f8')\n",
      "mcP                        (no streamer)              asdtype('>f8')\n",
      "mcPT                       (no streamer)              asdtype('>f8')\n",
      "mcPX                       (no streamer)              asdtype('>f8')\n",
      "mcPY                       (no streamer)              asdtype('>f8')\n",
      "mcPZ                       (no streamer)              asdtype('>f8')\n",
      "mcPhi                      (no streamer)              asdtype('>f8')\n",
      "isSignal                   (no streamer)              asdtype('>f8')\n",
      "mcErrors                   (no streamer)              asdtype('>f8')\n",
      "mcPDG                      (no streamer)              asdtype('>f8')\n",
      "K_p_kaonID                 (no streamer)              asdtype('>f8')\n",
      "K_p_pionID                 (no streamer)              asdtype('>f8')\n",
      "K_p_protonID               (no streamer)              asdtype('>f8')\n",
      "K_p_muonID                 (no streamer)              asdtype('>f8')\n",
      "K_p_electronID             (no streamer)              asdtype('>f8')\n",
      "K_p_deuteronID             (no streamer)              asdtype('>f8')\n",
      "K_p_dr                     (no streamer)              asdtype('>f8')\n",
      "K_p_dx                     (no streamer)              asdtype('>f8')\n",
      "K_p_dy                     (no streamer)              asdtype('>f8')\n",
      "K_p_dz                     (no streamer)              asdtype('>f8')\n",
      "K_p_d0                     (no streamer)              asdtype('>f8')\n",
      "K_p_z0                     (no streamer)              asdtype('>f8')\n",
      "K_p_pValue                 (no streamer)              asdtype('>f8')\n",
      "K_p_ndf                    (no streamer)              asdtype('>f8')\n",
      "K_p_nCDCHits               (no streamer)              asdtype('>f8')\n",
      "K_p_nPXDHits               (no streamer)              asdtype('>f8')\n",
      "K_p_nSVDHits               (no streamer)              asdtype('>f8')\n",
      "K_p_nVXDHits               (no streamer)              asdtype('>f8')\n",
      "K_p_px                     (no streamer)              asdtype('>f8')\n",
      "K_p_py                     (no streamer)              asdtype('>f8')\n",
      "K_p_pz                     (no streamer)              asdtype('>f8')\n",
      "K_p_pt                     (no streamer)              asdtype('>f8')\n",
      "K_p_p                      (no streamer)              asdtype('>f8')\n",
      "K_p_E                      (no streamer)              asdtype('>f8')\n",
      "K_p_mcE                    (no streamer)              asdtype('>f8')\n",
      "K_p_mcP                    (no streamer)              asdtype('>f8')\n",
      "K_p_mcPT                   (no streamer)              asdtype('>f8')\n",
      "K_p_mcPX                   (no streamer)              asdtype('>f8')\n",
      "K_p_mcPY                   (no streamer)              asdtype('>f8')\n",
      "K_p_mcPZ                   (no streamer)              asdtype('>f8')\n",
      "K_p_mcPhi                  (no streamer)              asdtype('>f8')\n",
      "K_p_isSignal               (no streamer)              asdtype('>f8')\n",
      "K_p_mcErrors               (no streamer)              asdtype('>f8')\n",
      "K_p_mcPDG                  (no streamer)              asdtype('>f8')\n",
      "pim_1_kaonID               (no streamer)              asdtype('>f8')\n",
      "pim_1_pionID               (no streamer)              asdtype('>f8')\n",
      "pim_1_protonID             (no streamer)              asdtype('>f8')\n",
      "pim_1_muonID               (no streamer)              asdtype('>f8')\n",
      "pim_1_electronID           (no streamer)              asdtype('>f8')\n",
      "pim_1_deuteronID           (no streamer)              asdtype('>f8')\n",
      "pim_1_dr                   (no streamer)              asdtype('>f8')\n",
      "pim_1_dx                   (no streamer)              asdtype('>f8')\n",
      "pim_1_dy                   (no streamer)              asdtype('>f8')\n",
      "pim_1_dz                   (no streamer)              asdtype('>f8')\n",
      "pim_1_d0                   (no streamer)              asdtype('>f8')\n",
      "pim_1_z0                   (no streamer)              asdtype('>f8')\n",
      "pim_1_pValue               (no streamer)              asdtype('>f8')\n",
      "pim_1_ndf                  (no streamer)              asdtype('>f8')\n",
      "pim_1_nCDCHits             (no streamer)              asdtype('>f8')\n",
      "pim_1_nPXDHits             (no streamer)              asdtype('>f8')\n",
      "pim_1_nSVDHits             (no streamer)              asdtype('>f8')\n",
      "pim_1_nVXDHits             (no streamer)              asdtype('>f8')\n",
      "pim_1_px                   (no streamer)              asdtype('>f8')\n",
      "pim_1_py                   (no streamer)              asdtype('>f8')\n",
      "pim_1_pz                   (no streamer)              asdtype('>f8')\n",
      "pim_1_pt                   (no streamer)              asdtype('>f8')\n",
      "pim_1_p                    (no streamer)              asdtype('>f8')\n",
      "pim_1_E                    (no streamer)              asdtype('>f8')\n",
      "pim_1_mcE                  (no streamer)              asdtype('>f8')\n",
      "pim_1_mcP                  (no streamer)              asdtype('>f8')\n",
      "pim_1_mcPT                 (no streamer)              asdtype('>f8')\n",
      "pim_1_mcPX                 (no streamer)              asdtype('>f8')\n",
      "pim_1_mcPY                 (no streamer)              asdtype('>f8')\n",
      "pim_1_mcPZ                 (no streamer)              asdtype('>f8')\n",
      "pim_1_mcPhi                (no streamer)              asdtype('>f8')\n",
      "pim_1_isSignal             (no streamer)              asdtype('>f8')\n",
      "pim_1_mcErrors             (no streamer)              asdtype('>f8')\n",
      "pim_1_mcPDG                (no streamer)              asdtype('>f8')\n",
      "pim_2_kaonID               (no streamer)              asdtype('>f8')\n",
      "pim_2_pionID               (no streamer)              asdtype('>f8')\n",
      "pim_2_protonID             (no streamer)              asdtype('>f8')\n",
      "pim_2_muonID               (no streamer)              asdtype('>f8')\n",
      "pim_2_electronID           (no streamer)              asdtype('>f8')\n",
      "pim_2_deuteronID           (no streamer)              asdtype('>f8')\n",
      "pim_2_dr                   (no streamer)              asdtype('>f8')\n",
      "pim_2_dx                   (no streamer)              asdtype('>f8')\n",
      "pim_2_dy                   (no streamer)              asdtype('>f8')\n",
      "pim_2_dz                   (no streamer)              asdtype('>f8')\n",
      "pim_2_d0                   (no streamer)              asdtype('>f8')\n",
      "pim_2_z0                   (no streamer)              asdtype('>f8')\n",
      "pim_2_pValue               (no streamer)              asdtype('>f8')\n",
      "pim_2_ndf                  (no streamer)              asdtype('>f8')\n",
      "pim_2_nCDCHits             (no streamer)              asdtype('>f8')\n",
      "pim_2_nPXDHits             (no streamer)              asdtype('>f8')\n",
      "pim_2_nSVDHits             (no streamer)              asdtype('>f8')\n",
      "pim_2_nVXDHits             (no streamer)              asdtype('>f8')\n",
      "pim_2_px                   (no streamer)              asdtype('>f8')\n",
      "pim_2_py                   (no streamer)              asdtype('>f8')\n",
      "pim_2_pz                   (no streamer)              asdtype('>f8')\n",
      "pim_2_pt                   (no streamer)              asdtype('>f8')\n",
      "pim_2_p                    (no streamer)              asdtype('>f8')\n",
      "pim_2_E                    (no streamer)              asdtype('>f8')\n",
      "pim_2_mcE                  (no streamer)              asdtype('>f8')\n",
      "pim_2_mcP                  (no streamer)              asdtype('>f8')\n",
      "pim_2_mcPT                 (no streamer)              asdtype('>f8')\n",
      "pim_2_mcPX                 (no streamer)              asdtype('>f8')\n",
      "pim_2_mcPY                 (no streamer)              asdtype('>f8')\n",
      "pim_2_mcPZ                 (no streamer)              asdtype('>f8')\n",
      "pim_2_mcPhi                (no streamer)              asdtype('>f8')\n",
      "pim_2_isSignal             (no streamer)              asdtype('>f8')\n",
      "pim_2_mcErrors             (no streamer)              asdtype('>f8')\n",
      "pim_2_mcPDG                (no streamer)              asdtype('>f8')\n",
      "pip_1_kaonID               (no streamer)              asdtype('>f8')\n",
      "pip_1_pionID               (no streamer)              asdtype('>f8')\n",
      "pip_1_protonID             (no streamer)              asdtype('>f8')\n",
      "pip_1_muonID               (no streamer)              asdtype('>f8')\n",
      "pip_1_electronID           (no streamer)              asdtype('>f8')\n",
      "pip_1_deuteronID           (no streamer)              asdtype('>f8')\n",
      "pip_1_dr                   (no streamer)              asdtype('>f8')\n",
      "pip_1_dx                   (no streamer)              asdtype('>f8')\n",
      "pip_1_dy                   (no streamer)              asdtype('>f8')\n",
      "pip_1_dz                   (no streamer)              asdtype('>f8')\n",
      "pip_1_d0                   (no streamer)              asdtype('>f8')\n",
      "pip_1_z0                   (no streamer)              asdtype('>f8')\n",
      "pip_1_pValue               (no streamer)              asdtype('>f8')\n",
      "pip_1_ndf                  (no streamer)              asdtype('>f8')\n",
      "pip_1_nCDCHits             (no streamer)              asdtype('>f8')\n",
      "pip_1_nPXDHits             (no streamer)              asdtype('>f8')\n",
      "pip_1_nSVDHits             (no streamer)              asdtype('>f8')\n",
      "pip_1_nVXDHits             (no streamer)              asdtype('>f8')\n",
      "pip_1_px                   (no streamer)              asdtype('>f8')\n",
      "pip_1_py                   (no streamer)              asdtype('>f8')\n",
      "pip_1_pz                   (no streamer)              asdtype('>f8')\n",
      "pip_1_pt                   (no streamer)              asdtype('>f8')\n",
      "pip_1_p                    (no streamer)              asdtype('>f8')\n",
      "pip_1_E                    (no streamer)              asdtype('>f8')\n",
      "pip_1_mcE                  (no streamer)              asdtype('>f8')\n",
      "pip_1_mcP                  (no streamer)              asdtype('>f8')\n",
      "pip_1_mcPT                 (no streamer)              asdtype('>f8')\n",
      "pip_1_mcPX                 (no streamer)              asdtype('>f8')\n",
      "pip_1_mcPY                 (no streamer)              asdtype('>f8')\n",
      "pip_1_mcPZ                 (no streamer)              asdtype('>f8')\n",
      "pip_1_mcPhi                (no streamer)              asdtype('>f8')\n",
      "pip_1_isSignal             (no streamer)              asdtype('>f8')\n",
      "pip_1_mcErrors             (no streamer)              asdtype('>f8')\n",
      "pip_1_mcPDG                (no streamer)              asdtype('>f8')\n",
      "pip_2_kaonID               (no streamer)              asdtype('>f8')\n",
      "pip_2_pionID               (no streamer)              asdtype('>f8')\n",
      "pip_2_protonID             (no streamer)              asdtype('>f8')\n",
      "pip_2_muonID               (no streamer)              asdtype('>f8')\n",
      "pip_2_electronID           (no streamer)              asdtype('>f8')\n",
      "pip_2_deuteronID           (no streamer)              asdtype('>f8')\n",
      "pip_2_dr                   (no streamer)              asdtype('>f8')\n",
      "pip_2_dx                   (no streamer)              asdtype('>f8')\n",
      "pip_2_dy                   (no streamer)              asdtype('>f8')\n",
      "pip_2_dz                   (no streamer)              asdtype('>f8')\n",
      "pip_2_d0                   (no streamer)              asdtype('>f8')\n",
      "pip_2_z0                   (no streamer)              asdtype('>f8')\n",
      "pip_2_pValue               (no streamer)              asdtype('>f8')\n",
      "pip_2_ndf                  (no streamer)              asdtype('>f8')\n",
      "pip_2_nCDCHits             (no streamer)              asdtype('>f8')\n",
      "pip_2_nPXDHits             (no streamer)              asdtype('>f8')\n",
      "pip_2_nSVDHits             (no streamer)              asdtype('>f8')\n",
      "pip_2_nVXDHits             (no streamer)              asdtype('>f8')\n",
      "pip_2_px                   (no streamer)              asdtype('>f8')\n",
      "pip_2_py                   (no streamer)              asdtype('>f8')\n",
      "pip_2_pz                   (no streamer)              asdtype('>f8')\n",
      "pip_2_pt                   (no streamer)              asdtype('>f8')\n",
      "pip_2_p                    (no streamer)              asdtype('>f8')\n",
      "pip_2_E                    (no streamer)              asdtype('>f8')\n",
      "pip_2_mcE                  (no streamer)              asdtype('>f8')\n",
      "pip_2_mcP                  (no streamer)              asdtype('>f8')\n",
      "pip_2_mcPT                 (no streamer)              asdtype('>f8')\n",
      "pip_2_mcPX                 (no streamer)              asdtype('>f8')\n",
      "pip_2_mcPY                 (no streamer)              asdtype('>f8')\n",
      "pip_2_mcPZ                 (no streamer)              asdtype('>f8')\n",
      "pip_2_mcPhi                (no streamer)              asdtype('>f8')\n",
      "pip_2_isSignal             (no streamer)              asdtype('>f8')\n",
      "pip_2_mcErrors             (no streamer)              asdtype('>f8')\n",
      "pip_2_mcPDG                (no streamer)              asdtype('>f8')\n"
     ]
    }
   ],
   "source": [
    "events = file[\"tree\"]\n",
    "events.show()"
   ]
  },
  {
   "cell_type": "code",
   "execution_count": 13,
   "metadata": {},
   "outputs": [],
   "source": [
    "#events[\"Mbc\"].array()"
   ]
  },
  {
   "cell_type": "code",
   "execution_count": 31,
   "metadata": {},
   "outputs": [
    {
     "data": {
      "text/plain": [
       "8262013"
      ]
     },
     "execution_count": 31,
     "metadata": {},
     "output_type": "execute_result"
    }
   ],
   "source": [
    "len(events[\"Mbc\"].array())"
   ]
  },
  {
   "cell_type": "code",
   "execution_count": 32,
   "metadata": {},
   "outputs": [
    {
     "name": "stderr",
     "output_type": "stream",
     "text": [
      "/afs/desy.de/user/a/axelheim/.local/lib/python3.6/site-packages/numpy/lib/histograms.py:839: RuntimeWarning: invalid value encountered in greater_equal\n",
      "  keep = (tmp_a >= first_edge)\n",
      "/afs/desy.de/user/a/axelheim/.local/lib/python3.6/site-packages/numpy/lib/histograms.py:840: RuntimeWarning: invalid value encountered in less_equal\n",
      "  keep &= (tmp_a <= last_edge)\n"
     ]
    },
    {
     "data": {
      "image/png": "[encoded data removed]",
      "text/plain": [
       "<Figure size 432x288 with 1 Axes>"
      ]
     },
     "metadata": {
      "needs_background": "light"
     },
     "output_type": "display_data"
    }
   ],
   "source": [
    "plt.hist(events[\"Mbc\"].array(), bins=100, range=(4.3, 5.3))\n",
    "plt.xlabel(r'M$_{\\rm bc}$ [GeV/c$^{2}$]')\n",
    "plt.ylabel('Number of candidates')\n",
    "plt.xlim(4.3, 5.3)\n",
    "plt.savefig('Mbc_all.png')"
   ]
  },
  {
   "cell_type": "code",
   "execution_count": 33,
   "metadata": {},
   "outputs": [
    {
     "data": {
      "image/png": "[encoded data removed]",
      "text/plain": [
       "<Figure size 432x288 with 2 Axes>"
      ]
     },
     "metadata": {
      "needs_background": "light"
     },
     "output_type": "display_data"
    }
   ],
   "source": [
    "df = pd.DataFrame(\n",
    "{\"Mbc\" : events[\"Mbc\"].array(),\n",
    "\"isSignal\" :  events[\"isSignal\"].array()})\n",
    "\n",
    "df.hist('Mbc', bins=100, range=(4.3, 5.3), by='isSignal')\n",
    "plt.xlabel(r'M$_{\\rm bc}$ [GeV/c$^{2}$]')\n",
    "plt.ylabel('Number of candidates')\n",
    "plt.xlim(4.3, 5.3)\n",
    "plt.savefig('Mbc_all.png')"
   ]
  },
  {
   "cell_type": "code",
   "execution_count": 29,
   "metadata": {},
   "outputs": [
    {
     "data": {
      "text/plain": [
       "<Array [0, 0, 0, 0, 0, 0, ... 0, 0, 0, 0, 0, 0] type='219788 * float64'>"
      ]
     },
     "execution_count": 29,
     "metadata": {},
     "output_type": "execute_result"
    }
   ],
   "source": [
    "events[\"isSignal\"].array()"
   ]
  },
  {
   "cell_type": "code",
   "execution_count": 36,
   "metadata": {},
   "outputs": [
    {
     "data": {
      "text/plain": [
       "3"
      ]
     },
     "execution_count": 36,
     "metadata": {},
     "output_type": "execute_result"
    }
   ],
   "source": [
    "sum(events[\"isSignal\"].array() == 1.0)"
   ]
  },
  {
   "cell_type": "code",
   "execution_count": 41,
   "metadata": {},
   "outputs": [
    {
     "name": "stdout",
     "output_type": "stream",
     "text": [
      "__experiment__             (no streamer)              asdtype('>i4')\n",
      "__run__                    (no streamer)              asdtype('>i4')\n",
      "__event__                  (no streamer)              asdtype('>i4')\n",
      "__candidate__              (no streamer)              asdtype('>i4')\n",
      "__ncandidates__            (no streamer)              asdtype('>i4')\n",
      "__weight__                 (no streamer)              asdtype('>f8')\n",
      "Mbc                        (no streamer)              asdtype('>f8')\n",
      "deltaE                     (no streamer)              asdtype('>f8')\n",
      "px                         (no streamer)              asdtype('>f8')\n",
      "py                         (no streamer)              asdtype('>f8')\n",
      "pz                         (no streamer)              asdtype('>f8')\n",
      "pt                         (no streamer)              asdtype('>f8')\n",
      "p                          (no streamer)              asdtype('>f8')\n",
      "E                          (no streamer)              asdtype('>f8')\n",
      "mcE                        (no streamer)              asdtype('>f8')\n",
      "mcP                        (no streamer)              asdtype('>f8')\n",
      "mcPT                       (no streamer)              asdtype('>f8')\n",
      "mcPX                       (no streamer)              asdtype('>f8')\n",
      "mcPY                       (no streamer)              asdtype('>f8')\n",
      "mcPZ                       (no streamer)              asdtype('>f8')\n",
      "mcPhi                      (no streamer)              asdtype('>f8')\n",
      "isSignal                   (no streamer)              asdtype('>f8')\n",
      "mcErrors                   (no streamer)              asdtype('>f8')\n",
      "mcPDG                      (no streamer)              asdtype('>f8')\n",
      "K_p_kaonID                 (no streamer)              asdtype('>f8')\n",
      "K_p_pionID                 (no streamer)              asdtype('>f8')\n",
      "K_p_protonID               (no streamer)              asdtype('>f8')\n",
      "K_p_muonID                 (no streamer)              asdtype('>f8')\n",
      "K_p_electronID             (no streamer)              asdtype('>f8')\n",
      "K_p_deuteronID             (no streamer)              asdtype('>f8')\n",
      "K_p_dr                     (no streamer)              asdtype('>f8')\n",
      "K_p_dx                     (no streamer)              asdtype('>f8')\n",
      "K_p_dy                     (no streamer)              asdtype('>f8')\n",
      "K_p_dz                     (no streamer)              asdtype('>f8')\n",
      "K_p_d0                     (no streamer)              asdtype('>f8')\n",
      "K_p_z0                     (no streamer)              asdtype('>f8')\n",
      "K_p_pValue                 (no streamer)              asdtype('>f8')\n",
      "K_p_ndf                    (no streamer)              asdtype('>f8')\n",
      "K_p_nCDCHits               (no streamer)              asdtype('>f8')\n",
      "K_p_nPXDHits               (no streamer)              asdtype('>f8')\n",
      "K_p_nSVDHits               (no streamer)              asdtype('>f8')\n",
      "K_p_nVXDHits               (no streamer)              asdtype('>f8')\n",
      "K_p_px                     (no streamer)              asdtype('>f8')\n",
      "K_p_py                     (no streamer)              asdtype('>f8')\n",
      "K_p_pz                     (no streamer)              asdtype('>f8')\n",
      "K_p_pt                     (no streamer)              asdtype('>f8')\n",
      "K_p_p                      (no streamer)              asdtype('>f8')\n",
      "K_p_E                      (no streamer)              asdtype('>f8')\n",
      "K_p_mcE                    (no streamer)              asdtype('>f8')\n",
      "K_p_mcP                    (no streamer)              asdtype('>f8')\n",
      "K_p_mcPT                   (no streamer)              asdtype('>f8')\n",
      "K_p_mcPX                   (no streamer)              asdtype('>f8')\n",
      "K_p_mcPY                   (no streamer)              asdtype('>f8')\n",
      "K_p_mcPZ                   (no streamer)              asdtype('>f8')\n",
      "K_p_mcPhi                  (no streamer)              asdtype('>f8')\n",
      "K_p_isSignal               (no streamer)              asdtype('>f8')\n",
      "K_p_mcErrors               (no streamer)              asdtype('>f8')\n",
      "K_p_mcPDG                  (no streamer)              asdtype('>f8')\n",
      "pim_1_kaonID               (no streamer)              asdtype('>f8')\n",
      "pim_1_pionID               (no streamer)              asdtype('>f8')\n",
      "pim_1_protonID             (no streamer)              asdtype('>f8')\n",
      "pim_1_muonID               (no streamer)              asdtype('>f8')\n",
      "pim_1_electronID           (no streamer)              asdtype('>f8')\n",
      "pim_1_deuteronID           (no streamer)              asdtype('>f8')\n",
      "pim_1_dr                   (no streamer)              asdtype('>f8')\n",
      "pim_1_dx                   (no streamer)              asdtype('>f8')\n",
      "pim_1_dy                   (no streamer)              asdtype('>f8')\n",
      "pim_1_dz                   (no streamer)              asdtype('>f8')\n",
      "pim_1_d0                   (no streamer)              asdtype('>f8')\n",
      "pim_1_z0                   (no streamer)              asdtype('>f8')\n",
      "pim_1_pValue               (no streamer)              asdtype('>f8')\n",
      "pim_1_ndf                  (no streamer)              asdtype('>f8')\n",
      "pim_1_nCDCHits             (no streamer)              asdtype('>f8')\n",
      "pim_1_nPXDHits             (no streamer)              asdtype('>f8')\n",
      "pim_1_nSVDHits             (no streamer)              asdtype('>f8')\n",
      "pim_1_nVXDHits             (no streamer)              asdtype('>f8')\n",
      "pim_1_px                   (no streamer)              asdtype('>f8')\n",
      "pim_1_py                   (no streamer)              asdtype('>f8')\n",
      "pim_1_pz                   (no streamer)              asdtype('>f8')\n",
      "pim_1_pt                   (no streamer)              asdtype('>f8')\n",
      "pim_1_p                    (no streamer)              asdtype('>f8')\n",
      "pim_1_E                    (no streamer)              asdtype('>f8')\n",
      "pim_1_mcE                  (no streamer)              asdtype('>f8')\n",
      "pim_1_mcP                  (no streamer)              asdtype('>f8')\n",
      "pim_1_mcPT                 (no streamer)              asdtype('>f8')\n",
      "pim_1_mcPX                 (no streamer)              asdtype('>f8')\n",
      "pim_1_mcPY                 (no streamer)              asdtype('>f8')\n",
      "pim_1_mcPZ                 (no streamer)              asdtype('>f8')\n",
      "pim_1_mcPhi                (no streamer)              asdtype('>f8')\n",
      "pim_1_isSignal             (no streamer)              asdtype('>f8')\n",
      "pim_1_mcErrors             (no streamer)              asdtype('>f8')\n",
      "pim_1_mcPDG                (no streamer)              asdtype('>f8')\n",
      "pim_2_kaonID               (no streamer)              asdtype('>f8')\n",
      "pim_2_pionID               (no streamer)              asdtype('>f8')\n",
      "pim_2_protonID             (no streamer)              asdtype('>f8')\n",
      "pim_2_muonID               (no streamer)              asdtype('>f8')\n",
      "pim_2_electronID           (no streamer)              asdtype('>f8')\n",
      "pim_2_deuteronID           (no streamer)              asdtype('>f8')\n",
      "pim_2_dr                   (no streamer)              asdtype('>f8')\n",
      "pim_2_dx                   (no streamer)              asdtype('>f8')\n",
      "pim_2_dy                   (no streamer)              asdtype('>f8')\n",
      "pim_2_dz                   (no streamer)              asdtype('>f8')\n",
      "pim_2_d0                   (no streamer)              asdtype('>f8')\n",
      "pim_2_z0                   (no streamer)              asdtype('>f8')\n",
      "pim_2_pValue               (no streamer)              asdtype('>f8')\n",
      "pim_2_ndf                  (no streamer)              asdtype('>f8')\n",
      "pim_2_nCDCHits             (no streamer)              asdtype('>f8')\n",
      "pim_2_nPXDHits             (no streamer)              asdtype('>f8')\n",
      "pim_2_nSVDHits             (no streamer)              asdtype('>f8')\n",
      "pim_2_nVXDHits             (no streamer)              asdtype('>f8')\n",
      "pim_2_px                   (no streamer)              asdtype('>f8')\n",
      "pim_2_py                   (no streamer)              asdtype('>f8')\n",
      "pim_2_pz                   (no streamer)              asdtype('>f8')\n",
      "pim_2_pt                   (no streamer)              asdtype('>f8')\n",
      "pim_2_p                    (no streamer)              asdtype('>f8')\n",
      "pim_2_E                    (no streamer)              asdtype('>f8')\n",
      "pim_2_mcE                  (no streamer)              asdtype('>f8')\n",
      "pim_2_mcP                  (no streamer)              asdtype('>f8')\n",
      "pim_2_mcPT                 (no streamer)              asdtype('>f8')\n",
      "pim_2_mcPX                 (no streamer)              asdtype('>f8')\n",
      "pim_2_mcPY                 (no streamer)              asdtype('>f8')\n",
      "pim_2_mcPZ                 (no streamer)              asdtype('>f8')\n",
      "pim_2_mcPhi                (no streamer)              asdtype('>f8')\n",
      "pim_2_isSignal             (no streamer)              asdtype('>f8')\n",
      "pim_2_mcErrors             (no streamer)              asdtype('>f8')\n",
      "pim_2_mcPDG                (no streamer)              asdtype('>f8')\n",
      "pip_1_kaonID               (no streamer)              asdtype('>f8')\n",
      "pip_1_pionID               (no streamer)              asdtype('>f8')\n",
      "pip_1_protonID             (no streamer)              asdtype('>f8')\n",
      "pip_1_muonID               (no streamer)              asdtype('>f8')\n",
      "pip_1_electronID           (no streamer)              asdtype('>f8')\n",
      "pip_1_deuteronID           (no streamer)              asdtype('>f8')\n",
      "pip_1_dr                   (no streamer)              asdtype('>f8')\n",
      "pip_1_dx                   (no streamer)              asdtype('>f8')\n",
      "pip_1_dy                   (no streamer)              asdtype('>f8')\n",
      "pip_1_dz                   (no streamer)              asdtype('>f8')\n",
      "pip_1_d0                   (no streamer)              asdtype('>f8')\n",
      "pip_1_z0                   (no streamer)              asdtype('>f8')\n",
      "pip_1_pValue               (no streamer)              asdtype('>f8')\n",
      "pip_1_ndf                  (no streamer)              asdtype('>f8')\n",
      "pip_1_nCDCHits             (no streamer)              asdtype('>f8')\n",
      "pip_1_nPXDHits             (no streamer)              asdtype('>f8')\n",
      "pip_1_nSVDHits             (no streamer)              asdtype('>f8')\n",
      "pip_1_nVXDHits             (no streamer)              asdtype('>f8')\n",
      "pip_1_px                   (no streamer)              asdtype('>f8')\n",
      "pip_1_py                   (no streamer)              asdtype('>f8')\n",
      "pip_1_pz                   (no streamer)              asdtype('>f8')\n",
      "pip_1_pt                   (no streamer)              asdtype('>f8')\n",
      "pip_1_p                    (no streamer)              asdtype('>f8')\n",
      "pip_1_E                    (no streamer)              asdtype('>f8')\n",
      "pip_1_mcE                  (no streamer)              asdtype('>f8')\n",
      "pip_1_mcP                  (no streamer)              asdtype('>f8')\n",
      "pip_1_mcPT                 (no streamer)              asdtype('>f8')\n",
      "pip_1_mcPX                 (no streamer)              asdtype('>f8')\n",
      "pip_1_mcPY                 (no streamer)              asdtype('>f8')\n",
      "pip_1_mcPZ                 (no streamer)              asdtype('>f8')\n",
      "pip_1_mcPhi                (no streamer)              asdtype('>f8')\n",
      "pip_1_isSignal             (no streamer)              asdtype('>f8')\n",
      "pip_1_mcErrors             (no streamer)              asdtype('>f8')\n",
      "pip_1_mcPDG                (no streamer)              asdtype('>f8')\n",
      "pip_2_kaonID               (no streamer)              asdtype('>f8')\n",
      "pip_2_pionID               (no streamer)              asdtype('>f8')\n",
      "pip_2_protonID             (no streamer)              asdtype('>f8')\n",
      "pip_2_muonID               (no streamer)              asdtype('>f8')\n",
      "pip_2_electronID           (no streamer)              asdtype('>f8')\n",
      "pip_2_deuteronID           (no streamer)              asdtype('>f8')\n",
      "pip_2_dr                   (no streamer)              asdtype('>f8')\n",
      "pip_2_dx                   (no streamer)              asdtype('>f8')\n",
      "pip_2_dy                   (no streamer)              asdtype('>f8')\n",
      "pip_2_dz                   (no streamer)              asdtype('>f8')\n",
      "pip_2_d0                   (no streamer)              asdtype('>f8')\n",
      "pip_2_z0                   (no streamer)              asdtype('>f8')\n",
      "pip_2_pValue               (no streamer)              asdtype('>f8')\n",
      "pip_2_ndf                  (no streamer)              asdtype('>f8')\n",
      "pip_2_nCDCHits             (no streamer)              asdtype('>f8')\n",
      "pip_2_nPXDHits             (no streamer)              asdtype('>f8')\n",
      "pip_2_nSVDHits             (no streamer)              asdtype('>f8')\n",
      "pip_2_nVXDHits             (no streamer)              asdtype('>f8')\n",
      "pip_2_px                   (no streamer)              asdtype('>f8')\n",
      "pip_2_py                   (no streamer)              asdtype('>f8')\n",
      "pip_2_pz                   (no streamer)              asdtype('>f8')\n",
      "pip_2_pt                   (no streamer)              asdtype('>f8')\n",
      "pip_2_p                    (no streamer)              asdtype('>f8')\n",
      "pip_2_E                    (no streamer)              asdtype('>f8')\n",
      "pip_2_mcE                  (no streamer)              asdtype('>f8')\n",
      "pip_2_mcP                  (no streamer)              asdtype('>f8')\n",
      "pip_2_mcPT                 (no streamer)              asdtype('>f8')\n",
      "pip_2_mcPX                 (no streamer)              asdtype('>f8')\n",
      "pip_2_mcPY                 (no streamer)              asdtype('>f8')\n",
      "pip_2_mcPZ                 (no streamer)              asdtype('>f8')\n",
      "pip_2_mcPhi                (no streamer)              asdtype('>f8')\n",
      "pip_2_isSignal             (no streamer)              asdtype('>f8')\n",
      "pip_2_mcErrors             (no streamer)              asdtype('>f8')\n",
      "pip_2_mcPDG                (no streamer)              asdtype('>f8')\n"
     ]
    }
   ],
   "source": [
    "events.show()"
   ]
  },
  {
   "cell_type": "code",
   "execution_count": 49,
   "metadata": {},
   "outputs": [],
   "source": [
    "num_combinations = len(events[\"Mbc\"].array())\n",
    "FSPs = [\"K_p\",\"pim_1\",\"pim_2\",\"pip_1\",\"pip_2\"]\n",
    "variables = [\"px\",\"py\",\"pz\",\"E\",\"kaonID\",\"pionID\"]\n",
    "\n",
    "data = np.zeros((num_combinations, len(FSPs), len(variables)))\n",
    "\n",
    "for i in range(len(FSPs)):\n",
    "    FSP = FSPs[i]\n",
    "    for j in range(len(variables)):\n",
    "        var = variables[j]\n",
    "        identifier = FSP + \"_\" + var\n",
    "        #print(identifier)\n",
    "        data[:,i,j] = events[identifier].array()\n",
    "        "
   ]
  },
  {
   "cell_type": "code",
   "execution_count": 57,
   "metadata": {
    "scrolled": true
   },
   "outputs": [
    {
     "name": "stdout",
     "output_type": "stream",
     "text": [
      "[[-0.7296 -0.1875  0.0695  0.9034  0.      1.    ]\n",
      " [-0.5808 -0.2598  0.1405  0.6664  0.      1.    ]\n",
      " [-0.0599 -0.0807  0.1056  0.2018  0.      0.1929]\n",
      " [ 0.1646  0.3201  0.4611  0.6014  0.      0.8947]\n",
      " [ 0.0709  0.4775  0.1362  0.5207  0.      1.    ]]\n",
      "\n",
      "\n",
      "[[-0.135  -0.8667  1.7644  2.0313  0.      0.9935]\n",
      " [-0.0411 -0.1564  0.5209  0.563   0.2308  0.2308]\n",
      " [ 0.3844  0.0105  0.9912  1.0723  0.      0.8365]\n",
      " [-0.2598  0.0936  0.4068  0.5111  0.003   0.3495]\n",
      " [ 0.2246  0.2095 -0.1124  0.3556  0.      0.9935]]\n",
      "\n",
      "\n",
      "[[-0.4438 -0.3003  1.1713  1.3794  0.      0.579 ]\n",
      " [ 0.2807  0.2472 -0.3497  0.5308  0.      0.5853]\n",
      " [ 0.2979 -0.2024  0.1925  0.4316  0.      0.9999]\n",
      " [-0.2598  0.0936  0.4068  0.5111  0.003   0.3495]\n",
      " [-0.3555  0.2273  0.47    0.6468  0.      0.5622]]\n",
      "\n",
      "\n",
      "[[ 0.2301  0.2143 -0.115   0.5965  0.      0.9935]\n",
      " [ 0.2807  0.2472 -0.3497  0.5308  0.      0.5853]\n",
      " [ 0.7213 -0.0123  0.6571  0.9857  0.      1.    ]\n",
      " [-0.4438 -0.3002  1.1712  1.2955  0.      0.579 ]\n",
      " [-0.3555  0.2273  0.47    0.6468  0.      0.5622]]\n",
      "\n",
      "\n",
      "[[-0.3567  0.2281  0.4715  0.8033  0.      0.5622]\n",
      " [ 0.2807  0.2472 -0.3497  0.5308  0.      0.5853]\n",
      " [ 0.2687 -0.0769 -0.1859  0.3635  0.      0.6505]\n",
      " [-0.4438 -0.3002  1.1712  1.2955  0.      0.579 ]\n",
      " [-0.2598  0.0936  0.4068  0.5111  0.003   0.3495]]\n",
      "\n",
      "\n",
      "[[ 0.3842  0.0103  0.9898  1.1709  0.      0.8365]\n",
      " [-0.4438 -0.3002  1.1712  1.2955  0.      0.579 ]\n",
      " [-0.135  -0.8668  1.7647  1.9757  0.      0.9935]\n",
      " [ 0.7213 -0.0123  0.6571  0.9857  0.      1.    ]\n",
      " [ 0.2979 -0.2024  0.1925  0.4316  0.      0.9999]]\n",
      "\n",
      "\n",
      "[[ 0.2827  0.249  -0.3522  0.7139  0.      0.5853]\n",
      " [-0.2598  0.0936  0.4068  0.5111  0.003   0.3495]\n",
      " [-0.3555  0.2273  0.47    0.6468  0.      0.5622]\n",
      " [ 0.3844  0.0105  0.9912  1.0723  0.      0.8365]\n",
      " [ 0.2979 -0.2024  0.1925  0.4316  0.      0.9999]]\n",
      "\n",
      "\n",
      "[[ 0.3842  0.0103  0.9898  1.1709  0.      0.8365]\n",
      " [-0.4438 -0.3002  1.1712  1.2955  0.      0.579 ]\n",
      " [-0.135  -0.8668  1.7647  1.9757  0.      0.9935]\n",
      " [ 0.2687 -0.0769 -0.1859  0.3635  0.      0.6505]\n",
      " [ 0.7213 -0.0123  0.6571  0.9857  0.      1.    ]]\n",
      "\n",
      "\n",
      "[[ 0.2827  0.249  -0.3522  0.7139  0.      0.5853]\n",
      " [-0.2598  0.0936  0.4068  0.5111  0.003   0.3495]\n",
      " [-0.3555  0.2273  0.47    0.6468  0.      0.5622]\n",
      " [-0.0411 -0.1564  0.5209  0.563   0.2308  0.2308]\n",
      " [ 0.7213 -0.0123  0.6571  0.9857  0.      1.    ]]\n",
      "\n",
      "\n",
      "[[ 0.2827  0.249  -0.3522  0.7139  0.      0.5853]\n",
      " [-0.4438 -0.3002  1.1712  1.2955  0.      0.579 ]\n",
      " [-0.135  -0.8668  1.7647  1.9757  0.      0.9935]\n",
      " [ 0.3844  0.0105  0.9912  1.0723  0.      0.8365]\n",
      " [ 0.2687 -0.0769 -0.1859  0.3635  0.      0.6505]]\n",
      "\n",
      "\n"
     ]
    }
   ],
   "source": [
    "np.set_printoptions(precision=4)\n",
    "np.set_printoptions(suppress=True)\n",
    "\n",
    "for i in range(0,1000,100):\n",
    "    print(data[i,:])\n",
    "    print(\"\\n\")\n"
   ]
  },
  {
   "cell_type": "code",
   "execution_count": null,
   "metadata": {},
   "outputs": [],
   "source": []
  }
 ],
 "metadata": {
  "kernelspec": {
   "display_name": "Python 3",
   "language": "python",
   "name": "python3"
  },
  "language_info": {
   "codemirror_mode": {
    "name": "ipython",
    "version": 3
   },
   "file_extension": ".py",
   "mimetype": "text/x-python",
   "name": "python",
   "nbconvert_exporter": "python",
   "pygments_lexer": "ipython3",
   "version": "3.8.6"
  }
 },
 "nbformat": 4,
 "nbformat_minor": 4
}
