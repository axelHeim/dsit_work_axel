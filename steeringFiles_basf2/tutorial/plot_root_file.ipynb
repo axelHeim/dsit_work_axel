{
 "cells": [
  {
   "cell_type": "code",
   "execution_count": 1,
   "metadata": {},
   "outputs": [
    {
     "data": {
      "text/plain": [
       "['tree;1']"
      ]
     },
     "execution_count": 1,
     "metadata": {},
     "output_type": "execute_result"
    }
   ],
   "source": [
    "import matplotlib.pyplot as plt\n",
    "import uproot\n",
    "import numpy as np\n",
    "import pandas as pd\n",
    "\n",
    "\n",
    "file = uproot.open(\"Bd2JpsiKS.root\")\n",
    "file.keys()"
   ]
  },
  {
   "cell_type": "code",
   "execution_count": 2,
   "metadata": {},
   "outputs": [
    {
     "data": {
      "text/plain": [
       "{'tree': 'TTree'}"
      ]
     },
     "execution_count": 2,
     "metadata": {},
     "output_type": "execute_result"
    }
   ],
   "source": [
    "file.classnames()"
   ]
  },
  {
   "cell_type": "code",
   "execution_count": 16,
   "metadata": {},
   "outputs": [
    {
     "name": "stdout",
     "output_type": "stream",
     "text": [
      "name                 | typename                 | interpretation                \n",
      "---------------------+--------------------------+-------------------------------\n",
      "__experiment__       | int32_t                  | AsDtype('>i4')\n",
      "__run__              | int32_t                  | AsDtype('>i4')\n",
      "__event__            | int32_t                  | AsDtype('>i4')\n",
      "__candidate__        | int32_t                  | AsDtype('>i4')\n",
      "__ncandidates__      | int32_t                  | AsDtype('>i4')\n",
      "__weight__           | double                   | AsDtype('>f8')\n",
      "Mbc                  | double                   | AsDtype('>f8')\n",
      "deltaE               | double                   | AsDtype('>f8')\n",
      "px                   | double                   | AsDtype('>f8')\n",
      "py                   | double                   | AsDtype('>f8')\n",
      "pz                   | double                   | AsDtype('>f8')\n",
      "pt                   | double                   | AsDtype('>f8')\n",
      "p                    | double                   | AsDtype('>f8')\n",
      "E                    | double                   | AsDtype('>f8')\n",
      "mcE                  | double                   | AsDtype('>f8')\n",
      "mcP                  | double                   | AsDtype('>f8')\n",
      "mcPT                 | double                   | AsDtype('>f8')\n",
      "mcPX                 | double                   | AsDtype('>f8')\n",
      "mcPY                 | double                   | AsDtype('>f8')\n",
      "mcPZ                 | double                   | AsDtype('>f8')\n",
      "mcPhi                | double                   | AsDtype('>f8')\n",
      "isSignal             | double                   | AsDtype('>f8')\n",
      "mcErrors             | double                   | AsDtype('>f8')\n",
      "mcPDG                | double                   | AsDtype('>f8')\n",
      "ep_kaonID            | double                   | AsDtype('>f8')\n",
      "ep_pionID            | double                   | AsDtype('>f8')\n",
      "ep_protonID          | double                   | AsDtype('>f8')\n",
      "ep_muonID            | double                   | AsDtype('>f8')\n",
      "ep_electronID        | double                   | AsDtype('>f8')\n",
      "ep_deuteronID        | double                   | AsDtype('>f8')\n",
      "ep_dr                | double                   | AsDtype('>f8')\n",
      "ep_dx                | double                   | AsDtype('>f8')\n",
      "ep_dy                | double                   | AsDtype('>f8')\n",
      "ep_dz                | double                   | AsDtype('>f8')\n",
      "ep_d0                | double                   | AsDtype('>f8')\n",
      "ep_z0                | double                   | AsDtype('>f8')\n",
      "ep_pValue            | double                   | AsDtype('>f8')\n",
      "ep_ndf               | double                   | AsDtype('>f8')\n",
      "ep_nCDCHits          | double                   | AsDtype('>f8')\n",
      "ep_nPXDHits          | double                   | AsDtype('>f8')\n",
      "ep_nSVDHits          | double                   | AsDtype('>f8')\n",
      "ep_nVXDHits          | double                   | AsDtype('>f8')\n",
      "ep_px                | double                   | AsDtype('>f8')\n",
      "ep_py                | double                   | AsDtype('>f8')\n",
      "ep_pz                | double                   | AsDtype('>f8')\n",
      "ep_pt                | double                   | AsDtype('>f8')\n",
      "ep_p                 | double                   | AsDtype('>f8')\n",
      "ep_E                 | double                   | AsDtype('>f8')\n",
      "ep_mcE               | double                   | AsDtype('>f8')\n",
      "ep_mcP               | double                   | AsDtype('>f8')\n",
      "ep_mcPT              | double                   | AsDtype('>f8')\n",
      "ep_mcPX              | double                   | AsDtype('>f8')\n",
      "ep_mcPY              | double                   | AsDtype('>f8')\n",
      "ep_mcPZ              | double                   | AsDtype('>f8')\n",
      "ep_mcPhi             | double                   | AsDtype('>f8')\n",
      "ep_isSignal          | double                   | AsDtype('>f8')\n",
      "ep_mcErrors          | double                   | AsDtype('>f8')\n",
      "ep_mcPDG             | double                   | AsDtype('>f8')\n",
      "em_kaonID            | double                   | AsDtype('>f8')\n",
      "em_pionID            | double                   | AsDtype('>f8')\n",
      "em_protonID          | double                   | AsDtype('>f8')\n",
      "em_muonID            | double                   | AsDtype('>f8')\n",
      "em_electronID        | double                   | AsDtype('>f8')\n",
      "em_deuteronID        | double                   | AsDtype('>f8')\n",
      "em_dr                | double                   | AsDtype('>f8')\n",
      "em_dx                | double                   | AsDtype('>f8')\n",
      "em_dy                | double                   | AsDtype('>f8')\n",
      "em_dz                | double                   | AsDtype('>f8')\n",
      "em_d0                | double                   | AsDtype('>f8')\n",
      "em_z0                | double                   | AsDtype('>f8')\n",
      "em_pValue            | double                   | AsDtype('>f8')\n",
      "em_ndf               | double                   | AsDtype('>f8')\n",
      "em_nCDCHits          | double                   | AsDtype('>f8')\n",
      "em_nPXDHits          | double                   | AsDtype('>f8')\n",
      "em_nSVDHits          | double                   | AsDtype('>f8')\n",
      "em_nVXDHits          | double                   | AsDtype('>f8')\n",
      "em_px                | double                   | AsDtype('>f8')\n",
      "em_py                | double                   | AsDtype('>f8')\n",
      "em_pz                | double                   | AsDtype('>f8')\n",
      "em_pt                | double                   | AsDtype('>f8')\n",
      "em_p                 | double                   | AsDtype('>f8')\n",
      "em_E                 | double                   | AsDtype('>f8')\n",
      "em_mcE               | double                   | AsDtype('>f8')\n",
      "em_mcP               | double                   | AsDtype('>f8')\n",
      "em_mcPT              | double                   | AsDtype('>f8')\n",
      "em_mcPX              | double                   | AsDtype('>f8')\n",
      "em_mcPY              | double                   | AsDtype('>f8')\n",
      "em_mcPZ              | double                   | AsDtype('>f8')\n",
      "em_mcPhi             | double                   | AsDtype('>f8')\n",
      "em_isSignal          | double                   | AsDtype('>f8')\n",
      "em_mcErrors          | double                   | AsDtype('>f8')\n",
      "em_mcPDG             | double                   | AsDtype('>f8')\n",
      "pip_kaonID           | double                   | AsDtype('>f8')\n",
      "pip_pionID           | double                   | AsDtype('>f8')\n",
      "pip_protonID         | double                   | AsDtype('>f8')\n",
      "pip_muonID           | double                   | AsDtype('>f8')\n",
      "pip_electronID       | double                   | AsDtype('>f8')\n",
      "pip_deuteronID       | double                   | AsDtype('>f8')\n",
      "pip_dr               | double                   | AsDtype('>f8')\n",
      "pip_dx               | double                   | AsDtype('>f8')\n",
      "pip_dy               | double                   | AsDtype('>f8')\n",
      "pip_dz               | double                   | AsDtype('>f8')\n",
      "pip_d0               | double                   | AsDtype('>f8')\n",
      "pip_z0               | double                   | AsDtype('>f8')\n",
      "pip_pValue           | double                   | AsDtype('>f8')\n",
      "pip_ndf              | double                   | AsDtype('>f8')\n",
      "pip_nCDCHits         | double                   | AsDtype('>f8')\n",
      "pip_nPXDHits         | double                   | AsDtype('>f8')\n",
      "pip_nSVDHits         | double                   | AsDtype('>f8')\n",
      "pip_nVXDHits         | double                   | AsDtype('>f8')\n",
      "pip_px               | double                   | AsDtype('>f8')\n",
      "pip_py               | double                   | AsDtype('>f8')\n",
      "pip_pz               | double                   | AsDtype('>f8')\n",
      "pip_pt               | double                   | AsDtype('>f8')\n",
      "pip_p                | double                   | AsDtype('>f8')\n",
      "pip_E                | double                   | AsDtype('>f8')\n",
      "pip_mcE              | double                   | AsDtype('>f8')\n",
      "pip_mcP              | double                   | AsDtype('>f8')\n",
      "pip_mcPT             | double                   | AsDtype('>f8')\n",
      "pip_mcPX             | double                   | AsDtype('>f8')\n",
      "pip_mcPY             | double                   | AsDtype('>f8')\n",
      "pip_mcPZ             | double                   | AsDtype('>f8')\n",
      "pip_mcPhi            | double                   | AsDtype('>f8')\n",
      "pip_isSignal         | double                   | AsDtype('>f8')\n",
      "pip_mcErrors         | double                   | AsDtype('>f8')\n",
      "pip_mcPDG            | double                   | AsDtype('>f8')\n",
      "pim_kaonID           | double                   | AsDtype('>f8')\n",
      "pim_pionID           | double                   | AsDtype('>f8')\n",
      "pim_protonID         | double                   | AsDtype('>f8')\n",
      "pim_muonID           | double                   | AsDtype('>f8')\n",
      "pim_electronID       | double                   | AsDtype('>f8')\n",
      "pim_deuteronID       | double                   | AsDtype('>f8')\n",
      "pim_dr               | double                   | AsDtype('>f8')\n",
      "pim_dx               | double                   | AsDtype('>f8')\n",
      "pim_dy               | double                   | AsDtype('>f8')\n",
      "pim_dz               | double                   | AsDtype('>f8')\n",
      "pim_d0               | double                   | AsDtype('>f8')\n",
      "pim_z0               | double                   | AsDtype('>f8')\n",
      "pim_pValue           | double                   | AsDtype('>f8')\n",
      "pim_ndf              | double                   | AsDtype('>f8')\n",
      "pim_nCDCHits         | double                   | AsDtype('>f8')\n",
      "pim_nPXDHits         | double                   | AsDtype('>f8')\n",
      "pim_nSVDHits         | double                   | AsDtype('>f8')\n",
      "pim_nVXDHits         | double                   | AsDtype('>f8')\n",
      "pim_px               | double                   | AsDtype('>f8')\n",
      "pim_py               | double                   | AsDtype('>f8')\n",
      "pim_pz               | double                   | AsDtype('>f8')\n",
      "pim_pt               | double                   | AsDtype('>f8')\n",
      "pim_p                | double                   | AsDtype('>f8')\n",
      "pim_E                | double                   | AsDtype('>f8')\n",
      "pim_mcE              | double                   | AsDtype('>f8')\n",
      "pim_mcP              | double                   | AsDtype('>f8')\n",
      "pim_mcPT             | double                   | AsDtype('>f8')\n",
      "pim_mcPX             | double                   | AsDtype('>f8')\n",
      "pim_mcPY             | double                   | AsDtype('>f8')\n",
      "pim_mcPZ             | double                   | AsDtype('>f8')\n",
      "pim_mcPhi            | double                   | AsDtype('>f8')\n",
      "pim_isSignal         | double                   | AsDtype('>f8')\n",
      "pim_mcErrors         | double                   | AsDtype('>f8')\n",
      "pim_mcPDG            | double                   | AsDtype('>f8')\n"
     ]
    }
   ],
   "source": [
    "events = uproot.open(\"Bd2JpsiKS.root:tree;1\")\n",
    "events.show()"
   ]
  },
  {
   "cell_type": "code",
   "execution_count": 4,
   "metadata": {},
   "outputs": [
    {
     "data": {
      "text/plain": [
       "<Array [4.92, 4.8, 5.28, ... 5.05, 5.28, 4.73] type='68284 * float64'>"
      ]
     },
     "execution_count": 4,
     "metadata": {},
     "output_type": "execute_result"
    }
   ],
   "source": [
    "events[\"Mbc\"].array()"
   ]
  },
  {
   "cell_type": "code",
   "execution_count": 5,
   "metadata": {},
   "outputs": [
    {
     "data": {
      "image/png": "[encoded data removed]",
      "text/plain": [
       "<Figure size 432x288 with 1 Axes>"
      ]
     },
     "metadata": {
      "needs_background": "light"
     },
     "output_type": "display_data"
    }
   ],
   "source": [
    "plt.hist(events[\"Mbc\"].array(), bins=100, range=(4.3, 5.3))\n",
    "plt.xlabel(r'M$_{\\rm bc}$ [GeV/c$^{2}$]')\n",
    "plt.ylabel('Number of candidates')\n",
    "plt.xlim(4.3, 5.3)\n",
    "plt.savefig('Mbc_all.png')"
   ]
  },
  {
   "cell_type": "code",
   "execution_count": 6,
   "metadata": {},
   "outputs": [
    {
     "data": {
      "image/png": "[encoded data removed]",
      "text/plain": [
       "<Figure size 432x288 with 2 Axes>"
      ]
     },
     "metadata": {
      "needs_background": "light"
     },
     "output_type": "display_data"
    }
   ],
   "source": [
    "df = pd.DataFrame(\n",
    "{\"Mbc\" : events[\"Mbc\"].array(),\n",
    "\"isSignal\" :  events[\"isSignal\"].array()})\n",
    "\n",
    "df.hist('Mbc', bins=100, range=(4.3, 5.3), by='isSignal')\n",
    "plt.xlabel(r'M$_{\\rm bc}$ [GeV/c$^{2}$]')\n",
    "plt.ylabel('Number of candidates')\n",
    "plt.xlim(4.3, 5.3)\n",
    "plt.savefig('Mbc_all.png')"
   ]
  },
  {
   "cell_type": "code",
   "execution_count": 7,
   "metadata": {},
   "outputs": [
    {
     "data": {
      "text/plain": [
       "<Array [0, 0, 1, 0, 0, 0, ... 0, 0, 0, 0, 1, 0] type='68284 * float64'>"
      ]
     },
     "execution_count": 7,
     "metadata": {},
     "output_type": "execute_result"
    }
   ],
   "source": [
    "events[\"isSignal\"].array()"
   ]
  },
  {
   "cell_type": "code",
   "execution_count": 8,
   "metadata": {},
   "outputs": [
    {
     "data": {
      "text/plain": [
       "['tree;1']"
      ]
     },
     "execution_count": 8,
     "metadata": {},
     "output_type": "execute_result"
    }
   ],
   "source": [
    "file = uproot.open(\"Mbc_isSignal_cut.root\")\n",
    "file.keys()"
   ]
  },
  {
   "cell_type": "code",
   "execution_count": 10,
   "metadata": {},
   "outputs": [
    {
     "data": {
      "text/plain": [
       "(4.3, 5.3)"
      ]
     },
     "execution_count": 10,
     "metadata": {},
     "output_type": "execute_result"
    },
    {
     "data": {
      "image/png": "[encoded data removed]",
      "text/plain": [
       "<Figure size 432x288 with 1 Axes>"
      ]
     },
     "metadata": {
      "needs_background": "light"
     },
     "output_type": "display_data"
    }
   ],
   "source": [
    "events = uproot.open(\"Mbc_isSignal_cut.root:tree;1\")\n",
    "plt.hist(events[\"Mbc\"].array(), bins=100, range=(4.3, 5.3))\n",
    "plt.xlabel(r'M$_{\\rm bc}$ [GeV/c$^{2}$]')\n",
    "plt.ylabel('Number of candidates')\n",
    "plt.xlim(4.3, 5.3)"
   ]
  },
  {
   "cell_type": "code",
   "execution_count": null,
   "metadata": {},
   "outputs": [],
   "source": []
  }
 ],
 "metadata": {
  "kernelspec": {
   "display_name": "Python 3",
   "language": "python",
   "name": "python3"
  },
  "language_info": {
   "codemirror_mode": {
    "name": "ipython",
    "version": 3
   },
   "file_extension": ".py",
   "mimetype": "text/x-python",
   "name": "python",
   "nbconvert_exporter": "python",
   "pygments_lexer": "ipython3",
   "version": "3.8.6"
  }
 },
 "nbformat": 4,
 "nbformat_minor": 4
}
